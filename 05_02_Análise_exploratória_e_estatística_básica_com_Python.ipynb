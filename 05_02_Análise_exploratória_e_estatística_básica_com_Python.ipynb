{
  "nbformat": 4,
  "nbformat_minor": 0,
  "metadata": {
    "colab": {
      "name": "05/02 - Análise exploratória e estatística básica com Python.ipynb",
      "provenance": [],
      "collapsed_sections": [],
      "toc_visible": true,
      "authorship_tag": "ABX9TyPfUPms9lnRN+JwQRP49dJY",
      "include_colab_link": true
    },
    "kernelspec": {
      "name": "python3",
      "display_name": "Python 3"
    }
  },
  "cells": [
    {
      "cell_type": "markdown",
      "metadata": {
        "id": "view-in-github",
        "colab_type": "text"
      },
      "source": [
        "<a href=\"https://colab.research.google.com/github/rcsbiotech/python-gbmeeting-2021/blob/main/05_02_An%C3%A1lise_explorat%C3%B3ria_e_estat%C3%ADstica_b%C3%A1sica_com_Python.ipynb\" target=\"_parent\"><img src=\"https://colab.research.google.com/assets/colab-badge.svg\" alt=\"Open In Colab\"/></a>"
      ]
    },
    {
      "cell_type": "markdown",
      "metadata": {
        "id": "gHrkGRlw_NyV"
      },
      "source": [
        "# Python for GBmeeters - dia 05\r\n",
        "## Análise exploratória e estatística básica com Python\r\n",
        "\r\n",
        "O objetivo do tema de hoje é percorrer uma análise exploratória de dados, tentando extrair respostas ou explicações de tabelas com alguma relação entre si.\r\n",
        "\r\n",
        "Para esse fim, as linguagens utilizadas mais comum são a Python e a R, que possuem muitas funcionalidades similares que permitem a análise completa em qualquer uma das plataformas.\r\n",
        "\r\n",
        "Assim, o a ordem de execução da aula será:\r\n",
        "\r\n",
        "1. Sobre as bibliotecas utilizadas;\r\n",
        "2. Sobre os conjuntos de dados que vamos explorar;\r\n",
        "3. O preparo dos dados para a exploração e\r\n",
        "4. A geração das respostas propriamente ditas.\r\n",
        "\r\n",
        "## Sobre análise exploratória\r\n",
        "\r\n",
        "J. W. Tukey propõe que \"análise exploratória de dados\" deve ser uma atitude, um estado de flexibilidade, que assim como a experimentação em bancada, deve er considerada com uma atividade cujas possibilidades são infindáveis, e cuja condução deve ser altamente interativa e iterativa, em que cada etapa é uma árvore de ações possíveis.\r\n",
        "\r\n",
        "## Desafios de hoje\r\n",
        "\r\n",
        "- Verificar se há correlação entre as diferentes matrizes;\r\n",
        "- Testar se alguma diferença categória explica as médias de casos.\r\n",
        "\r\n"
      ]
    },
    {
      "cell_type": "markdown",
      "metadata": {
        "id": "PzLQVfxRurWK"
      },
      "source": [
        "# Importando as bibliotecas\r\n",
        "\r\n",
        "Como já foi mostrado nos pedaços anteriores do curso, primeiro vamos importar alguns conjuntos de bibliotecas que serão muito úteis para o processamento dos dados.\r\n",
        "\r\n",
        "---\r\n",
        "## Sobre as bibliotecas\r\n",
        "\r\n",
        "Nas seções abaixo, comentamos brevemente sobre as bibliotecas que utilizaremos na análise exploratória, que são canônicas para muitissimos usos de Python nas ciências.\r\n",
        "\r\n",
        "![img00Packages](https://i.imgur.com/BgDDu6n.png)\r\n",
        "\r\n",
        "---\r\n",
        "### NumPy\r\n",
        "\r\n",
        "A Numpy é a biblioteca padrão para operações em um tipo de dados parecido com vetor, os arranjos. A partir desses arranjos, ela contém operações matemáticas rebuscadas, como operações trigonométricas, algébricas e estatísticas.\r\n",
        "\r\n",
        "Um bom guia para entender o NumPy é: https://numpy.org/devdocs/user/absolute_beginners.html\r\n",
        "\r\n",
        "---\r\n",
        "\r\n",
        "### Pandas\r\n",
        "\r\n",
        "Como já dado na aula do Renato Santos, o Pandas, por sua vez, é uma biblioteca muito popular para manipulação e análises de dados. Como mostraremos, esse pacote é muito interessante para transformar tabelas, dando formas interessantes e viáveis de análise.\r\n",
        "\r\n",
        "---\r\n",
        "\r\n",
        "### Matplotlib\r\n",
        "\r\n",
        "Esta é a principal biblioteca de referência para gerar gráficos com a Python, similar ao pacote \"ggplot2\" da linguagem R. O site para referência é: https://matplotlib.org/. \r\n",
        "\r\n",
        "O uso mais interessante dele é produzir os mais diversos tipos de figuras, que permitem revirar dados de formas interessantes.\r\n",
        "\r\n",
        "---\r\n",
        "\r\n",
        "### SciPy\r\n",
        "\r\n",
        "Assim como o NumPy, o SciPy também é uma biblioteca avançada, mas que contém funções complexas aplicáveis às ciências, engenharia e matemática. Na verdade, o Pandas, Matplotlib e o NumPy pertencem ao ecossistema da SciPy.\r\n",
        "\r\n",
        "---"
      ]
    },
    {
      "cell_type": "markdown",
      "metadata": {
        "id": "Tdi7pGrR_MVm"
      },
      "source": [
        ""
      ]
    },
    {
      "cell_type": "code",
      "metadata": {
        "id": "IHhq51lYsU5n",
        "colab": {
          "base_uri": "https://localhost:8080/"
        },
        "outputId": "54ae7785-ee1a-43bc-859b-e64e9920aec2"
      },
      "source": [
        "## Pacotes clássicos\r\n",
        "import numpy as np\r\n",
        "import pandas as pd\r\n",
        "import scipy.stats as sps\r\n",
        "import matplotlib as mp\r\n",
        "import matplotlib.pyplot as plt\r\n",
        "\r\n",
        "## Pacotes de estatística\r\n",
        "import statsmodels.stats.multicomp as stats\r\n",
        "\r\n",
        "## Vamos usar também um pacote específico para o colab, que permite manipular figuras\r\n",
        "from google.colab import drive\r\n",
        "drive.mount('/content/gdrive')\r\n",
        "images_dir = '/content/gdrive/My Drive/Images'"
      ],
      "execution_count": 485,
      "outputs": [
        {
          "output_type": "stream",
          "text": [
            "Drive already mounted at /content/gdrive; to attempt to forcibly remount, call drive.mount(\"/content/gdrive\", force_remount=True).\n"
          ],
          "name": "stdout"
        }
      ]
    },
    {
      "cell_type": "markdown",
      "metadata": {
        "id": "yxRWfb33xWP2"
      },
      "source": [
        "# Os conjuntos de dados: \"COVID\", \"CAGED\", \"PRICE\" e \"BRAZIL\"\r\n",
        "\r\n",
        "Talvez a etapa mais importante para inferir alguma coisa de conjuntos de dados é entender o que os dados são, e se possivelmente existe relação entre eles.\r\n",
        "\r\n",
        "A seguir, descrevemos brevemente os dados utilizados, sua estrutura, e as informações que contém.\r\n",
        "\r\n",
        "Os dados podem ser baixados [neste link](https://drive.google.com/file/d/1shA13aulqT10rVJgVJs-Ccn15kDHOOfS/view?usp=drivesdk).\r\n",
        "\r\n",
        "Faça o upload deles no Colab, e os insira na pasta \"CovidDS\".\r\n",
        "\r\n",
        "## Dataset: COVID\r\n",
        "\r\n",
        "É o conjunto de dados oficial disponibilizado pelo Ministério da Saúde até 13 de Janeiro de 2021, que contém o número de novos casos ativos e recuperados por região e estado.\r\n",
        "\r\n",
        "## Dataset: CAGED\r\n",
        "\r\n",
        "Este conjunto de dados foi retirado do IPEA (Instituto de Pesquisa Econômica Aplicada) e registra o número de pessoas que foram desempregadas no período de janeiro de 2020 até outubro de 2020. Potencialmente existe uma correlação por estado entre o número de casos de COVID e o número de pessoas que foram demitidas. \r\n",
        "\r\n",
        "Ou quanto mais casos mais pessoas foram empregadas?\r\n",
        "\r\n",
        "## Dataset: PRICE\r\n",
        "\r\n",
        "Também um dado retirado do IPEA, que reflete o preço das cestas básicas nas capitais do Brasil. Não sabemos se há, mas é possível que os preços dos alimentos estejam correlacionados ou sejam explicados ou pelos números de casos de COVID, ou pelo número de novos desempregados. \r\n",
        "\r\n",
        "## Dataset: BRAZIL\r\n",
        "\r\n",
        "São um conjunto de variáveis qualitativas (sem números) e quantitativas (numéricas), com diversas características arbitrárias sobre o Brasil, que possivelmente explicariam aumentos e decréscimos nos casos de COVID.\r\n",
        "\r\n",
        "Alguns exemplos:\r\n",
        "- Se o estado é litorâneo ou não;\r\n",
        "- O número de estradas por estado;\r\n",
        "- O número de aeroportos por estado.\r\n"
      ]
    },
    {
      "cell_type": "code",
      "metadata": {
        "colab": {
          "base_uri": "https://localhost:8080/",
          "height": 206
        },
        "id": "Eb-8cDqsy5JS",
        "outputId": "8140a31e-8eda-435e-f631-86bf6f44f59b"
      },
      "source": [
        "## Lendo os dados\r\n",
        "df_covid = pd.read_csv(\"./CovidDS/brazil_covid19.csv\")\r\n",
        "df_caged = pd.read_csv(\"./CovidDS/caged-ipeadata11-01-2021-09-05.xls\")\r\n",
        "df_price = pd.read_csv(\"./CovidDS/fixed-dieese-ipeadata(11-01-2021-10-03).xls\")\r\n",
        "df_brdat = pd.read_csv(\"./CovidDS/brasil.csv\", sep=\";\")\r\n",
        "\r\n",
        "## Pedaço \"cabeça\" da tabela COVID\r\n",
        "df_covid.head()"
      ],
      "execution_count": 486,
      "outputs": [
        {
          "output_type": "execute_result",
          "data": {
            "text/html": [
              "<div>\n",
              "<style scoped>\n",
              "    .dataframe tbody tr th:only-of-type {\n",
              "        vertical-align: middle;\n",
              "    }\n",
              "\n",
              "    .dataframe tbody tr th {\n",
              "        vertical-align: top;\n",
              "    }\n",
              "\n",
              "    .dataframe thead th {\n",
              "        text-align: right;\n",
              "    }\n",
              "</style>\n",
              "<table border=\"1\" class=\"dataframe\">\n",
              "  <thead>\n",
              "    <tr style=\"text-align: right;\">\n",
              "      <th></th>\n",
              "      <th>date</th>\n",
              "      <th>region</th>\n",
              "      <th>state</th>\n",
              "      <th>cases</th>\n",
              "      <th>deaths</th>\n",
              "    </tr>\n",
              "  </thead>\n",
              "  <tbody>\n",
              "    <tr>\n",
              "      <th>0</th>\n",
              "      <td>2020-02-25</td>\n",
              "      <td>Centro-Oeste</td>\n",
              "      <td>DF</td>\n",
              "      <td>0</td>\n",
              "      <td>0</td>\n",
              "    </tr>\n",
              "    <tr>\n",
              "      <th>1</th>\n",
              "      <td>2020-02-25</td>\n",
              "      <td>Centro-Oeste</td>\n",
              "      <td>GO</td>\n",
              "      <td>0</td>\n",
              "      <td>0</td>\n",
              "    </tr>\n",
              "    <tr>\n",
              "      <th>2</th>\n",
              "      <td>2020-02-25</td>\n",
              "      <td>Centro-Oeste</td>\n",
              "      <td>MS</td>\n",
              "      <td>0</td>\n",
              "      <td>0</td>\n",
              "    </tr>\n",
              "    <tr>\n",
              "      <th>3</th>\n",
              "      <td>2020-02-25</td>\n",
              "      <td>Centro-Oeste</td>\n",
              "      <td>MT</td>\n",
              "      <td>0</td>\n",
              "      <td>0</td>\n",
              "    </tr>\n",
              "    <tr>\n",
              "      <th>4</th>\n",
              "      <td>2020-02-25</td>\n",
              "      <td>Nordeste</td>\n",
              "      <td>AL</td>\n",
              "      <td>0</td>\n",
              "      <td>0</td>\n",
              "    </tr>\n",
              "  </tbody>\n",
              "</table>\n",
              "</div>"
            ],
            "text/plain": [
              "         date        region state  cases  deaths\n",
              "0  2020-02-25  Centro-Oeste    DF      0       0\n",
              "1  2020-02-25  Centro-Oeste    GO      0       0\n",
              "2  2020-02-25  Centro-Oeste    MS      0       0\n",
              "3  2020-02-25  Centro-Oeste    MT      0       0\n",
              "4  2020-02-25      Nordeste    AL      0       0"
            ]
          },
          "metadata": {
            "tags": []
          },
          "execution_count": 486
        }
      ]
    },
    {
      "cell_type": "code",
      "metadata": {
        "colab": {
          "base_uri": "https://localhost:8080/",
          "height": 206
        },
        "id": "grdxo1P-MLUA",
        "outputId": "2187a107-e6b1-448c-97a5-f154c84c8543"
      },
      "source": [
        "# Pedaço da tabela \"CAGED\" de desempregados\r\n",
        "df_caged.head()"
      ],
      "execution_count": 487,
      "outputs": [
        {
          "output_type": "execute_result",
          "data": {
            "text/html": [
              "<div>\n",
              "<style scoped>\n",
              "    .dataframe tbody tr th:only-of-type {\n",
              "        vertical-align: middle;\n",
              "    }\n",
              "\n",
              "    .dataframe tbody tr th {\n",
              "        vertical-align: top;\n",
              "    }\n",
              "\n",
              "    .dataframe thead th {\n",
              "        text-align: right;\n",
              "    }\n",
              "</style>\n",
              "<table border=\"1\" class=\"dataframe\">\n",
              "  <thead>\n",
              "    <tr style=\"text-align: right;\">\n",
              "      <th></th>\n",
              "      <th>Sigla</th>\n",
              "      <th>Código</th>\n",
              "      <th>Estado</th>\n",
              "      <th>D2020.01</th>\n",
              "      <th>D2020.02</th>\n",
              "      <th>D2020.03</th>\n",
              "      <th>D2020.04</th>\n",
              "      <th>D2020.05</th>\n",
              "      <th>D2020.06</th>\n",
              "      <th>D2020.07</th>\n",
              "      <th>D2020.08</th>\n",
              "      <th>D2020.09</th>\n",
              "      <th>D2020.10</th>\n",
              "    </tr>\n",
              "  </thead>\n",
              "  <tbody>\n",
              "    <tr>\n",
              "      <th>0</th>\n",
              "      <td>AC</td>\n",
              "      <td>12</td>\n",
              "      <td>Acre</td>\n",
              "      <td>2179</td>\n",
              "      <td>1802</td>\n",
              "      <td>2238</td>\n",
              "      <td>1805</td>\n",
              "      <td>1405</td>\n",
              "      <td>1423</td>\n",
              "      <td>1521</td>\n",
              "      <td>1664</td>\n",
              "      <td>1632</td>\n",
              "      <td>1725</td>\n",
              "    </tr>\n",
              "    <tr>\n",
              "      <th>1</th>\n",
              "      <td>AL</td>\n",
              "      <td>27</td>\n",
              "      <td>Alagoas</td>\n",
              "      <td>12236</td>\n",
              "      <td>16654</td>\n",
              "      <td>12578</td>\n",
              "      <td>9855</td>\n",
              "      <td>7371</td>\n",
              "      <td>4697</td>\n",
              "      <td>5483</td>\n",
              "      <td>5710</td>\n",
              "      <td>5952</td>\n",
              "      <td>5939</td>\n",
              "    </tr>\n",
              "    <tr>\n",
              "      <th>2</th>\n",
              "      <td>AM</td>\n",
              "      <td>13</td>\n",
              "      <td>Amazonas</td>\n",
              "      <td>11943</td>\n",
              "      <td>10607</td>\n",
              "      <td>13602</td>\n",
              "      <td>14292</td>\n",
              "      <td>10346</td>\n",
              "      <td>8126</td>\n",
              "      <td>9223</td>\n",
              "      <td>8599</td>\n",
              "      <td>9751</td>\n",
              "      <td>10344</td>\n",
              "    </tr>\n",
              "    <tr>\n",
              "      <th>3</th>\n",
              "      <td>AP</td>\n",
              "      <td>16</td>\n",
              "      <td>Amapá</td>\n",
              "      <td>1831</td>\n",
              "      <td>1562</td>\n",
              "      <td>1613</td>\n",
              "      <td>1341</td>\n",
              "      <td>1007</td>\n",
              "      <td>998</td>\n",
              "      <td>1601</td>\n",
              "      <td>1363</td>\n",
              "      <td>1245</td>\n",
              "      <td>1235</td>\n",
              "    </tr>\n",
              "    <tr>\n",
              "      <th>4</th>\n",
              "      <td>BA</td>\n",
              "      <td>29</td>\n",
              "      <td>Bahia</td>\n",
              "      <td>45832</td>\n",
              "      <td>41478</td>\n",
              "      <td>57354</td>\n",
              "      <td>55652</td>\n",
              "      <td>41697</td>\n",
              "      <td>32099</td>\n",
              "      <td>31638</td>\n",
              "      <td>34344</td>\n",
              "      <td>33773</td>\n",
              "      <td>37962</td>\n",
              "    </tr>\n",
              "  </tbody>\n",
              "</table>\n",
              "</div>"
            ],
            "text/plain": [
              "  Sigla  Código    Estado  D2020.01  ...  D2020.07  D2020.08  D2020.09  D2020.10\n",
              "0    AC      12      Acre      2179  ...      1521      1664      1632      1725\n",
              "1    AL      27   Alagoas     12236  ...      5483      5710      5952      5939\n",
              "2    AM      13  Amazonas     11943  ...      9223      8599      9751     10344\n",
              "3    AP      16     Amapá      1831  ...      1601      1363      1245      1235\n",
              "4    BA      29     Bahia     45832  ...     31638     34344     33773     37962\n",
              "\n",
              "[5 rows x 13 columns]"
            ]
          },
          "metadata": {
            "tags": []
          },
          "execution_count": 487
        }
      ]
    },
    {
      "cell_type": "code",
      "metadata": {
        "colab": {
          "base_uri": "https://localhost:8080/",
          "height": 206
        },
        "id": "BjL4hE60MS5W",
        "outputId": "b34ce5fc-0a1b-493d-a618-83dcfe38b6ae"
      },
      "source": [
        "# Pedaço da tabela \"PRICE\" do preço dos alimentos\r\n",
        "df_price.head(5)"
      ],
      "execution_count": 488,
      "outputs": [
        {
          "output_type": "execute_result",
          "data": {
            "text/html": [
              "<div>\n",
              "<style scoped>\n",
              "    .dataframe tbody tr th:only-of-type {\n",
              "        vertical-align: middle;\n",
              "    }\n",
              "\n",
              "    .dataframe tbody tr th {\n",
              "        vertical-align: top;\n",
              "    }\n",
              "\n",
              "    .dataframe thead th {\n",
              "        text-align: right;\n",
              "    }\n",
              "</style>\n",
              "<table border=\"1\" class=\"dataframe\">\n",
              "  <thead>\n",
              "    <tr style=\"text-align: right;\">\n",
              "      <th></th>\n",
              "      <th>Sigla</th>\n",
              "      <th>Município</th>\n",
              "      <th>P2020.01</th>\n",
              "      <th>P2020.02</th>\n",
              "      <th>P2020.03</th>\n",
              "      <th>P2020.04</th>\n",
              "      <th>P2020.05</th>\n",
              "      <th>P2020.06</th>\n",
              "      <th>P2020.07</th>\n",
              "      <th>P2020.08</th>\n",
              "      <th>P2020.09</th>\n",
              "      <th>P2020.10</th>\n",
              "    </tr>\n",
              "  </thead>\n",
              "  <tbody>\n",
              "    <tr>\n",
              "      <th>0</th>\n",
              "      <td>AC</td>\n",
              "      <td>Rio Branco</td>\n",
              "      <td>NaN</td>\n",
              "      <td>NaN</td>\n",
              "      <td>NaN</td>\n",
              "      <td>NaN</td>\n",
              "      <td>NaN</td>\n",
              "      <td>NaN</td>\n",
              "      <td>NaN</td>\n",
              "      <td>NaN</td>\n",
              "      <td>NaN</td>\n",
              "      <td>NaN</td>\n",
              "    </tr>\n",
              "    <tr>\n",
              "      <th>1</th>\n",
              "      <td>AL</td>\n",
              "      <td>Maceió</td>\n",
              "      <td>NaN</td>\n",
              "      <td>NaN</td>\n",
              "      <td>NaN</td>\n",
              "      <td>NaN</td>\n",
              "      <td>NaN</td>\n",
              "      <td>NaN</td>\n",
              "      <td>NaN</td>\n",
              "      <td>NaN</td>\n",
              "      <td>NaN</td>\n",
              "      <td>NaN</td>\n",
              "    </tr>\n",
              "    <tr>\n",
              "      <th>2</th>\n",
              "      <td>AM</td>\n",
              "      <td>Manaus</td>\n",
              "      <td>NaN</td>\n",
              "      <td>NaN</td>\n",
              "      <td>NaN</td>\n",
              "      <td>NaN</td>\n",
              "      <td>NaN</td>\n",
              "      <td>NaN</td>\n",
              "      <td>NaN</td>\n",
              "      <td>NaN</td>\n",
              "      <td>NaN</td>\n",
              "      <td>NaN</td>\n",
              "    </tr>\n",
              "    <tr>\n",
              "      <th>3</th>\n",
              "      <td>AP</td>\n",
              "      <td>Macapá</td>\n",
              "      <td>NaN</td>\n",
              "      <td>NaN</td>\n",
              "      <td>NaN</td>\n",
              "      <td>NaN</td>\n",
              "      <td>NaN</td>\n",
              "      <td>NaN</td>\n",
              "      <td>NaN</td>\n",
              "      <td>NaN</td>\n",
              "      <td>NaN</td>\n",
              "      <td>NaN</td>\n",
              "    </tr>\n",
              "    <tr>\n",
              "      <th>4</th>\n",
              "      <td>BA</td>\n",
              "      <td>Salvador</td>\n",
              "      <td>376.49</td>\n",
              "      <td>395.49</td>\n",
              "      <td>408.06</td>\n",
              "      <td>425.12</td>\n",
              "      <td>410.33</td>\n",
              "      <td>419.18</td>\n",
              "      <td>415.22</td>\n",
              "      <td>418.72</td>\n",
              "      <td>459.33</td>\n",
              "      <td>454.5</td>\n",
              "    </tr>\n",
              "  </tbody>\n",
              "</table>\n",
              "</div>"
            ],
            "text/plain": [
              "  Sigla   Município  P2020.01  P2020.02  ...  P2020.07  P2020.08  P2020.09  P2020.10\n",
              "0    AC  Rio Branco       NaN       NaN  ...       NaN       NaN       NaN       NaN\n",
              "1    AL      Maceió       NaN       NaN  ...       NaN       NaN       NaN       NaN\n",
              "2    AM      Manaus       NaN       NaN  ...       NaN       NaN       NaN       NaN\n",
              "3    AP      Macapá       NaN       NaN  ...       NaN       NaN       NaN       NaN\n",
              "4    BA    Salvador    376.49    395.49  ...    415.22    418.72    459.33     454.5\n",
              "\n",
              "[5 rows x 12 columns]"
            ]
          },
          "metadata": {
            "tags": []
          },
          "execution_count": 488
        }
      ]
    },
    {
      "cell_type": "code",
      "metadata": {
        "colab": {
          "base_uri": "https://localhost:8080/",
          "height": 435
        },
        "id": "z2joTOiBI-Un",
        "outputId": "a8c10ada-3829-4c42-9f9c-13f81c09c0d0"
      },
      "source": [
        "# E também da tabela Brasil\r\n",
        "df_brdat.head(10)"
      ],
      "execution_count": 489,
      "outputs": [
        {
          "output_type": "execute_result",
          "data": {
            "text/html": [
              "<div>\n",
              "<style scoped>\n",
              "    .dataframe tbody tr th:only-of-type {\n",
              "        vertical-align: middle;\n",
              "    }\n",
              "\n",
              "    .dataframe tbody tr th {\n",
              "        vertical-align: top;\n",
              "    }\n",
              "\n",
              "    .dataframe thead th {\n",
              "        text-align: right;\n",
              "    }\n",
              "</style>\n",
              "<table border=\"1\" class=\"dataframe\">\n",
              "  <thead>\n",
              "    <tr style=\"text-align: right;\">\n",
              "      <th></th>\n",
              "      <th>Estados</th>\n",
              "      <th>Capitais</th>\n",
              "      <th>Sigla</th>\n",
              "      <th>Regiao</th>\n",
              "      <th>Litoraneo</th>\n",
              "      <th>FronteiraSeca</th>\n",
              "      <th>AreaKM2</th>\n",
              "      <th>Populacao2020</th>\n",
              "      <th>DensidadeDemografica2010</th>\n",
              "      <th>MatriculaFundamental2018</th>\n",
              "      <th>IDH2010</th>\n",
              "      <th>ReceitaEstadual2017</th>\n",
              "      <th>DespesaEstadual2017</th>\n",
              "      <th>RendaDomicilar2019</th>\n",
              "      <th>Veiculos2018</th>\n",
              "    </tr>\n",
              "  </thead>\n",
              "  <tbody>\n",
              "    <tr>\n",
              "      <th>0</th>\n",
              "      <td>Acre</td>\n",
              "      <td>Rio Branco</td>\n",
              "      <td>AC</td>\n",
              "      <td>NO</td>\n",
              "      <td>LitoraneoNao</td>\n",
              "      <td>FronteiraSim</td>\n",
              "      <td>164123.964</td>\n",
              "      <td>894470</td>\n",
              "      <td>4.47</td>\n",
              "      <td>157646</td>\n",
              "      <td>0.663</td>\n",
              "      <td>6.632883e+06</td>\n",
              "      <td>6.084417e+06</td>\n",
              "      <td>890</td>\n",
              "      <td>277831</td>\n",
              "    </tr>\n",
              "    <tr>\n",
              "      <th>1</th>\n",
              "      <td>Alagoas</td>\n",
              "      <td>Maceió</td>\n",
              "      <td>AL</td>\n",
              "      <td>NE</td>\n",
              "      <td>LitoraneoSim</td>\n",
              "      <td>FronteiraNao</td>\n",
              "      <td>27843.295</td>\n",
              "      <td>3351543</td>\n",
              "      <td>112.33</td>\n",
              "      <td>490587</td>\n",
              "      <td>0.631</td>\n",
              "      <td>1.195044e+07</td>\n",
              "      <td>1.046063e+07</td>\n",
              "      <td>731</td>\n",
              "      <td>834827</td>\n",
              "    </tr>\n",
              "    <tr>\n",
              "      <th>2</th>\n",
              "      <td>Amapá</td>\n",
              "      <td>Macapá</td>\n",
              "      <td>AP</td>\n",
              "      <td>NO</td>\n",
              "      <td>LitoraneoSim</td>\n",
              "      <td>FronteiraSim</td>\n",
              "      <td>142470.762</td>\n",
              "      <td>861773</td>\n",
              "      <td>4.69</td>\n",
              "      <td>136185</td>\n",
              "      <td>0.708</td>\n",
              "      <td>5.396417e+06</td>\n",
              "      <td>4.224464e+06</td>\n",
              "      <td>880</td>\n",
              "      <td>195039</td>\n",
              "    </tr>\n",
              "    <tr>\n",
              "      <th>3</th>\n",
              "      <td>Amazonas</td>\n",
              "      <td>Manaus</td>\n",
              "      <td>AM</td>\n",
              "      <td>NO</td>\n",
              "      <td>LitoraneoNao</td>\n",
              "      <td>FronteiraSim</td>\n",
              "      <td>1559167.889</td>\n",
              "      <td>4207714</td>\n",
              "      <td>2.23</td>\n",
              "      <td>705007</td>\n",
              "      <td>0.674</td>\n",
              "      <td>1.732846e+07</td>\n",
              "      <td>1.532490e+07</td>\n",
              "      <td>842</td>\n",
              "      <td>883083</td>\n",
              "    </tr>\n",
              "    <tr>\n",
              "      <th>4</th>\n",
              "      <td>Bahia</td>\n",
              "      <td>Salvador</td>\n",
              "      <td>BA</td>\n",
              "      <td>NE</td>\n",
              "      <td>LitoraneoSim</td>\n",
              "      <td>FronteiraNao</td>\n",
              "      <td>564760.427</td>\n",
              "      <td>14930634</td>\n",
              "      <td>24.82</td>\n",
              "      <td>2034711</td>\n",
              "      <td>0.660</td>\n",
              "      <td>5.019100e+07</td>\n",
              "      <td>4.557016e+07</td>\n",
              "      <td>913</td>\n",
              "      <td>4139107</td>\n",
              "    </tr>\n",
              "    <tr>\n",
              "      <th>5</th>\n",
              "      <td>Ceará</td>\n",
              "      <td>Fortaleza</td>\n",
              "      <td>CE</td>\n",
              "      <td>NE</td>\n",
              "      <td>LitoraneoSim</td>\n",
              "      <td>FronteiraNao</td>\n",
              "      <td>148894.441</td>\n",
              "      <td>9187103</td>\n",
              "      <td>56.76</td>\n",
              "      <td>1198116</td>\n",
              "      <td>0.682</td>\n",
              "      <td>2.842022e+07</td>\n",
              "      <td>2.460835e+07</td>\n",
              "      <td>942</td>\n",
              "      <td>3148369</td>\n",
              "    </tr>\n",
              "    <tr>\n",
              "      <th>6</th>\n",
              "      <td>Distrito Federal*</td>\n",
              "      <td>Brasília</td>\n",
              "      <td>DF</td>\n",
              "      <td>CO</td>\n",
              "      <td>LitoraneoNao</td>\n",
              "      <td>FronteiraNao</td>\n",
              "      <td>5760.783</td>\n",
              "      <td>3055149</td>\n",
              "      <td>444.66</td>\n",
              "      <td>377622</td>\n",
              "      <td>0.824</td>\n",
              "      <td>2.381221e+07</td>\n",
              "      <td>2.199046e+07</td>\n",
              "      <td>2686</td>\n",
              "      <td>1812473</td>\n",
              "    </tr>\n",
              "    <tr>\n",
              "      <th>7</th>\n",
              "      <td>Espírito Santo</td>\n",
              "      <td>Vitória</td>\n",
              "      <td>ES</td>\n",
              "      <td>SE</td>\n",
              "      <td>LitoraneoSim</td>\n",
              "      <td>FronteiraNao</td>\n",
              "      <td>46074.447</td>\n",
              "      <td>4064052</td>\n",
              "      <td>76.25</td>\n",
              "      <td>502059</td>\n",
              "      <td>0.740</td>\n",
              "      <td>1.968562e+07</td>\n",
              "      <td>1.439234e+07</td>\n",
              "      <td>1477</td>\n",
              "      <td>1936862</td>\n",
              "    </tr>\n",
              "    <tr>\n",
              "      <th>8</th>\n",
              "      <td>Goiás</td>\n",
              "      <td>Goiânia</td>\n",
              "      <td>GO</td>\n",
              "      <td>CO</td>\n",
              "      <td>LitoraneoNao</td>\n",
              "      <td>FronteiraNao</td>\n",
              "      <td>340203.329</td>\n",
              "      <td>7113540</td>\n",
              "      <td>17.65</td>\n",
              "      <td>877593</td>\n",
              "      <td>0.735</td>\n",
              "      <td>3.788534e+07</td>\n",
              "      <td>2.424838e+07</td>\n",
              "      <td>1306</td>\n",
              "      <td>3909429</td>\n",
              "    </tr>\n",
              "    <tr>\n",
              "      <th>9</th>\n",
              "      <td>Maranhão</td>\n",
              "      <td>São Luís</td>\n",
              "      <td>MA</td>\n",
              "      <td>NE</td>\n",
              "      <td>LitoraneoSim</td>\n",
              "      <td>FronteiraNao</td>\n",
              "      <td>329642.182</td>\n",
              "      <td>7114598</td>\n",
              "      <td>19.81</td>\n",
              "      <td>1178949</td>\n",
              "      <td>0.639</td>\n",
              "      <td>1.850326e+07</td>\n",
              "      <td>1.762717e+07</td>\n",
              "      <td>636</td>\n",
              "      <td>1696683</td>\n",
              "    </tr>\n",
              "  </tbody>\n",
              "</table>\n",
              "</div>"
            ],
            "text/plain": [
              "             Estados    Capitais  ... RendaDomicilar2019 Veiculos2018\n",
              "0               Acre  Rio Branco  ...                890       277831\n",
              "1            Alagoas      Maceió  ...                731       834827\n",
              "2              Amapá      Macapá  ...                880       195039\n",
              "3           Amazonas      Manaus  ...                842       883083\n",
              "4              Bahia    Salvador  ...                913      4139107\n",
              "5              Ceará   Fortaleza  ...                942      3148369\n",
              "6  Distrito Federal*    Brasília  ...               2686      1812473\n",
              "7     Espírito Santo     Vitória  ...               1477      1936862\n",
              "8              Goiás     Goiânia  ...               1306      3909429\n",
              "9           Maranhão    São Luís  ...                636      1696683\n",
              "\n",
              "[10 rows x 15 columns]"
            ]
          },
          "metadata": {
            "tags": []
          },
          "execution_count": 489
        }
      ]
    },
    {
      "cell_type": "markdown",
      "metadata": {
        "id": "gLB39oZ6MZjF"
      },
      "source": [
        "Além da ponta inicial, é possível dar uma olhada na ponta final (ou cauda, \"tail\") das tabelas:"
      ]
    },
    {
      "cell_type": "code",
      "metadata": {
        "colab": {
          "base_uri": "https://localhost:8080/",
          "height": 206
        },
        "id": "DNMwSuWjMYqs",
        "outputId": "429884d9-9998-41ff-fc0d-b597756fb8d1"
      },
      "source": [
        "df_covid.tail()"
      ],
      "execution_count": 490,
      "outputs": [
        {
          "output_type": "execute_result",
          "data": {
            "text/html": [
              "<div>\n",
              "<style scoped>\n",
              "    .dataframe tbody tr th:only-of-type {\n",
              "        vertical-align: middle;\n",
              "    }\n",
              "\n",
              "    .dataframe tbody tr th {\n",
              "        vertical-align: top;\n",
              "    }\n",
              "\n",
              "    .dataframe thead th {\n",
              "        text-align: right;\n",
              "    }\n",
              "</style>\n",
              "<table border=\"1\" class=\"dataframe\">\n",
              "  <thead>\n",
              "    <tr style=\"text-align: right;\">\n",
              "      <th></th>\n",
              "      <th>date</th>\n",
              "      <th>region</th>\n",
              "      <th>state</th>\n",
              "      <th>cases</th>\n",
              "      <th>deaths</th>\n",
              "    </tr>\n",
              "  </thead>\n",
              "  <tbody>\n",
              "    <tr>\n",
              "      <th>8743</th>\n",
              "      <td>2021-01-13</td>\n",
              "      <td>Sudeste</td>\n",
              "      <td>RJ</td>\n",
              "      <td>469437</td>\n",
              "      <td>27241</td>\n",
              "    </tr>\n",
              "    <tr>\n",
              "      <th>8744</th>\n",
              "      <td>2021-01-13</td>\n",
              "      <td>Sudeste</td>\n",
              "      <td>SP</td>\n",
              "      <td>1577119</td>\n",
              "      <td>48985</td>\n",
              "    </tr>\n",
              "    <tr>\n",
              "      <th>8745</th>\n",
              "      <td>2021-01-13</td>\n",
              "      <td>Sul</td>\n",
              "      <td>PR</td>\n",
              "      <td>486843</td>\n",
              "      <td>8916</td>\n",
              "    </tr>\n",
              "    <tr>\n",
              "      <th>8746</th>\n",
              "      <td>2021-01-13</td>\n",
              "      <td>Sul</td>\n",
              "      <td>RS</td>\n",
              "      <td>490980</td>\n",
              "      <td>9699</td>\n",
              "    </tr>\n",
              "    <tr>\n",
              "      <th>8747</th>\n",
              "      <td>2021-01-13</td>\n",
              "      <td>Sul</td>\n",
              "      <td>SC</td>\n",
              "      <td>529389</td>\n",
              "      <td>5765</td>\n",
              "    </tr>\n",
              "  </tbody>\n",
              "</table>\n",
              "</div>"
            ],
            "text/plain": [
              "            date   region state    cases  deaths\n",
              "8743  2021-01-13  Sudeste    RJ   469437   27241\n",
              "8744  2021-01-13  Sudeste    SP  1577119   48985\n",
              "8745  2021-01-13      Sul    PR   486843    8916\n",
              "8746  2021-01-13      Sul    RS   490980    9699\n",
              "8747  2021-01-13      Sul    SC   529389    5765"
            ]
          },
          "metadata": {
            "tags": []
          },
          "execution_count": 490
        }
      ]
    },
    {
      "cell_type": "markdown",
      "metadata": {
        "id": "aC3OrfYiYjwR"
      },
      "source": [
        "Um lembrete sobre o uso de funções:\r\n",
        "\r\n",
        "![img01fn](https://i.imgur.com/tvym810.png)"
      ]
    },
    {
      "cell_type": "markdown",
      "metadata": {
        "id": "FAWTsxGpZeKV"
      },
      "source": [
        "## Procedimento (laço \"for\"): extraindo todos os meses da tabela\r\n",
        "\r\n",
        "Queremos analisar os dados mês a mês. Entretanto, observamos do conjunto COVID que os dados estão organizados a cada dia. \r\n",
        "\r\n",
        "Assim, é necessário extrair a informação \"mês\" de cada uma das leituras.\r\n"
      ]
    },
    {
      "cell_type": "code",
      "metadata": {
        "colab": {
          "base_uri": "https://localhost:8080/",
          "height": 520
        },
        "id": "wEQEMSgyZwLA",
        "outputId": "5fb33587-a15a-4d7e-daec-e54af431eedd"
      },
      "source": [
        "## Observe como são dias\r\n",
        "df_covid.tail(15)"
      ],
      "execution_count": 491,
      "outputs": [
        {
          "output_type": "execute_result",
          "data": {
            "text/html": [
              "<div>\n",
              "<style scoped>\n",
              "    .dataframe tbody tr th:only-of-type {\n",
              "        vertical-align: middle;\n",
              "    }\n",
              "\n",
              "    .dataframe tbody tr th {\n",
              "        vertical-align: top;\n",
              "    }\n",
              "\n",
              "    .dataframe thead th {\n",
              "        text-align: right;\n",
              "    }\n",
              "</style>\n",
              "<table border=\"1\" class=\"dataframe\">\n",
              "  <thead>\n",
              "    <tr style=\"text-align: right;\">\n",
              "      <th></th>\n",
              "      <th>date</th>\n",
              "      <th>region</th>\n",
              "      <th>state</th>\n",
              "      <th>cases</th>\n",
              "      <th>deaths</th>\n",
              "    </tr>\n",
              "  </thead>\n",
              "  <tbody>\n",
              "    <tr>\n",
              "      <th>8733</th>\n",
              "      <td>2021-01-13</td>\n",
              "      <td>Nordeste</td>\n",
              "      <td>SE</td>\n",
              "      <td>124942</td>\n",
              "      <td>2607</td>\n",
              "    </tr>\n",
              "    <tr>\n",
              "      <th>8734</th>\n",
              "      <td>2021-01-13</td>\n",
              "      <td>Norte</td>\n",
              "      <td>AC</td>\n",
              "      <td>43785</td>\n",
              "      <td>829</td>\n",
              "    </tr>\n",
              "    <tr>\n",
              "      <th>8735</th>\n",
              "      <td>2021-01-13</td>\n",
              "      <td>Norte</td>\n",
              "      <td>AM</td>\n",
              "      <td>219544</td>\n",
              "      <td>5879</td>\n",
              "    </tr>\n",
              "    <tr>\n",
              "      <th>8736</th>\n",
              "      <td>2021-01-13</td>\n",
              "      <td>Norte</td>\n",
              "      <td>AP</td>\n",
              "      <td>72049</td>\n",
              "      <td>987</td>\n",
              "    </tr>\n",
              "    <tr>\n",
              "      <th>8737</th>\n",
              "      <td>2021-01-13</td>\n",
              "      <td>Norte</td>\n",
              "      <td>PA</td>\n",
              "      <td>305012</td>\n",
              "      <td>7349</td>\n",
              "    </tr>\n",
              "    <tr>\n",
              "      <th>8738</th>\n",
              "      <td>2021-01-13</td>\n",
              "      <td>Norte</td>\n",
              "      <td>RO</td>\n",
              "      <td>104737</td>\n",
              "      <td>1965</td>\n",
              "    </tr>\n",
              "    <tr>\n",
              "      <th>8739</th>\n",
              "      <td>2021-01-13</td>\n",
              "      <td>Norte</td>\n",
              "      <td>RR</td>\n",
              "      <td>70086</td>\n",
              "      <td>800</td>\n",
              "    </tr>\n",
              "    <tr>\n",
              "      <th>8740</th>\n",
              "      <td>2021-01-13</td>\n",
              "      <td>Norte</td>\n",
              "      <td>TO</td>\n",
              "      <td>94381</td>\n",
              "      <td>1286</td>\n",
              "    </tr>\n",
              "    <tr>\n",
              "      <th>8741</th>\n",
              "      <td>2021-01-13</td>\n",
              "      <td>Sudeste</td>\n",
              "      <td>ES</td>\n",
              "      <td>269088</td>\n",
              "      <td>5416</td>\n",
              "    </tr>\n",
              "    <tr>\n",
              "      <th>8742</th>\n",
              "      <td>2021-01-13</td>\n",
              "      <td>Sudeste</td>\n",
              "      <td>MG</td>\n",
              "      <td>611152</td>\n",
              "      <td>12894</td>\n",
              "    </tr>\n",
              "    <tr>\n",
              "      <th>8743</th>\n",
              "      <td>2021-01-13</td>\n",
              "      <td>Sudeste</td>\n",
              "      <td>RJ</td>\n",
              "      <td>469437</td>\n",
              "      <td>27241</td>\n",
              "    </tr>\n",
              "    <tr>\n",
              "      <th>8744</th>\n",
              "      <td>2021-01-13</td>\n",
              "      <td>Sudeste</td>\n",
              "      <td>SP</td>\n",
              "      <td>1577119</td>\n",
              "      <td>48985</td>\n",
              "    </tr>\n",
              "    <tr>\n",
              "      <th>8745</th>\n",
              "      <td>2021-01-13</td>\n",
              "      <td>Sul</td>\n",
              "      <td>PR</td>\n",
              "      <td>486843</td>\n",
              "      <td>8916</td>\n",
              "    </tr>\n",
              "    <tr>\n",
              "      <th>8746</th>\n",
              "      <td>2021-01-13</td>\n",
              "      <td>Sul</td>\n",
              "      <td>RS</td>\n",
              "      <td>490980</td>\n",
              "      <td>9699</td>\n",
              "    </tr>\n",
              "    <tr>\n",
              "      <th>8747</th>\n",
              "      <td>2021-01-13</td>\n",
              "      <td>Sul</td>\n",
              "      <td>SC</td>\n",
              "      <td>529389</td>\n",
              "      <td>5765</td>\n",
              "    </tr>\n",
              "  </tbody>\n",
              "</table>\n",
              "</div>"
            ],
            "text/plain": [
              "            date    region state    cases  deaths\n",
              "8733  2021-01-13  Nordeste    SE   124942    2607\n",
              "8734  2021-01-13     Norte    AC    43785     829\n",
              "8735  2021-01-13     Norte    AM   219544    5879\n",
              "8736  2021-01-13     Norte    AP    72049     987\n",
              "8737  2021-01-13     Norte    PA   305012    7349\n",
              "8738  2021-01-13     Norte    RO   104737    1965\n",
              "8739  2021-01-13     Norte    RR    70086     800\n",
              "8740  2021-01-13     Norte    TO    94381    1286\n",
              "8741  2021-01-13   Sudeste    ES   269088    5416\n",
              "8742  2021-01-13   Sudeste    MG   611152   12894\n",
              "8743  2021-01-13   Sudeste    RJ   469437   27241\n",
              "8744  2021-01-13   Sudeste    SP  1577119   48985\n",
              "8745  2021-01-13       Sul    PR   486843    8916\n",
              "8746  2021-01-13       Sul    RS   490980    9699\n",
              "8747  2021-01-13       Sul    SC   529389    5765"
            ]
          },
          "metadata": {
            "tags": []
          },
          "execution_count": 491
        }
      ]
    },
    {
      "cell_type": "markdown",
      "metadata": {
        "id": "gos9dD5xZ6cA"
      },
      "source": [
        "Assim, o procedimento se resume em:\r\n",
        "\r\n",
        "1. Para cada campo \"Data\"\r\n",
        "2. Extraia a informação mês\r\n",
        "3. Guarde em um outro objeto."
      ]
    },
    {
      "cell_type": "code",
      "metadata": {
        "colab": {
          "base_uri": "https://localhost:8080/"
        },
        "id": "b563-ZkEccKT",
        "outputId": "6d06cf79-4f64-4d75-a033-a2782775e0a6"
      },
      "source": [
        "## Formatar a tabela por mês\r\n",
        "meses_lista = []\r\n",
        "\r\n",
        "## Separa as datas\r\n",
        "print(df_covid['date'].str.split('-'))"
      ],
      "execution_count": 492,
      "outputs": [
        {
          "output_type": "stream",
          "text": [
            "0       [2020, 02, 25]\n",
            "1       [2020, 02, 25]\n",
            "2       [2020, 02, 25]\n",
            "3       [2020, 02, 25]\n",
            "4       [2020, 02, 25]\n",
            "             ...      \n",
            "8743    [2021, 01, 13]\n",
            "8744    [2021, 01, 13]\n",
            "8745    [2021, 01, 13]\n",
            "8746    [2021, 01, 13]\n",
            "8747    [2021, 01, 13]\n",
            "Name: date, Length: 8748, dtype: object\n"
          ],
          "name": "stdout"
        }
      ]
    },
    {
      "cell_type": "code",
      "metadata": {
        "colab": {
          "base_uri": "https://localhost:8080/"
        },
        "id": "o2R52AI7eMaq",
        "outputId": "8a54aba7-fba8-426a-92d9-d2262c9d1b21"
      },
      "source": [
        "## Assim, separa mês a mês:\r\n",
        "for mês in df_covid['date'].str.split('-'):\r\n",
        "    ## Lembre-se que a Python começa a contar do 00!\r\n",
        "    ## 0 - Ano\r\n",
        "    ## 1 - Mês\r\n",
        "    ## 2 - Dia\r\n",
        "    # month[1] acessa o mês de cada elemento\r\n",
        "    # int() converte para inteiro\r\n",
        "    # append() cria um \"apêndice\", isto é, adiciona algo ao final de uma lista\r\n",
        "    meses_lista.append(int(mês[1]))\r\n",
        "\r\n",
        "## E então, veja o objeto gerado\r\n",
        "meses_lista[1:5]"
      ],
      "execution_count": 493,
      "outputs": [
        {
          "output_type": "execute_result",
          "data": {
            "text/plain": [
              "[2, 2, 2, 2]"
            ]
          },
          "metadata": {
            "tags": []
          },
          "execution_count": 493
        }
      ]
    },
    {
      "cell_type": "markdown",
      "metadata": {
        "id": "x30A0ol3feRj"
      },
      "source": [
        "![img02fnFor](https://i.imgur.com/XZTKWz7.png)"
      ]
    },
    {
      "cell_type": "code",
      "metadata": {
        "colab": {
          "base_uri": "https://localhost:8080/",
          "height": 520
        },
        "id": "-CuJMcHxg8jA",
        "outputId": "c931a4c4-6c83-4bfb-9649-039085398d06"
      },
      "source": [
        "## Então, gravamos os meses de volta na tabela:\r\n",
        "df_covid['Month'] = meses_lista\r\n",
        "df_covid.tail(15)"
      ],
      "execution_count": 494,
      "outputs": [
        {
          "output_type": "execute_result",
          "data": {
            "text/html": [
              "<div>\n",
              "<style scoped>\n",
              "    .dataframe tbody tr th:only-of-type {\n",
              "        vertical-align: middle;\n",
              "    }\n",
              "\n",
              "    .dataframe tbody tr th {\n",
              "        vertical-align: top;\n",
              "    }\n",
              "\n",
              "    .dataframe thead th {\n",
              "        text-align: right;\n",
              "    }\n",
              "</style>\n",
              "<table border=\"1\" class=\"dataframe\">\n",
              "  <thead>\n",
              "    <tr style=\"text-align: right;\">\n",
              "      <th></th>\n",
              "      <th>date</th>\n",
              "      <th>region</th>\n",
              "      <th>state</th>\n",
              "      <th>cases</th>\n",
              "      <th>deaths</th>\n",
              "      <th>Month</th>\n",
              "    </tr>\n",
              "  </thead>\n",
              "  <tbody>\n",
              "    <tr>\n",
              "      <th>8733</th>\n",
              "      <td>2021-01-13</td>\n",
              "      <td>Nordeste</td>\n",
              "      <td>SE</td>\n",
              "      <td>124942</td>\n",
              "      <td>2607</td>\n",
              "      <td>1</td>\n",
              "    </tr>\n",
              "    <tr>\n",
              "      <th>8734</th>\n",
              "      <td>2021-01-13</td>\n",
              "      <td>Norte</td>\n",
              "      <td>AC</td>\n",
              "      <td>43785</td>\n",
              "      <td>829</td>\n",
              "      <td>1</td>\n",
              "    </tr>\n",
              "    <tr>\n",
              "      <th>8735</th>\n",
              "      <td>2021-01-13</td>\n",
              "      <td>Norte</td>\n",
              "      <td>AM</td>\n",
              "      <td>219544</td>\n",
              "      <td>5879</td>\n",
              "      <td>1</td>\n",
              "    </tr>\n",
              "    <tr>\n",
              "      <th>8736</th>\n",
              "      <td>2021-01-13</td>\n",
              "      <td>Norte</td>\n",
              "      <td>AP</td>\n",
              "      <td>72049</td>\n",
              "      <td>987</td>\n",
              "      <td>1</td>\n",
              "    </tr>\n",
              "    <tr>\n",
              "      <th>8737</th>\n",
              "      <td>2021-01-13</td>\n",
              "      <td>Norte</td>\n",
              "      <td>PA</td>\n",
              "      <td>305012</td>\n",
              "      <td>7349</td>\n",
              "      <td>1</td>\n",
              "    </tr>\n",
              "    <tr>\n",
              "      <th>8738</th>\n",
              "      <td>2021-01-13</td>\n",
              "      <td>Norte</td>\n",
              "      <td>RO</td>\n",
              "      <td>104737</td>\n",
              "      <td>1965</td>\n",
              "      <td>1</td>\n",
              "    </tr>\n",
              "    <tr>\n",
              "      <th>8739</th>\n",
              "      <td>2021-01-13</td>\n",
              "      <td>Norte</td>\n",
              "      <td>RR</td>\n",
              "      <td>70086</td>\n",
              "      <td>800</td>\n",
              "      <td>1</td>\n",
              "    </tr>\n",
              "    <tr>\n",
              "      <th>8740</th>\n",
              "      <td>2021-01-13</td>\n",
              "      <td>Norte</td>\n",
              "      <td>TO</td>\n",
              "      <td>94381</td>\n",
              "      <td>1286</td>\n",
              "      <td>1</td>\n",
              "    </tr>\n",
              "    <tr>\n",
              "      <th>8741</th>\n",
              "      <td>2021-01-13</td>\n",
              "      <td>Sudeste</td>\n",
              "      <td>ES</td>\n",
              "      <td>269088</td>\n",
              "      <td>5416</td>\n",
              "      <td>1</td>\n",
              "    </tr>\n",
              "    <tr>\n",
              "      <th>8742</th>\n",
              "      <td>2021-01-13</td>\n",
              "      <td>Sudeste</td>\n",
              "      <td>MG</td>\n",
              "      <td>611152</td>\n",
              "      <td>12894</td>\n",
              "      <td>1</td>\n",
              "    </tr>\n",
              "    <tr>\n",
              "      <th>8743</th>\n",
              "      <td>2021-01-13</td>\n",
              "      <td>Sudeste</td>\n",
              "      <td>RJ</td>\n",
              "      <td>469437</td>\n",
              "      <td>27241</td>\n",
              "      <td>1</td>\n",
              "    </tr>\n",
              "    <tr>\n",
              "      <th>8744</th>\n",
              "      <td>2021-01-13</td>\n",
              "      <td>Sudeste</td>\n",
              "      <td>SP</td>\n",
              "      <td>1577119</td>\n",
              "      <td>48985</td>\n",
              "      <td>1</td>\n",
              "    </tr>\n",
              "    <tr>\n",
              "      <th>8745</th>\n",
              "      <td>2021-01-13</td>\n",
              "      <td>Sul</td>\n",
              "      <td>PR</td>\n",
              "      <td>486843</td>\n",
              "      <td>8916</td>\n",
              "      <td>1</td>\n",
              "    </tr>\n",
              "    <tr>\n",
              "      <th>8746</th>\n",
              "      <td>2021-01-13</td>\n",
              "      <td>Sul</td>\n",
              "      <td>RS</td>\n",
              "      <td>490980</td>\n",
              "      <td>9699</td>\n",
              "      <td>1</td>\n",
              "    </tr>\n",
              "    <tr>\n",
              "      <th>8747</th>\n",
              "      <td>2021-01-13</td>\n",
              "      <td>Sul</td>\n",
              "      <td>SC</td>\n",
              "      <td>529389</td>\n",
              "      <td>5765</td>\n",
              "      <td>1</td>\n",
              "    </tr>\n",
              "  </tbody>\n",
              "</table>\n",
              "</div>"
            ],
            "text/plain": [
              "            date    region state    cases  deaths  Month\n",
              "8733  2021-01-13  Nordeste    SE   124942    2607      1\n",
              "8734  2021-01-13     Norte    AC    43785     829      1\n",
              "8735  2021-01-13     Norte    AM   219544    5879      1\n",
              "8736  2021-01-13     Norte    AP    72049     987      1\n",
              "8737  2021-01-13     Norte    PA   305012    7349      1\n",
              "8738  2021-01-13     Norte    RO   104737    1965      1\n",
              "8739  2021-01-13     Norte    RR    70086     800      1\n",
              "8740  2021-01-13     Norte    TO    94381    1286      1\n",
              "8741  2021-01-13   Sudeste    ES   269088    5416      1\n",
              "8742  2021-01-13   Sudeste    MG   611152   12894      1\n",
              "8743  2021-01-13   Sudeste    RJ   469437   27241      1\n",
              "8744  2021-01-13   Sudeste    SP  1577119   48985      1\n",
              "8745  2021-01-13       Sul    PR   486843    8916      1\n",
              "8746  2021-01-13       Sul    RS   490980    9699      1\n",
              "8747  2021-01-13       Sul    SC   529389    5765      1"
            ]
          },
          "metadata": {
            "tags": []
          },
          "execution_count": 494
        }
      ]
    },
    {
      "cell_type": "markdown",
      "metadata": {
        "id": "D03kaGDxhUuj"
      },
      "source": [
        "## Obtendo casos por mês.\r\n",
        "\r\n",
        "Agora temos uma modificação no nosso objeto original `df_covid`: ele consta com os meses de cada relato.\r\n",
        "\r\n",
        "Entretanto, precisamos contar quantos foram os casos novos a cada mês. Entretanto, nós só temos o relato de quantos casos novos foram gerados a cada dia.\r\n",
        "\r\n",
        "Para isso, vamos usar da nossa inteligência para extrair a informação, a partir da seguinte inferência:\r\n",
        "\r\n",
        "- O último relato do mês deve conter o número final de casos de um certo mês.\r\n",
        "- Se eu subtrair o número final do mês anterior, devo obter somente os deste mês.\r\n",
        "\r\n",
        "---\r\n",
        "$$\r\n",
        "\\text{soma acumulada do mês anterior}-\\text{soma acumulada deste mês} = \\text{casos este mês}\r\n",
        "$$\r\n",
        "\r\n",
        "Assim, vamos operar para extrair essa informação, para cada estado.\r\n",
        "\r\n",
        "## Laço \"for\" por mês, e por estado.\r\n",
        "\r\n",
        "Assim, vamos operacionar um próximo laço \"for\" com 2 estágios.\r\n",
        "\r\n",
        "1. O primeiro deles vai picar a tabela para cada estado;\r\n",
        "2. O segundo deles vai picar dentro de cada estado, cada mês."
      ]
    },
    {
      "cell_type": "code",
      "metadata": {
        "colab": {
          "base_uri": "https://localhost:8080/"
        },
        "id": "PuAxTfdahVuq",
        "outputId": "f3c30724-eed4-4d9b-94e3-025a8f8f0ed4"
      },
      "source": [
        "# Primeiro, vamos sumarizar nossa lista de meses, que originalmente tem essa cara:\r\n",
        "## Note que extraímos um mês para cada relato do MS\r\n",
        "meses_lista[1:15]"
      ],
      "execution_count": 495,
      "outputs": [
        {
          "output_type": "execute_result",
          "data": {
            "text/plain": [
              "[2, 2, 2, 2, 2, 2, 2, 2, 2, 2, 2, 2, 2, 2]"
            ]
          },
          "metadata": {
            "tags": []
          },
          "execution_count": 495
        }
      ]
    },
    {
      "cell_type": "code",
      "metadata": {
        "colab": {
          "base_uri": "https://localhost:8080/"
        },
        "id": "30tZTd9KoJla",
        "outputId": "9b58a82e-2ee2-4bce-fc12-994b142b4d42"
      },
      "source": [
        "# Entretanto, desejamos somente a ordem dos meses, que pode ser extraído\r\n",
        "## da seguinte forma:\r\n",
        "meses_limpo = pd.Series(meses_lista).drop_duplicates()\r\n",
        "meses_limpo"
      ],
      "execution_count": 496,
      "outputs": [
        {
          "output_type": "execute_result",
          "data": {
            "text/plain": [
              "0        2\n",
              "135      3\n",
              "972      4\n",
              "1782     5\n",
              "2619     6\n",
              "3429     7\n",
              "4266     8\n",
              "5103     9\n",
              "5913    10\n",
              "6750    11\n",
              "7560    12\n",
              "8397     1\n",
              "dtype: int64"
            ]
          },
          "metadata": {
            "tags": []
          },
          "execution_count": 496
        }
      ]
    },
    {
      "cell_type": "markdown",
      "metadata": {
        "id": "oF0551wPzPwr"
      },
      "source": [
        "![img03pdSeries](https://i.imgur.com/QqM0nuU.png)"
      ]
    },
    {
      "cell_type": "code",
      "metadata": {
        "colab": {
          "base_uri": "https://localhost:8080/"
        },
        "id": "wp0tX4V6zak8",
        "outputId": "44102b6f-6999-4615-8278-0534f26c5507"
      },
      "source": [
        "## Vamos inicializar um objeto para salvar os casos:\r\n",
        "todos_casos = []\r\n",
        "casos_por_estado_mes = []\r\n",
        "\r\n",
        "## Vamos gerar, também, uma lista com os estados\r\n",
        "estados_unicos = df_covid['state'].unique()\r\n",
        "estados_unicos"
      ],
      "execution_count": 497,
      "outputs": [
        {
          "output_type": "execute_result",
          "data": {
            "text/plain": [
              "array(['DF', 'GO', 'MS', 'MT', 'AL', 'BA', 'CE', 'MA', 'PB', 'PE', 'PI',\n",
              "       'RN', 'SE', 'AC', 'AM', 'AP', 'PA', 'RO', 'RR', 'TO', 'ES', 'MG',\n",
              "       'RJ', 'SP', 'PR', 'RS', 'SC'], dtype=object)"
            ]
          },
          "metadata": {
            "tags": []
          },
          "execution_count": 497
        }
      ]
    },
    {
      "cell_type": "code",
      "metadata": {
        "id": "o6bLpElQzq1I"
      },
      "source": [
        "## Por fim, capturamos, para cada estado, para cada mês, os casos.\r\n",
        "### Para cada estado, vamos extrair a soma de casos por mês.\r\n",
        "for estado_loop in estados_unicos:\r\n",
        "  \r\n",
        "    ## Separa uma tabela por estado\r\n",
        "    df = df_covid[df_covid['state'] == estado_loop]\r\n",
        "    \r\n",
        "    ## Para cada mês único, extraia o número de casos ao final do mês\r\n",
        "    ### Começa com 0 casos\r\n",
        "    casos_real = 0\r\n",
        "    casos_acumulados = 0\r\n",
        "    \r\n",
        "    ## Para salvar casos, estado, e mês\r\n",
        "    casos_por_estado_mes = []\r\n",
        "    \r\n",
        "    ## Contador do loop\r\n",
        "    #counter = 0\r\n",
        "    \r\n",
        "    for mês in meses_limpo:\r\n",
        "        ## Separa o mês específico\r\n",
        "        df_sum = df[df['Month'] == mês]\r\n",
        "        \r\n",
        "        ## Salva o número de casos do mês\r\n",
        "        casos_laço = int(df_sum[-1:]['cases'])\r\n",
        "              \r\n",
        "        ## Calcula os casos acumulados\r\n",
        "        casos_real = casos_laço - casos_acumulados\r\n",
        "        \r\n",
        "        ## Registra os casos acumulados\r\n",
        "        casos_acumulados = casos_acumulados + casos_real\r\n",
        "        \r\n",
        "        ## Salva os casos, por estado, por mês\r\n",
        "        casos_por_estado_mes.append([estado_loop, mês, casos_real])\r\n",
        "        \r\n",
        "    ## Salva os casos\r\n",
        "    todos_casos.append(casos_por_estado_mes)    "
      ],
      "execution_count": 498,
      "outputs": []
    },
    {
      "cell_type": "code",
      "metadata": {
        "id": "XWUB__EV1dKE",
        "colab": {
          "base_uri": "https://localhost:8080/",
          "height": 1000
        },
        "outputId": "1fb3fbb1-2062-47f4-eb41-5b808554d2b8"
      },
      "source": [
        "## Então veja os casos:\r\n",
        "NovosCasosDF = pd.DataFrame(todos_casos)\r\n",
        "NovosCasosDF"
      ],
      "execution_count": 499,
      "outputs": [
        {
          "output_type": "execute_result",
          "data": {
            "text/html": [
              "<div>\n",
              "<style scoped>\n",
              "    .dataframe tbody tr th:only-of-type {\n",
              "        vertical-align: middle;\n",
              "    }\n",
              "\n",
              "    .dataframe tbody tr th {\n",
              "        vertical-align: top;\n",
              "    }\n",
              "\n",
              "    .dataframe thead th {\n",
              "        text-align: right;\n",
              "    }\n",
              "</style>\n",
              "<table border=\"1\" class=\"dataframe\">\n",
              "  <thead>\n",
              "    <tr style=\"text-align: right;\">\n",
              "      <th></th>\n",
              "      <th>0</th>\n",
              "      <th>1</th>\n",
              "      <th>2</th>\n",
              "      <th>3</th>\n",
              "      <th>4</th>\n",
              "      <th>5</th>\n",
              "      <th>6</th>\n",
              "      <th>7</th>\n",
              "      <th>8</th>\n",
              "      <th>9</th>\n",
              "      <th>10</th>\n",
              "      <th>11</th>\n",
              "    </tr>\n",
              "  </thead>\n",
              "  <tbody>\n",
              "    <tr>\n",
              "      <th>0</th>\n",
              "      <td>[DF, 2, 0]</td>\n",
              "      <td>[DF, 3, 332]</td>\n",
              "      <td>[DF, 4, 1024]</td>\n",
              "      <td>[DF, 5, 8424]</td>\n",
              "      <td>[DF, 6, 39438]</td>\n",
              "      <td>[DF, 7, 57074]</td>\n",
              "      <td>[DF, 8, 55750]</td>\n",
              "      <td>[DF, 9, 30203]</td>\n",
              "      <td>[DF, 10, 21000]</td>\n",
              "      <td>[DF, 11, 15901]</td>\n",
              "      <td>[DF, 12, 22555]</td>\n",
              "      <td>[DF, 1, 9755]</td>\n",
              "    </tr>\n",
              "    <tr>\n",
              "      <th>1</th>\n",
              "      <td>[GO, 2, 0]</td>\n",
              "      <td>[GO, 3, 65]</td>\n",
              "      <td>[GO, 4, 716]</td>\n",
              "      <td>[GO, 5, 2921]</td>\n",
              "      <td>[GO, 6, 20679]</td>\n",
              "      <td>[GO, 7, 43560]</td>\n",
              "      <td>[GO, 8, 64565]</td>\n",
              "      <td>[GO, 9, 76905]</td>\n",
              "      <td>[GO, 10, 46036]</td>\n",
              "      <td>[GO, 11, 23966]</td>\n",
              "      <td>[GO, 12, 29455]</td>\n",
              "      <td>[GO, 1, 14151]</td>\n",
              "    </tr>\n",
              "    <tr>\n",
              "      <th>2</th>\n",
              "      <td>[MS, 2, 0]</td>\n",
              "      <td>[MS, 3, 48]</td>\n",
              "      <td>[MS, 4, 207]</td>\n",
              "      <td>[MS, 5, 1234]</td>\n",
              "      <td>[MS, 6, 6476]</td>\n",
              "      <td>[MS, 7, 16971]</td>\n",
              "      <td>[MS, 8, 24001]</td>\n",
              "      <td>[MS, 9, 20769]</td>\n",
              "      <td>[MS, 10, 12638]</td>\n",
              "      <td>[MS, 11, 16717]</td>\n",
              "      <td>[MS, 12, 34700]</td>\n",
              "      <td>[MS, 1, 12382]</td>\n",
              "    </tr>\n",
              "    <tr>\n",
              "      <th>3</th>\n",
              "      <td>[MT, 2, 0]</td>\n",
              "      <td>[MT, 3, 25]</td>\n",
              "      <td>[MT, 4, 272]</td>\n",
              "      <td>[MT, 5, 2132]</td>\n",
              "      <td>[MT, 6, 13207]</td>\n",
              "      <td>[MT, 7, 36229]</td>\n",
              "      <td>[MT, 8, 39481]</td>\n",
              "      <td>[MT, 9, 32070]</td>\n",
              "      <td>[MT, 10, 19486]</td>\n",
              "      <td>[MT, 11, 15231]</td>\n",
              "      <td>[MT, 12, 21294]</td>\n",
              "      <td>[MT, 1, 13627]</td>\n",
              "    </tr>\n",
              "    <tr>\n",
              "      <th>4</th>\n",
              "      <td>[AL, 2, 0]</td>\n",
              "      <td>[AL, 3, 18]</td>\n",
              "      <td>[AL, 4, 1026]</td>\n",
              "      <td>[AL, 5, 9244]</td>\n",
              "      <td>[AL, 6, 25674]</td>\n",
              "      <td>[AL, 7, 23763]</td>\n",
              "      <td>[AL, 8, 19079]</td>\n",
              "      <td>[AL, 9, 8075]</td>\n",
              "      <td>[AL, 10, 3910]</td>\n",
              "      <td>[AL, 11, 4195]</td>\n",
              "      <td>[AL, 12, 9834]</td>\n",
              "      <td>[AL, 1, 4902]</td>\n",
              "    </tr>\n",
              "    <tr>\n",
              "      <th>5</th>\n",
              "      <td>[BA, 2, 0]</td>\n",
              "      <td>[BA, 3, 213]</td>\n",
              "      <td>[BA, 4, 2638]</td>\n",
              "      <td>[BA, 5, 15541]</td>\n",
              "      <td>[BA, 6, 54915]</td>\n",
              "      <td>[BA, 7, 92847]</td>\n",
              "      <td>[BA, 8, 90573]</td>\n",
              "      <td>[BA, 9, 53799]</td>\n",
              "      <td>[BA, 10, 42631]</td>\n",
              "      <td>[BA, 11, 49914]</td>\n",
              "      <td>[BA, 12, 90329]</td>\n",
              "      <td>[BA, 1, 25555]</td>\n",
              "    </tr>\n",
              "    <tr>\n",
              "      <th>6</th>\n",
              "      <td>[CE, 2, 0]</td>\n",
              "      <td>[CE, 3, 390]</td>\n",
              "      <td>[CE, 4, 7216]</td>\n",
              "      <td>[CE, 5, 40883]</td>\n",
              "      <td>[CE, 6, 60210]</td>\n",
              "      <td>[CE, 7, 65183]</td>\n",
              "      <td>[CE, 8, 41071]</td>\n",
              "      <td>[CE, 9, 26206]</td>\n",
              "      <td>[CE, 10, 33026]</td>\n",
              "      <td>[CE, 11, 26442]</td>\n",
              "      <td>[CE, 12, 34464]</td>\n",
              "      <td>[CE, 1, 13323]</td>\n",
              "    </tr>\n",
              "    <tr>\n",
              "      <th>7</th>\n",
              "      <td>[MA, 2, 0]</td>\n",
              "      <td>[MA, 3, 31]</td>\n",
              "      <td>[MA, 4, 3159]</td>\n",
              "      <td>[MA, 5, 31449]</td>\n",
              "      <td>[MA, 6, 45812]</td>\n",
              "      <td>[MA, 7, 40210]</td>\n",
              "      <td>[MA, 8, 30954]</td>\n",
              "      <td>[MA, 9, 21949]</td>\n",
              "      <td>[MA, 10, 12263]</td>\n",
              "      <td>[MA, 11, 7343]</td>\n",
              "      <td>[MA, 12, 7768]</td>\n",
              "      <td>[MA, 1, 1636]</td>\n",
              "    </tr>\n",
              "    <tr>\n",
              "      <th>8</th>\n",
              "      <td>[PB, 2, 0]</td>\n",
              "      <td>[PB, 3, 17]</td>\n",
              "      <td>[PB, 4, 797]</td>\n",
              "      <td>[PB, 5, 12348]</td>\n",
              "      <td>[PB, 6, 33795]</td>\n",
              "      <td>[PB, 7, 35837]</td>\n",
              "      <td>[PB, 8, 22984]</td>\n",
              "      <td>[PB, 9, 15489]</td>\n",
              "      <td>[PB, 10, 11882]</td>\n",
              "      <td>[PB, 11, 12104]</td>\n",
              "      <td>[PB, 12, 21231]</td>\n",
              "      <td>[PB, 1, 7715]</td>\n",
              "    </tr>\n",
              "    <tr>\n",
              "      <th>9</th>\n",
              "      <td>[PE, 2, 0]</td>\n",
              "      <td>[PE, 3, 87]</td>\n",
              "      <td>[PE, 4, 6789]</td>\n",
              "      <td>[PE, 5, 27574]</td>\n",
              "      <td>[PE, 6, 24408]</td>\n",
              "      <td>[PE, 7, 36147]</td>\n",
              "      <td>[PE, 8, 30534]</td>\n",
              "      <td>[PE, 9, 21632]</td>\n",
              "      <td>[PE, 10, 15722]</td>\n",
              "      <td>[PE, 11, 19513]</td>\n",
              "      <td>[PE, 12, 39760]</td>\n",
              "      <td>[PE, 1, 13875]</td>\n",
              "    </tr>\n",
              "    <tr>\n",
              "      <th>10</th>\n",
              "      <td>[PI, 2, 0]</td>\n",
              "      <td>[PI, 3, 18]</td>\n",
              "      <td>[PI, 4, 495]</td>\n",
              "      <td>[PI, 5, 4418]</td>\n",
              "      <td>[PI, 6, 15491]</td>\n",
              "      <td>[PI, 7, 31055]</td>\n",
              "      <td>[PI, 8, 25928]</td>\n",
              "      <td>[PI, 9, 18681]</td>\n",
              "      <td>[PI, 10, 17205]</td>\n",
              "      <td>[PI, 11, 13723]</td>\n",
              "      <td>[PI, 12, 15658]</td>\n",
              "      <td>[PI, 1, 6195]</td>\n",
              "    </tr>\n",
              "    <tr>\n",
              "      <th>11</th>\n",
              "      <td>[RN, 2, 0]</td>\n",
              "      <td>[RN, 3, 82]</td>\n",
              "      <td>[RN, 4, 1095]</td>\n",
              "      <td>[RN, 5, 6225]</td>\n",
              "      <td>[RN, 6, 22885]</td>\n",
              "      <td>[RN, 7, 20129]</td>\n",
              "      <td>[RN, 8, 11332]</td>\n",
              "      <td>[RN, 9, 7685]</td>\n",
              "      <td>[RN, 10, 11743]</td>\n",
              "      <td>[RN, 11, 13947]</td>\n",
              "      <td>[RN, 12, 22960]</td>\n",
              "      <td>[RN, 1, 7467]</td>\n",
              "    </tr>\n",
              "    <tr>\n",
              "      <th>12</th>\n",
              "      <td>[SE, 2, 0]</td>\n",
              "      <td>[SE, 3, 19]</td>\n",
              "      <td>[SE, 4, 428]</td>\n",
              "      <td>[SE, 5, 6552]</td>\n",
              "      <td>[SE, 6, 18412]</td>\n",
              "      <td>[SE, 7, 33302]</td>\n",
              "      <td>[SE, 8, 13815]</td>\n",
              "      <td>[SE, 9, 4912]</td>\n",
              "      <td>[SE, 10, 6886]</td>\n",
              "      <td>[SE, 11, 5822]</td>\n",
              "      <td>[SE, 12, 22357]</td>\n",
              "      <td>[SE, 1, 12437]</td>\n",
              "    </tr>\n",
              "    <tr>\n",
              "      <th>13</th>\n",
              "      <td>[AC, 2, 0]</td>\n",
              "      <td>[AC, 3, 42]</td>\n",
              "      <td>[AC, 4, 362]</td>\n",
              "      <td>[AC, 5, 5815]</td>\n",
              "      <td>[AC, 6, 7034]</td>\n",
              "      <td>[AC, 7, 6372]</td>\n",
              "      <td>[AC, 8, 5022]</td>\n",
              "      <td>[AC, 9, 3575]</td>\n",
              "      <td>[AC, 10, 2574]</td>\n",
              "      <td>[AC, 11, 5463]</td>\n",
              "      <td>[AC, 12, 5361]</td>\n",
              "      <td>[AC, 1, 2165]</td>\n",
              "    </tr>\n",
              "    <tr>\n",
              "      <th>14</th>\n",
              "      <td>[AM, 2, 0]</td>\n",
              "      <td>[AM, 3, 175]</td>\n",
              "      <td>[AM, 4, 5079]</td>\n",
              "      <td>[AM, 5, 36124]</td>\n",
              "      <td>[AM, 6, 29445]</td>\n",
              "      <td>[AM, 7, 30117]</td>\n",
              "      <td>[AM, 8, 19356]</td>\n",
              "      <td>[AM, 9, 19030]</td>\n",
              "      <td>[AM, 10, 22357]</td>\n",
              "      <td>[AM, 11, 16517]</td>\n",
              "      <td>[AM, 12, 22813]</td>\n",
              "      <td>[AM, 1, 18531]</td>\n",
              "    </tr>\n",
              "    <tr>\n",
              "      <th>15</th>\n",
              "      <td>[AP, 2, 0]</td>\n",
              "      <td>[AP, 3, 10]</td>\n",
              "      <td>[AP, 4, 1070]</td>\n",
              "      <td>[AP, 5, 8522]</td>\n",
              "      <td>[AP, 6, 18890]</td>\n",
              "      <td>[AP, 7, 7976]</td>\n",
              "      <td>[AP, 8, 6725]</td>\n",
              "      <td>[AP, 9, 5061]</td>\n",
              "      <td>[AP, 10, 3921]</td>\n",
              "      <td>[AP, 11, 6956]</td>\n",
              "      <td>[AP, 12, 9070]</td>\n",
              "      <td>[AP, 1, 3848]</td>\n",
              "    </tr>\n",
              "    <tr>\n",
              "      <th>16</th>\n",
              "      <td>[PA, 2, 0]</td>\n",
              "      <td>[PA, 3, 32]</td>\n",
              "      <td>[PA, 4, 2844]</td>\n",
              "      <td>[PA, 5, 35085]</td>\n",
              "      <td>[PA, 6, 65245]</td>\n",
              "      <td>[PA, 7, 51479]</td>\n",
              "      <td>[PA, 8, 44871]</td>\n",
              "      <td>[PA, 9, 30893]</td>\n",
              "      <td>[PA, 10, 22470]</td>\n",
              "      <td>[PA, 11, 17629]</td>\n",
              "      <td>[PA, 12, 22992]</td>\n",
              "      <td>[PA, 1, 11472]</td>\n",
              "    </tr>\n",
              "    <tr>\n",
              "      <th>17</th>\n",
              "      <td>[RO, 2, 0]</td>\n",
              "      <td>[RO, 3, 8]</td>\n",
              "      <td>[RO, 4, 494]</td>\n",
              "      <td>[RO, 5, 4440]</td>\n",
              "      <td>[RO, 6, 16309]</td>\n",
              "      <td>[RO, 7, 17741]</td>\n",
              "      <td>[RO, 8, 16161]</td>\n",
              "      <td>[RO, 9, 10758]</td>\n",
              "      <td>[RO, 10, 5755]</td>\n",
              "      <td>[RO, 11, 8872]</td>\n",
              "      <td>[RO, 12, 15191]</td>\n",
              "      <td>[RO, 1, 9008]</td>\n",
              "    </tr>\n",
              "    <tr>\n",
              "      <th>18</th>\n",
              "      <td>[RR, 2, 0]</td>\n",
              "      <td>[RR, 3, 16]</td>\n",
              "      <td>[RR, 4, 503]</td>\n",
              "      <td>[RR, 5, 2955]</td>\n",
              "      <td>[RR, 6, 11167]</td>\n",
              "      <td>[RR, 7, 17375]</td>\n",
              "      <td>[RR, 8, 11502]</td>\n",
              "      <td>[RR, 9, 6931]</td>\n",
              "      <td>[RR, 10, 6835]</td>\n",
              "      <td>[RR, 11, 6038]</td>\n",
              "      <td>[RR, 12, 5367]</td>\n",
              "      <td>[RR, 1, 1397]</td>\n",
              "    </tr>\n",
              "    <tr>\n",
              "      <th>19</th>\n",
              "      <td>[TO, 2, 0]</td>\n",
              "      <td>[TO, 3, 11]</td>\n",
              "      <td>[TO, 4, 126]</td>\n",
              "      <td>[TO, 5, 4039]</td>\n",
              "      <td>[TO, 6, 6588]</td>\n",
              "      <td>[TO, 7, 14060]</td>\n",
              "      <td>[TO, 8, 25870]</td>\n",
              "      <td>[TO, 9, 17309]</td>\n",
              "      <td>[TO, 10, 7566]</td>\n",
              "      <td>[TO, 11, 6063]</td>\n",
              "      <td>[TO, 12, 8726]</td>\n",
              "      <td>[TO, 1, 4023]</td>\n",
              "    </tr>\n",
              "    <tr>\n",
              "      <th>20</th>\n",
              "      <td>[ES, 2, 0]</td>\n",
              "      <td>[ES, 3, 84]</td>\n",
              "      <td>[ES, 4, 2381]</td>\n",
              "      <td>[ES, 5, 11225]</td>\n",
              "      <td>[ES, 6, 33203]</td>\n",
              "      <td>[ES, 7, 36399]</td>\n",
              "      <td>[ES, 8, 27969]</td>\n",
              "      <td>[ES, 9, 20229]</td>\n",
              "      <td>[ES, 10, 24219]</td>\n",
              "      <td>[ES, 11, 34162]</td>\n",
              "      <td>[ES, 12, 58361]</td>\n",
              "      <td>[ES, 1, 20856]</td>\n",
              "    </tr>\n",
              "    <tr>\n",
              "      <th>21</th>\n",
              "      <td>[MG, 2, 0]</td>\n",
              "      <td>[MG, 3, 275]</td>\n",
              "      <td>[MG, 4, 1552]</td>\n",
              "      <td>[MG, 5, 8637]</td>\n",
              "      <td>[MG, 6, 34537]</td>\n",
              "      <td>[MG, 7, 82105]</td>\n",
              "      <td>[MG, 8, 89451]</td>\n",
              "      <td>[MG, 9, 78612]</td>\n",
              "      <td>[MG, 10, 63802]</td>\n",
              "      <td>[MG, 11, 57364]</td>\n",
              "      <td>[MG, 12, 126574]</td>\n",
              "      <td>[MG, 1, 68243]</td>\n",
              "    </tr>\n",
              "    <tr>\n",
              "      <th>22</th>\n",
              "      <td>[RJ, 2, 0]</td>\n",
              "      <td>[RJ, 3, 708]</td>\n",
              "      <td>[RJ, 4, 8745]</td>\n",
              "      <td>[RJ, 5, 43935]</td>\n",
              "      <td>[RJ, 6, 59223]</td>\n",
              "      <td>[RJ, 7, 52884]</td>\n",
              "      <td>[RJ, 8, 58136]</td>\n",
              "      <td>[RJ, 9, 41152]</td>\n",
              "      <td>[RJ, 10, 45194]</td>\n",
              "      <td>[RJ, 11, 44377]</td>\n",
              "      <td>[RJ, 12, 80294]</td>\n",
              "      <td>[RJ, 1, 34789]</td>\n",
              "    </tr>\n",
              "    <tr>\n",
              "      <th>23</th>\n",
              "      <td>[SP, 2, 2]</td>\n",
              "      <td>[SP, 3, 2337]</td>\n",
              "      <td>[SP, 4, 26359]</td>\n",
              "      <td>[SP, 5, 81000]</td>\n",
              "      <td>[SP, 6, 171682]</td>\n",
              "      <td>[SP, 7, 260924]</td>\n",
              "      <td>[SP, 8, 262038]</td>\n",
              "      <td>[SP, 9, 181286]</td>\n",
              "      <td>[SP, 10, 130499]</td>\n",
              "      <td>[SP, 11, 125526]</td>\n",
              "      <td>[SP, 12, 220644]</td>\n",
              "      <td>[SP, 1, 114822]</td>\n",
              "    </tr>\n",
              "    <tr>\n",
              "      <th>24</th>\n",
              "      <td>[PR, 2, 0]</td>\n",
              "      <td>[PR, 3, 179]</td>\n",
              "      <td>[PR, 4, 1228]</td>\n",
              "      <td>[PR, 5, 3280]</td>\n",
              "      <td>[PR, 6, 18190]</td>\n",
              "      <td>[PR, 7, 53235]</td>\n",
              "      <td>[PR, 8, 55794]</td>\n",
              "      <td>[PR, 9, 46992]</td>\n",
              "      <td>[PR, 10, 34584]</td>\n",
              "      <td>[PR, 11, 66602]</td>\n",
              "      <td>[PR, 12, 136482]</td>\n",
              "      <td>[PR, 1, 70277]</td>\n",
              "    </tr>\n",
              "    <tr>\n",
              "      <th>25</th>\n",
              "      <td>[RS, 2, 0]</td>\n",
              "      <td>[RS, 3, 274]</td>\n",
              "      <td>[RS, 4, 1192]</td>\n",
              "      <td>[RS, 5, 7866]</td>\n",
              "      <td>[RS, 6, 17609]</td>\n",
              "      <td>[RS, 7, 39751]</td>\n",
              "      <td>[RS, 8, 59121]</td>\n",
              "      <td>[RS, 9, 64759]</td>\n",
              "      <td>[RS, 10, 57004]</td>\n",
              "      <td>[RS, 11, 74482]</td>\n",
              "      <td>[RS, 12, 127616]</td>\n",
              "      <td>[RS, 1, 41306]</td>\n",
              "    </tr>\n",
              "    <tr>\n",
              "      <th>26</th>\n",
              "      <td>[SC, 2, 0]</td>\n",
              "      <td>[SC, 3, 219]</td>\n",
              "      <td>[SC, 4, 1866]</td>\n",
              "      <td>[SC, 5, 6952]</td>\n",
              "      <td>[SC, 6, 17317]</td>\n",
              "      <td>[SC, 7, 57719]</td>\n",
              "      <td>[SC, 8, 93704]</td>\n",
              "      <td>[SC, 9, 37701]</td>\n",
              "      <td>[SC, 10, 43462]</td>\n",
              "      <td>[SC, 11, 105404]</td>\n",
              "      <td>[SC, 12, 128239]</td>\n",
              "      <td>[SC, 1, 36806]</td>\n",
              "    </tr>\n",
              "  </tbody>\n",
              "</table>\n",
              "</div>"
            ],
            "text/plain": [
              "            0              1   ...                10               11\n",
              "0   [DF, 2, 0]   [DF, 3, 332]  ...   [DF, 12, 22555]    [DF, 1, 9755]\n",
              "1   [GO, 2, 0]    [GO, 3, 65]  ...   [GO, 12, 29455]   [GO, 1, 14151]\n",
              "2   [MS, 2, 0]    [MS, 3, 48]  ...   [MS, 12, 34700]   [MS, 1, 12382]\n",
              "3   [MT, 2, 0]    [MT, 3, 25]  ...   [MT, 12, 21294]   [MT, 1, 13627]\n",
              "4   [AL, 2, 0]    [AL, 3, 18]  ...    [AL, 12, 9834]    [AL, 1, 4902]\n",
              "5   [BA, 2, 0]   [BA, 3, 213]  ...   [BA, 12, 90329]   [BA, 1, 25555]\n",
              "6   [CE, 2, 0]   [CE, 3, 390]  ...   [CE, 12, 34464]   [CE, 1, 13323]\n",
              "7   [MA, 2, 0]    [MA, 3, 31]  ...    [MA, 12, 7768]    [MA, 1, 1636]\n",
              "8   [PB, 2, 0]    [PB, 3, 17]  ...   [PB, 12, 21231]    [PB, 1, 7715]\n",
              "9   [PE, 2, 0]    [PE, 3, 87]  ...   [PE, 12, 39760]   [PE, 1, 13875]\n",
              "10  [PI, 2, 0]    [PI, 3, 18]  ...   [PI, 12, 15658]    [PI, 1, 6195]\n",
              "11  [RN, 2, 0]    [RN, 3, 82]  ...   [RN, 12, 22960]    [RN, 1, 7467]\n",
              "12  [SE, 2, 0]    [SE, 3, 19]  ...   [SE, 12, 22357]   [SE, 1, 12437]\n",
              "13  [AC, 2, 0]    [AC, 3, 42]  ...    [AC, 12, 5361]    [AC, 1, 2165]\n",
              "14  [AM, 2, 0]   [AM, 3, 175]  ...   [AM, 12, 22813]   [AM, 1, 18531]\n",
              "15  [AP, 2, 0]    [AP, 3, 10]  ...    [AP, 12, 9070]    [AP, 1, 3848]\n",
              "16  [PA, 2, 0]    [PA, 3, 32]  ...   [PA, 12, 22992]   [PA, 1, 11472]\n",
              "17  [RO, 2, 0]     [RO, 3, 8]  ...   [RO, 12, 15191]    [RO, 1, 9008]\n",
              "18  [RR, 2, 0]    [RR, 3, 16]  ...    [RR, 12, 5367]    [RR, 1, 1397]\n",
              "19  [TO, 2, 0]    [TO, 3, 11]  ...    [TO, 12, 8726]    [TO, 1, 4023]\n",
              "20  [ES, 2, 0]    [ES, 3, 84]  ...   [ES, 12, 58361]   [ES, 1, 20856]\n",
              "21  [MG, 2, 0]   [MG, 3, 275]  ...  [MG, 12, 126574]   [MG, 1, 68243]\n",
              "22  [RJ, 2, 0]   [RJ, 3, 708]  ...   [RJ, 12, 80294]   [RJ, 1, 34789]\n",
              "23  [SP, 2, 2]  [SP, 3, 2337]  ...  [SP, 12, 220644]  [SP, 1, 114822]\n",
              "24  [PR, 2, 0]   [PR, 3, 179]  ...  [PR, 12, 136482]   [PR, 1, 70277]\n",
              "25  [RS, 2, 0]   [RS, 3, 274]  ...  [RS, 12, 127616]   [RS, 1, 41306]\n",
              "26  [SC, 2, 0]   [SC, 3, 219]  ...  [SC, 12, 128239]   [SC, 1, 36806]\n",
              "\n",
              "[27 rows x 12 columns]"
            ]
          },
          "metadata": {
            "tags": []
          },
          "execution_count": 499
        }
      ]
    },
    {
      "cell_type": "code",
      "metadata": {
        "colab": {
          "base_uri": "https://localhost:8080/",
          "height": 293
        },
        "id": "T4jm2gJt2n2-",
        "outputId": "61bccf02-b765-4a31-f661-cfb78f33a1d1"
      },
      "source": [
        "## A seguida, adicionamos estados como coluna\r\n",
        "NovosCasosDF.insert(0, \"Sigla\", estados_unicos, True)\r\n",
        "NovosCasosDF.head()"
      ],
      "execution_count": 500,
      "outputs": [
        {
          "output_type": "execute_result",
          "data": {
            "text/html": [
              "<div>\n",
              "<style scoped>\n",
              "    .dataframe tbody tr th:only-of-type {\n",
              "        vertical-align: middle;\n",
              "    }\n",
              "\n",
              "    .dataframe tbody tr th {\n",
              "        vertical-align: top;\n",
              "    }\n",
              "\n",
              "    .dataframe thead th {\n",
              "        text-align: right;\n",
              "    }\n",
              "</style>\n",
              "<table border=\"1\" class=\"dataframe\">\n",
              "  <thead>\n",
              "    <tr style=\"text-align: right;\">\n",
              "      <th></th>\n",
              "      <th>Sigla</th>\n",
              "      <th>0</th>\n",
              "      <th>1</th>\n",
              "      <th>2</th>\n",
              "      <th>3</th>\n",
              "      <th>4</th>\n",
              "      <th>5</th>\n",
              "      <th>6</th>\n",
              "      <th>7</th>\n",
              "      <th>8</th>\n",
              "      <th>9</th>\n",
              "      <th>10</th>\n",
              "      <th>11</th>\n",
              "    </tr>\n",
              "  </thead>\n",
              "  <tbody>\n",
              "    <tr>\n",
              "      <th>0</th>\n",
              "      <td>DF</td>\n",
              "      <td>[DF, 2, 0]</td>\n",
              "      <td>[DF, 3, 332]</td>\n",
              "      <td>[DF, 4, 1024]</td>\n",
              "      <td>[DF, 5, 8424]</td>\n",
              "      <td>[DF, 6, 39438]</td>\n",
              "      <td>[DF, 7, 57074]</td>\n",
              "      <td>[DF, 8, 55750]</td>\n",
              "      <td>[DF, 9, 30203]</td>\n",
              "      <td>[DF, 10, 21000]</td>\n",
              "      <td>[DF, 11, 15901]</td>\n",
              "      <td>[DF, 12, 22555]</td>\n",
              "      <td>[DF, 1, 9755]</td>\n",
              "    </tr>\n",
              "    <tr>\n",
              "      <th>1</th>\n",
              "      <td>GO</td>\n",
              "      <td>[GO, 2, 0]</td>\n",
              "      <td>[GO, 3, 65]</td>\n",
              "      <td>[GO, 4, 716]</td>\n",
              "      <td>[GO, 5, 2921]</td>\n",
              "      <td>[GO, 6, 20679]</td>\n",
              "      <td>[GO, 7, 43560]</td>\n",
              "      <td>[GO, 8, 64565]</td>\n",
              "      <td>[GO, 9, 76905]</td>\n",
              "      <td>[GO, 10, 46036]</td>\n",
              "      <td>[GO, 11, 23966]</td>\n",
              "      <td>[GO, 12, 29455]</td>\n",
              "      <td>[GO, 1, 14151]</td>\n",
              "    </tr>\n",
              "    <tr>\n",
              "      <th>2</th>\n",
              "      <td>MS</td>\n",
              "      <td>[MS, 2, 0]</td>\n",
              "      <td>[MS, 3, 48]</td>\n",
              "      <td>[MS, 4, 207]</td>\n",
              "      <td>[MS, 5, 1234]</td>\n",
              "      <td>[MS, 6, 6476]</td>\n",
              "      <td>[MS, 7, 16971]</td>\n",
              "      <td>[MS, 8, 24001]</td>\n",
              "      <td>[MS, 9, 20769]</td>\n",
              "      <td>[MS, 10, 12638]</td>\n",
              "      <td>[MS, 11, 16717]</td>\n",
              "      <td>[MS, 12, 34700]</td>\n",
              "      <td>[MS, 1, 12382]</td>\n",
              "    </tr>\n",
              "    <tr>\n",
              "      <th>3</th>\n",
              "      <td>MT</td>\n",
              "      <td>[MT, 2, 0]</td>\n",
              "      <td>[MT, 3, 25]</td>\n",
              "      <td>[MT, 4, 272]</td>\n",
              "      <td>[MT, 5, 2132]</td>\n",
              "      <td>[MT, 6, 13207]</td>\n",
              "      <td>[MT, 7, 36229]</td>\n",
              "      <td>[MT, 8, 39481]</td>\n",
              "      <td>[MT, 9, 32070]</td>\n",
              "      <td>[MT, 10, 19486]</td>\n",
              "      <td>[MT, 11, 15231]</td>\n",
              "      <td>[MT, 12, 21294]</td>\n",
              "      <td>[MT, 1, 13627]</td>\n",
              "    </tr>\n",
              "    <tr>\n",
              "      <th>4</th>\n",
              "      <td>AL</td>\n",
              "      <td>[AL, 2, 0]</td>\n",
              "      <td>[AL, 3, 18]</td>\n",
              "      <td>[AL, 4, 1026]</td>\n",
              "      <td>[AL, 5, 9244]</td>\n",
              "      <td>[AL, 6, 25674]</td>\n",
              "      <td>[AL, 7, 23763]</td>\n",
              "      <td>[AL, 8, 19079]</td>\n",
              "      <td>[AL, 9, 8075]</td>\n",
              "      <td>[AL, 10, 3910]</td>\n",
              "      <td>[AL, 11, 4195]</td>\n",
              "      <td>[AL, 12, 9834]</td>\n",
              "      <td>[AL, 1, 4902]</td>\n",
              "    </tr>\n",
              "  </tbody>\n",
              "</table>\n",
              "</div>"
            ],
            "text/plain": [
              "  Sigla           0  ...               10              11\n",
              "0    DF  [DF, 2, 0]  ...  [DF, 12, 22555]   [DF, 1, 9755]\n",
              "1    GO  [GO, 2, 0]  ...  [GO, 12, 29455]  [GO, 1, 14151]\n",
              "2    MS  [MS, 2, 0]  ...  [MS, 12, 34700]  [MS, 1, 12382]\n",
              "3    MT  [MT, 2, 0]  ...  [MT, 12, 21294]  [MT, 1, 13627]\n",
              "4    AL  [AL, 2, 0]  ...   [AL, 12, 9834]   [AL, 1, 4902]\n",
              "\n",
              "[5 rows x 13 columns]"
            ]
          },
          "metadata": {
            "tags": []
          },
          "execution_count": 500
        }
      ]
    },
    {
      "cell_type": "code",
      "metadata": {
        "id": "4avjaIij6ENi"
      },
      "source": [
        "## Deixa somente os meses\r\n",
        "for coluna in NovosCasosDF.columns[1:]:\r\n",
        "    \r\n",
        "    # Objeto vazio para casos\r\n",
        "    lista_de_casos = []\r\n",
        "    \r\n",
        "    #print(NewCasesDF[column])\r\n",
        "    for list in NovosCasosDF[coluna]:\r\n",
        "        lista_de_casos.append(list[2])\r\n",
        "        \r\n",
        "    # Salva os novos casos\r\n",
        "    NovosCasosDF[coluna] = lista_de_casos"
      ],
      "execution_count": 501,
      "outputs": []
    },
    {
      "cell_type": "code",
      "metadata": {
        "colab": {
          "base_uri": "https://localhost:8080/",
          "height": 206
        },
        "id": "J2ads94C6Oc0",
        "outputId": "d3dc9bd8-0915-44c9-9016-dd20ed348aef"
      },
      "source": [
        "## Então, veja a saída:\r\n",
        "NovosCasosDF.head()"
      ],
      "execution_count": 502,
      "outputs": [
        {
          "output_type": "execute_result",
          "data": {
            "text/html": [
              "<div>\n",
              "<style scoped>\n",
              "    .dataframe tbody tr th:only-of-type {\n",
              "        vertical-align: middle;\n",
              "    }\n",
              "\n",
              "    .dataframe tbody tr th {\n",
              "        vertical-align: top;\n",
              "    }\n",
              "\n",
              "    .dataframe thead th {\n",
              "        text-align: right;\n",
              "    }\n",
              "</style>\n",
              "<table border=\"1\" class=\"dataframe\">\n",
              "  <thead>\n",
              "    <tr style=\"text-align: right;\">\n",
              "      <th></th>\n",
              "      <th>Sigla</th>\n",
              "      <th>0</th>\n",
              "      <th>1</th>\n",
              "      <th>2</th>\n",
              "      <th>3</th>\n",
              "      <th>4</th>\n",
              "      <th>5</th>\n",
              "      <th>6</th>\n",
              "      <th>7</th>\n",
              "      <th>8</th>\n",
              "      <th>9</th>\n",
              "      <th>10</th>\n",
              "      <th>11</th>\n",
              "    </tr>\n",
              "  </thead>\n",
              "  <tbody>\n",
              "    <tr>\n",
              "      <th>0</th>\n",
              "      <td>DF</td>\n",
              "      <td>0</td>\n",
              "      <td>332</td>\n",
              "      <td>1024</td>\n",
              "      <td>8424</td>\n",
              "      <td>39438</td>\n",
              "      <td>57074</td>\n",
              "      <td>55750</td>\n",
              "      <td>30203</td>\n",
              "      <td>21000</td>\n",
              "      <td>15901</td>\n",
              "      <td>22555</td>\n",
              "      <td>9755</td>\n",
              "    </tr>\n",
              "    <tr>\n",
              "      <th>1</th>\n",
              "      <td>GO</td>\n",
              "      <td>0</td>\n",
              "      <td>65</td>\n",
              "      <td>716</td>\n",
              "      <td>2921</td>\n",
              "      <td>20679</td>\n",
              "      <td>43560</td>\n",
              "      <td>64565</td>\n",
              "      <td>76905</td>\n",
              "      <td>46036</td>\n",
              "      <td>23966</td>\n",
              "      <td>29455</td>\n",
              "      <td>14151</td>\n",
              "    </tr>\n",
              "    <tr>\n",
              "      <th>2</th>\n",
              "      <td>MS</td>\n",
              "      <td>0</td>\n",
              "      <td>48</td>\n",
              "      <td>207</td>\n",
              "      <td>1234</td>\n",
              "      <td>6476</td>\n",
              "      <td>16971</td>\n",
              "      <td>24001</td>\n",
              "      <td>20769</td>\n",
              "      <td>12638</td>\n",
              "      <td>16717</td>\n",
              "      <td>34700</td>\n",
              "      <td>12382</td>\n",
              "    </tr>\n",
              "    <tr>\n",
              "      <th>3</th>\n",
              "      <td>MT</td>\n",
              "      <td>0</td>\n",
              "      <td>25</td>\n",
              "      <td>272</td>\n",
              "      <td>2132</td>\n",
              "      <td>13207</td>\n",
              "      <td>36229</td>\n",
              "      <td>39481</td>\n",
              "      <td>32070</td>\n",
              "      <td>19486</td>\n",
              "      <td>15231</td>\n",
              "      <td>21294</td>\n",
              "      <td>13627</td>\n",
              "    </tr>\n",
              "    <tr>\n",
              "      <th>4</th>\n",
              "      <td>AL</td>\n",
              "      <td>0</td>\n",
              "      <td>18</td>\n",
              "      <td>1026</td>\n",
              "      <td>9244</td>\n",
              "      <td>25674</td>\n",
              "      <td>23763</td>\n",
              "      <td>19079</td>\n",
              "      <td>8075</td>\n",
              "      <td>3910</td>\n",
              "      <td>4195</td>\n",
              "      <td>9834</td>\n",
              "      <td>4902</td>\n",
              "    </tr>\n",
              "  </tbody>\n",
              "</table>\n",
              "</div>"
            ],
            "text/plain": [
              "  Sigla  0    1     2     3      4  ...      6      7      8      9     10     11\n",
              "0    DF  0  332  1024  8424  39438  ...  55750  30203  21000  15901  22555   9755\n",
              "1    GO  0   65   716  2921  20679  ...  64565  76905  46036  23966  29455  14151\n",
              "2    MS  0   48   207  1234   6476  ...  24001  20769  12638  16717  34700  12382\n",
              "3    MT  0   25   272  2132  13207  ...  39481  32070  19486  15231  21294  13627\n",
              "4    AL  0   18  1026  9244  25674  ...  19079   8075   3910   4195   9834   4902\n",
              "\n",
              "[5 rows x 13 columns]"
            ]
          },
          "metadata": {
            "tags": []
          },
          "execution_count": 502
        }
      ]
    },
    {
      "cell_type": "markdown",
      "metadata": {
        "id": "OpxtQfecDhdf"
      },
      "source": [
        "## Em detalhes...\r\n",
        "![img04cases](https://i.imgur.com/sdLF4ab.png)"
      ]
    },
    {
      "cell_type": "markdown",
      "metadata": {
        "id": "2-xwJjwS8Ed0"
      },
      "source": [
        "## Renomeando colunas\r\n",
        "\r\n",
        "Para que todas as tabelas tenham o mesmo nome de colunas, e assim sejam todas comparáveis, vamos renomear as colunas da nossa matriz formatada, `NovosCasosDF`."
      ]
    },
    {
      "cell_type": "code",
      "metadata": {
        "colab": {
          "base_uri": "https://localhost:8080/",
          "height": 363
        },
        "id": "k5cn7e5K8Ou2",
        "outputId": "a1612727-98a2-4427-a458-037b633831c4"
      },
      "source": [
        "## Renomeia as colunas, mês a mês\r\n",
        "NovosCasosRenomeada = NovosCasosDF.rename(columns = {0 : str(\"2020.02\"),\r\n",
        "                                      1 : \"2020.03\",\r\n",
        "                                      2 : \"2020.04\",\r\n",
        "                                      3 : \"2020.05\",\r\n",
        "                                      4 : \"2020.06\",\r\n",
        "                                      5 : \"2020.07\",\r\n",
        "                                      6 : \"2020.08\",\r\n",
        "                                      7 : \"2020.09\",\r\n",
        "                                      8 : \"2020.10\",\r\n",
        "                                      9 : \"2020.11\",\r\n",
        "                                      10 : \"2020.12\",\r\n",
        "                                      11 : \"2021.01\"})\r\n",
        "\r\n",
        "## Exibe o resultado parcialmente\r\n",
        "NovosCasosRenomeada.head(10)"
      ],
      "execution_count": 503,
      "outputs": [
        {
          "output_type": "execute_result",
          "data": {
            "text/html": [
              "<div>\n",
              "<style scoped>\n",
              "    .dataframe tbody tr th:only-of-type {\n",
              "        vertical-align: middle;\n",
              "    }\n",
              "\n",
              "    .dataframe tbody tr th {\n",
              "        vertical-align: top;\n",
              "    }\n",
              "\n",
              "    .dataframe thead th {\n",
              "        text-align: right;\n",
              "    }\n",
              "</style>\n",
              "<table border=\"1\" class=\"dataframe\">\n",
              "  <thead>\n",
              "    <tr style=\"text-align: right;\">\n",
              "      <th></th>\n",
              "      <th>Sigla</th>\n",
              "      <th>2020.02</th>\n",
              "      <th>2020.03</th>\n",
              "      <th>2020.04</th>\n",
              "      <th>2020.05</th>\n",
              "      <th>2020.06</th>\n",
              "      <th>2020.07</th>\n",
              "      <th>2020.08</th>\n",
              "      <th>2020.09</th>\n",
              "      <th>2020.10</th>\n",
              "      <th>2020.11</th>\n",
              "      <th>2020.12</th>\n",
              "      <th>2021.01</th>\n",
              "    </tr>\n",
              "  </thead>\n",
              "  <tbody>\n",
              "    <tr>\n",
              "      <th>0</th>\n",
              "      <td>DF</td>\n",
              "      <td>0</td>\n",
              "      <td>332</td>\n",
              "      <td>1024</td>\n",
              "      <td>8424</td>\n",
              "      <td>39438</td>\n",
              "      <td>57074</td>\n",
              "      <td>55750</td>\n",
              "      <td>30203</td>\n",
              "      <td>21000</td>\n",
              "      <td>15901</td>\n",
              "      <td>22555</td>\n",
              "      <td>9755</td>\n",
              "    </tr>\n",
              "    <tr>\n",
              "      <th>1</th>\n",
              "      <td>GO</td>\n",
              "      <td>0</td>\n",
              "      <td>65</td>\n",
              "      <td>716</td>\n",
              "      <td>2921</td>\n",
              "      <td>20679</td>\n",
              "      <td>43560</td>\n",
              "      <td>64565</td>\n",
              "      <td>76905</td>\n",
              "      <td>46036</td>\n",
              "      <td>23966</td>\n",
              "      <td>29455</td>\n",
              "      <td>14151</td>\n",
              "    </tr>\n",
              "    <tr>\n",
              "      <th>2</th>\n",
              "      <td>MS</td>\n",
              "      <td>0</td>\n",
              "      <td>48</td>\n",
              "      <td>207</td>\n",
              "      <td>1234</td>\n",
              "      <td>6476</td>\n",
              "      <td>16971</td>\n",
              "      <td>24001</td>\n",
              "      <td>20769</td>\n",
              "      <td>12638</td>\n",
              "      <td>16717</td>\n",
              "      <td>34700</td>\n",
              "      <td>12382</td>\n",
              "    </tr>\n",
              "    <tr>\n",
              "      <th>3</th>\n",
              "      <td>MT</td>\n",
              "      <td>0</td>\n",
              "      <td>25</td>\n",
              "      <td>272</td>\n",
              "      <td>2132</td>\n",
              "      <td>13207</td>\n",
              "      <td>36229</td>\n",
              "      <td>39481</td>\n",
              "      <td>32070</td>\n",
              "      <td>19486</td>\n",
              "      <td>15231</td>\n",
              "      <td>21294</td>\n",
              "      <td>13627</td>\n",
              "    </tr>\n",
              "    <tr>\n",
              "      <th>4</th>\n",
              "      <td>AL</td>\n",
              "      <td>0</td>\n",
              "      <td>18</td>\n",
              "      <td>1026</td>\n",
              "      <td>9244</td>\n",
              "      <td>25674</td>\n",
              "      <td>23763</td>\n",
              "      <td>19079</td>\n",
              "      <td>8075</td>\n",
              "      <td>3910</td>\n",
              "      <td>4195</td>\n",
              "      <td>9834</td>\n",
              "      <td>4902</td>\n",
              "    </tr>\n",
              "    <tr>\n",
              "      <th>5</th>\n",
              "      <td>BA</td>\n",
              "      <td>0</td>\n",
              "      <td>213</td>\n",
              "      <td>2638</td>\n",
              "      <td>15541</td>\n",
              "      <td>54915</td>\n",
              "      <td>92847</td>\n",
              "      <td>90573</td>\n",
              "      <td>53799</td>\n",
              "      <td>42631</td>\n",
              "      <td>49914</td>\n",
              "      <td>90329</td>\n",
              "      <td>25555</td>\n",
              "    </tr>\n",
              "    <tr>\n",
              "      <th>6</th>\n",
              "      <td>CE</td>\n",
              "      <td>0</td>\n",
              "      <td>390</td>\n",
              "      <td>7216</td>\n",
              "      <td>40883</td>\n",
              "      <td>60210</td>\n",
              "      <td>65183</td>\n",
              "      <td>41071</td>\n",
              "      <td>26206</td>\n",
              "      <td>33026</td>\n",
              "      <td>26442</td>\n",
              "      <td>34464</td>\n",
              "      <td>13323</td>\n",
              "    </tr>\n",
              "    <tr>\n",
              "      <th>7</th>\n",
              "      <td>MA</td>\n",
              "      <td>0</td>\n",
              "      <td>31</td>\n",
              "      <td>3159</td>\n",
              "      <td>31449</td>\n",
              "      <td>45812</td>\n",
              "      <td>40210</td>\n",
              "      <td>30954</td>\n",
              "      <td>21949</td>\n",
              "      <td>12263</td>\n",
              "      <td>7343</td>\n",
              "      <td>7768</td>\n",
              "      <td>1636</td>\n",
              "    </tr>\n",
              "    <tr>\n",
              "      <th>8</th>\n",
              "      <td>PB</td>\n",
              "      <td>0</td>\n",
              "      <td>17</td>\n",
              "      <td>797</td>\n",
              "      <td>12348</td>\n",
              "      <td>33795</td>\n",
              "      <td>35837</td>\n",
              "      <td>22984</td>\n",
              "      <td>15489</td>\n",
              "      <td>11882</td>\n",
              "      <td>12104</td>\n",
              "      <td>21231</td>\n",
              "      <td>7715</td>\n",
              "    </tr>\n",
              "    <tr>\n",
              "      <th>9</th>\n",
              "      <td>PE</td>\n",
              "      <td>0</td>\n",
              "      <td>87</td>\n",
              "      <td>6789</td>\n",
              "      <td>27574</td>\n",
              "      <td>24408</td>\n",
              "      <td>36147</td>\n",
              "      <td>30534</td>\n",
              "      <td>21632</td>\n",
              "      <td>15722</td>\n",
              "      <td>19513</td>\n",
              "      <td>39760</td>\n",
              "      <td>13875</td>\n",
              "    </tr>\n",
              "  </tbody>\n",
              "</table>\n",
              "</div>"
            ],
            "text/plain": [
              "  Sigla  2020.02  2020.03  2020.04  ...  2020.10  2020.11  2020.12  2021.01\n",
              "0    DF        0      332     1024  ...    21000    15901    22555     9755\n",
              "1    GO        0       65      716  ...    46036    23966    29455    14151\n",
              "2    MS        0       48      207  ...    12638    16717    34700    12382\n",
              "3    MT        0       25      272  ...    19486    15231    21294    13627\n",
              "4    AL        0       18     1026  ...     3910     4195     9834     4902\n",
              "5    BA        0      213     2638  ...    42631    49914    90329    25555\n",
              "6    CE        0      390     7216  ...    33026    26442    34464    13323\n",
              "7    MA        0       31     3159  ...    12263     7343     7768     1636\n",
              "8    PB        0       17      797  ...    11882    12104    21231     7715\n",
              "9    PE        0       87     6789  ...    15722    19513    39760    13875\n",
              "\n",
              "[10 rows x 13 columns]"
            ]
          },
          "metadata": {
            "tags": []
          },
          "execution_count": 503
        }
      ]
    },
    {
      "cell_type": "markdown",
      "metadata": {
        "id": "pIvOHjy38pSG"
      },
      "source": [
        "Assim, vamos dar algumas olhadas, finalmente, em como se parecem os nossos dados.\r\n",
        "\r\n",
        "# Matplotlib: ferramentas gráficas essenciais\r\n",
        "\r\n",
        "Como conversamos, um dos principais pacotes que se utiliza de funcionalidade gráfica é o `matplotlib`, que importamos no começo de nosso código como `mp`.\r\n",
        "\r\n",
        "## Histogramas: contando frequências\r\n",
        "\r\n",
        "Uma das formas gráficas mais simples é a de histogramas, cuja função principal é mostrar quantas vezes uma certa contagem aparece, ou seja, a frequência de uma contagem.\r\n",
        "\r\n",
        "Primeiro, vamos olhar os dados originais para o Estado de São Paulo: qual foi o número de casos mais frequentemente relatado?\r\n"
      ]
    },
    {
      "cell_type": "code",
      "metadata": {
        "colab": {
          "base_uri": "https://localhost:8080/",
          "height": 206
        },
        "id": "Dn3Kq0sT-gtm",
        "outputId": "f743df93-da0a-4227-c123-63ca4ba297be"
      },
      "source": [
        "## Primeiro, vamos separar somente os casos de SP.\r\n",
        "casesSP = df_covid[df_covid['state'] == \"SP\"]\r\n",
        "casesSP.head()"
      ],
      "execution_count": 504,
      "outputs": [
        {
          "output_type": "execute_result",
          "data": {
            "text/html": [
              "<div>\n",
              "<style scoped>\n",
              "    .dataframe tbody tr th:only-of-type {\n",
              "        vertical-align: middle;\n",
              "    }\n",
              "\n",
              "    .dataframe tbody tr th {\n",
              "        vertical-align: top;\n",
              "    }\n",
              "\n",
              "    .dataframe thead th {\n",
              "        text-align: right;\n",
              "    }\n",
              "</style>\n",
              "<table border=\"1\" class=\"dataframe\">\n",
              "  <thead>\n",
              "    <tr style=\"text-align: right;\">\n",
              "      <th></th>\n",
              "      <th>date</th>\n",
              "      <th>region</th>\n",
              "      <th>state</th>\n",
              "      <th>cases</th>\n",
              "      <th>deaths</th>\n",
              "      <th>Month</th>\n",
              "    </tr>\n",
              "  </thead>\n",
              "  <tbody>\n",
              "    <tr>\n",
              "      <th>23</th>\n",
              "      <td>2020-02-25</td>\n",
              "      <td>Sudeste</td>\n",
              "      <td>SP</td>\n",
              "      <td>0</td>\n",
              "      <td>0</td>\n",
              "      <td>2</td>\n",
              "    </tr>\n",
              "    <tr>\n",
              "      <th>50</th>\n",
              "      <td>2020-02-26</td>\n",
              "      <td>Sudeste</td>\n",
              "      <td>SP</td>\n",
              "      <td>1</td>\n",
              "      <td>0</td>\n",
              "      <td>2</td>\n",
              "    </tr>\n",
              "    <tr>\n",
              "      <th>77</th>\n",
              "      <td>2020-02-27</td>\n",
              "      <td>Sudeste</td>\n",
              "      <td>SP</td>\n",
              "      <td>1</td>\n",
              "      <td>0</td>\n",
              "      <td>2</td>\n",
              "    </tr>\n",
              "    <tr>\n",
              "      <th>104</th>\n",
              "      <td>2020-02-28</td>\n",
              "      <td>Sudeste</td>\n",
              "      <td>SP</td>\n",
              "      <td>1</td>\n",
              "      <td>0</td>\n",
              "      <td>2</td>\n",
              "    </tr>\n",
              "    <tr>\n",
              "      <th>131</th>\n",
              "      <td>2020-02-29</td>\n",
              "      <td>Sudeste</td>\n",
              "      <td>SP</td>\n",
              "      <td>2</td>\n",
              "      <td>0</td>\n",
              "      <td>2</td>\n",
              "    </tr>\n",
              "  </tbody>\n",
              "</table>\n",
              "</div>"
            ],
            "text/plain": [
              "           date   region state  cases  deaths  Month\n",
              "23   2020-02-25  Sudeste    SP      0       0      2\n",
              "50   2020-02-26  Sudeste    SP      1       0      2\n",
              "77   2020-02-27  Sudeste    SP      1       0      2\n",
              "104  2020-02-28  Sudeste    SP      1       0      2\n",
              "131  2020-02-29  Sudeste    SP      2       0      2"
            ]
          },
          "metadata": {
            "tags": []
          },
          "execution_count": 504
        }
      ]
    },
    {
      "cell_type": "code",
      "metadata": {
        "colab": {
          "base_uri": "https://localhost:8080/"
        },
        "id": "tqTHbb52JnHM",
        "outputId": "d6980fab-53cd-41aa-9dc4-1c60e1c7a6c0"
      },
      "source": [
        "# Como são os casos de fato?\r\n",
        "## Ponta inicial\r\n",
        "casesSP['cases'].head()"
      ],
      "execution_count": 505,
      "outputs": [
        {
          "output_type": "execute_result",
          "data": {
            "text/plain": [
              "23     0\n",
              "50     1\n",
              "77     1\n",
              "104    1\n",
              "131    2\n",
              "Name: cases, dtype: int64"
            ]
          },
          "metadata": {
            "tags": []
          },
          "execution_count": 505
        }
      ]
    },
    {
      "cell_type": "code",
      "metadata": {
        "colab": {
          "base_uri": "https://localhost:8080/"
        },
        "id": "UBru2QozJtgS",
        "outputId": "4a317cc6-a1ff-47a2-e16b-97b11ab7d93b"
      },
      "source": [
        "## Ponta final\r\n",
        "casesSP['cases'].tail()"
      ],
      "execution_count": 506,
      "outputs": [
        {
          "output_type": "execute_result",
          "data": {
            "text/plain": [
              "8636    1540513\n",
              "8663    1546132\n",
              "8690    1549142\n",
              "8717    1561844\n",
              "8744    1577119\n",
              "Name: cases, dtype: int64"
            ]
          },
          "metadata": {
            "tags": []
          },
          "execution_count": 506
        }
      ]
    },
    {
      "cell_type": "code",
      "metadata": {
        "colab": {
          "base_uri": "https://localhost:8080/",
          "height": 351
        },
        "id": "bz2UK7nEIz9T",
        "outputId": "161922ee-0957-4504-ca34-bc26c1509e20"
      },
      "source": [
        "## Então, executamos o histograma\r\n",
        "mp.pyplot.hist(x=casesSP['cases'])"
      ],
      "execution_count": 507,
      "outputs": [
        {
          "output_type": "execute_result",
          "data": {
            "text/plain": [
              "(array([107.,  24.,  20.,  17.,  17.,  26.,  36.,  35.,  22.,  20.]),\n",
              " array([      0. ,  157711.9,  315423.8,  473135.7,  630847.6,  788559.5,\n",
              "         946271.4, 1103983.3, 1261695.2, 1419407.1, 1577119. ]),\n",
              " <a list of 10 Patch objects>)"
            ]
          },
          "metadata": {
            "tags": []
          },
          "execution_count": 507
        },
        {
          "output_type": "display_data",
          "data": {
            "image/png": "[encoded data removed]",
            "text/plain": [
              "<Figure size 432x288 with 1 Axes>"
            ]
          },
          "metadata": {
            "tags": [],
            "needs_background": "light"
          }
        }
      ]
    },
    {
      "cell_type": "markdown",
      "metadata": {
        "id": "O6onvBCcJgfN"
      },
      "source": [
        "Observamos acima que a Python sozinha fez diversos escalonamentos e alterações, que mostra que por muito tempo houveram menos de 200 mil casos, mas que prosseguiu em velocidade aproximadamente constante até 1.0 mi de casos, em que a coisa acelerou.\r\n",
        "\r\n",
        "Notar que a figura é de baixa qualidade, mas pode ser exportada e visualizada em maior detalhe:"
      ]
    },
    {
      "cell_type": "code",
      "metadata": {
        "colab": {
          "base_uri": "https://localhost:8080/",
          "height": 278
        },
        "id": "m1SXFGauKZXg",
        "outputId": "68ca21fb-2b28-4a23-8059-cce78af97f01"
      },
      "source": [
        "# Chamamos o ambiente de figura\r\n",
        "mp.pyplot.figure()\r\n",
        "\r\n",
        "# Plotamos o gráfico em si\r\n",
        "mp.pyplot.hist(x=casesSP['cases'])\r\n",
        "\r\n",
        "# Finalmente, solicitamos que seja salvo em SVG, de alta qualidade\r\n",
        "mp.pyplot.savefig(f\"{images_dir}/abc.svg\", format=\"svg\")"
      ],
      "execution_count": 508,
      "outputs": [
        {
          "output_type": "display_data",
          "data": {
            "image/png": "[encoded data removed]",
            "text/plain": [
              "<Figure size 432x288 with 1 Axes>"
            ]
          },
          "metadata": {
            "tags": [],
            "needs_background": "light"
          }
        }
      ]
    },
    {
      "cell_type": "markdown",
      "metadata": {
        "id": "ZhkTQmoeKufh"
      },
      "source": [
        "Vamos tentar novamente, agora com os dados transformados os quais geramos, cuja informação não é o número de casos acumulados, mas sim o total de casos novos por mês."
      ]
    },
    {
      "cell_type": "code",
      "metadata": {
        "colab": {
          "base_uri": "https://localhost:8080/",
          "height": 206
        },
        "id": "9JoX3uUqKtZU",
        "outputId": "c5f94355-3bfd-4f96-b2c2-d17d12e8276b"
      },
      "source": [
        "## Lembre-se da nova matriz\r\n",
        "NovosCasosRenomeada.head()"
      ],
      "execution_count": 509,
      "outputs": [
        {
          "output_type": "execute_result",
          "data": {
            "text/html": [
              "<div>\n",
              "<style scoped>\n",
              "    .dataframe tbody tr th:only-of-type {\n",
              "        vertical-align: middle;\n",
              "    }\n",
              "\n",
              "    .dataframe tbody tr th {\n",
              "        vertical-align: top;\n",
              "    }\n",
              "\n",
              "    .dataframe thead th {\n",
              "        text-align: right;\n",
              "    }\n",
              "</style>\n",
              "<table border=\"1\" class=\"dataframe\">\n",
              "  <thead>\n",
              "    <tr style=\"text-align: right;\">\n",
              "      <th></th>\n",
              "      <th>Sigla</th>\n",
              "      <th>2020.02</th>\n",
              "      <th>2020.03</th>\n",
              "      <th>2020.04</th>\n",
              "      <th>2020.05</th>\n",
              "      <th>2020.06</th>\n",
              "      <th>2020.07</th>\n",
              "      <th>2020.08</th>\n",
              "      <th>2020.09</th>\n",
              "      <th>2020.10</th>\n",
              "      <th>2020.11</th>\n",
              "      <th>2020.12</th>\n",
              "      <th>2021.01</th>\n",
              "    </tr>\n",
              "  </thead>\n",
              "  <tbody>\n",
              "    <tr>\n",
              "      <th>0</th>\n",
              "      <td>DF</td>\n",
              "      <td>0</td>\n",
              "      <td>332</td>\n",
              "      <td>1024</td>\n",
              "      <td>8424</td>\n",
              "      <td>39438</td>\n",
              "      <td>57074</td>\n",
              "      <td>55750</td>\n",
              "      <td>30203</td>\n",
              "      <td>21000</td>\n",
              "      <td>15901</td>\n",
              "      <td>22555</td>\n",
              "      <td>9755</td>\n",
              "    </tr>\n",
              "    <tr>\n",
              "      <th>1</th>\n",
              "      <td>GO</td>\n",
              "      <td>0</td>\n",
              "      <td>65</td>\n",
              "      <td>716</td>\n",
              "      <td>2921</td>\n",
              "      <td>20679</td>\n",
              "      <td>43560</td>\n",
              "      <td>64565</td>\n",
              "      <td>76905</td>\n",
              "      <td>46036</td>\n",
              "      <td>23966</td>\n",
              "      <td>29455</td>\n",
              "      <td>14151</td>\n",
              "    </tr>\n",
              "    <tr>\n",
              "      <th>2</th>\n",
              "      <td>MS</td>\n",
              "      <td>0</td>\n",
              "      <td>48</td>\n",
              "      <td>207</td>\n",
              "      <td>1234</td>\n",
              "      <td>6476</td>\n",
              "      <td>16971</td>\n",
              "      <td>24001</td>\n",
              "      <td>20769</td>\n",
              "      <td>12638</td>\n",
              "      <td>16717</td>\n",
              "      <td>34700</td>\n",
              "      <td>12382</td>\n",
              "    </tr>\n",
              "    <tr>\n",
              "      <th>3</th>\n",
              "      <td>MT</td>\n",
              "      <td>0</td>\n",
              "      <td>25</td>\n",
              "      <td>272</td>\n",
              "      <td>2132</td>\n",
              "      <td>13207</td>\n",
              "      <td>36229</td>\n",
              "      <td>39481</td>\n",
              "      <td>32070</td>\n",
              "      <td>19486</td>\n",
              "      <td>15231</td>\n",
              "      <td>21294</td>\n",
              "      <td>13627</td>\n",
              "    </tr>\n",
              "    <tr>\n",
              "      <th>4</th>\n",
              "      <td>AL</td>\n",
              "      <td>0</td>\n",
              "      <td>18</td>\n",
              "      <td>1026</td>\n",
              "      <td>9244</td>\n",
              "      <td>25674</td>\n",
              "      <td>23763</td>\n",
              "      <td>19079</td>\n",
              "      <td>8075</td>\n",
              "      <td>3910</td>\n",
              "      <td>4195</td>\n",
              "      <td>9834</td>\n",
              "      <td>4902</td>\n",
              "    </tr>\n",
              "  </tbody>\n",
              "</table>\n",
              "</div>"
            ],
            "text/plain": [
              "  Sigla  2020.02  2020.03  2020.04  ...  2020.10  2020.11  2020.12  2021.01\n",
              "0    DF        0      332     1024  ...    21000    15901    22555     9755\n",
              "1    GO        0       65      716  ...    46036    23966    29455    14151\n",
              "2    MS        0       48      207  ...    12638    16717    34700    12382\n",
              "3    MT        0       25      272  ...    19486    15231    21294    13627\n",
              "4    AL        0       18     1026  ...     3910     4195     9834     4902\n",
              "\n",
              "[5 rows x 13 columns]"
            ]
          },
          "metadata": {
            "tags": []
          },
          "execution_count": 509
        }
      ]
    },
    {
      "cell_type": "code",
      "metadata": {
        "colab": {
          "base_uri": "https://localhost:8080/",
          "height": 81
        },
        "id": "2gHEWYjtPlPk",
        "outputId": "27c20a9c-4d21-4935-ea93-b772a80abadb"
      },
      "source": [
        "## Vamos separar somente para SP\r\n",
        "SP_Casos = NovosCasosRenomeada[NovosCasosRenomeada[\"Sigla\"] == \"SP\"]\r\n",
        "SP_Casos"
      ],
      "execution_count": 510,
      "outputs": [
        {
          "output_type": "execute_result",
          "data": {
            "text/html": [
              "<div>\n",
              "<style scoped>\n",
              "    .dataframe tbody tr th:only-of-type {\n",
              "        vertical-align: middle;\n",
              "    }\n",
              "\n",
              "    .dataframe tbody tr th {\n",
              "        vertical-align: top;\n",
              "    }\n",
              "\n",
              "    .dataframe thead th {\n",
              "        text-align: right;\n",
              "    }\n",
              "</style>\n",
              "<table border=\"1\" class=\"dataframe\">\n",
              "  <thead>\n",
              "    <tr style=\"text-align: right;\">\n",
              "      <th></th>\n",
              "      <th>Sigla</th>\n",
              "      <th>2020.02</th>\n",
              "      <th>2020.03</th>\n",
              "      <th>2020.04</th>\n",
              "      <th>2020.05</th>\n",
              "      <th>2020.06</th>\n",
              "      <th>2020.07</th>\n",
              "      <th>2020.08</th>\n",
              "      <th>2020.09</th>\n",
              "      <th>2020.10</th>\n",
              "      <th>2020.11</th>\n",
              "      <th>2020.12</th>\n",
              "      <th>2021.01</th>\n",
              "    </tr>\n",
              "  </thead>\n",
              "  <tbody>\n",
              "    <tr>\n",
              "      <th>23</th>\n",
              "      <td>SP</td>\n",
              "      <td>2</td>\n",
              "      <td>2337</td>\n",
              "      <td>26359</td>\n",
              "      <td>81000</td>\n",
              "      <td>171682</td>\n",
              "      <td>260924</td>\n",
              "      <td>262038</td>\n",
              "      <td>181286</td>\n",
              "      <td>130499</td>\n",
              "      <td>125526</td>\n",
              "      <td>220644</td>\n",
              "      <td>114822</td>\n",
              "    </tr>\n",
              "  </tbody>\n",
              "</table>\n",
              "</div>"
            ],
            "text/plain": [
              "   Sigla  2020.02  2020.03  2020.04  ...  2020.10  2020.11  2020.12  2021.01\n",
              "23    SP        2     2337    26359  ...   130499   125526   220644   114822\n",
              "\n",
              "[1 rows x 13 columns]"
            ]
          },
          "metadata": {
            "tags": []
          },
          "execution_count": 510
        }
      ]
    },
    {
      "cell_type": "code",
      "metadata": {
        "colab": {
          "base_uri": "https://localhost:8080/",
          "height": 81
        },
        "id": "0Yk9yfN4Pqng",
        "outputId": "0f2e1f3f-3a32-46dc-d72a-e80020a68bb5"
      },
      "source": [
        "## Queremos apenas as colunas numéricas\r\n",
        "SP_Casos_Num = SP_Casos.iloc[:, 1:13]\r\n",
        "SP_Casos_Num"
      ],
      "execution_count": 511,
      "outputs": [
        {
          "output_type": "execute_result",
          "data": {
            "text/html": [
              "<div>\n",
              "<style scoped>\n",
              "    .dataframe tbody tr th:only-of-type {\n",
              "        vertical-align: middle;\n",
              "    }\n",
              "\n",
              "    .dataframe tbody tr th {\n",
              "        vertical-align: top;\n",
              "    }\n",
              "\n",
              "    .dataframe thead th {\n",
              "        text-align: right;\n",
              "    }\n",
              "</style>\n",
              "<table border=\"1\" class=\"dataframe\">\n",
              "  <thead>\n",
              "    <tr style=\"text-align: right;\">\n",
              "      <th></th>\n",
              "      <th>2020.02</th>\n",
              "      <th>2020.03</th>\n",
              "      <th>2020.04</th>\n",
              "      <th>2020.05</th>\n",
              "      <th>2020.06</th>\n",
              "      <th>2020.07</th>\n",
              "      <th>2020.08</th>\n",
              "      <th>2020.09</th>\n",
              "      <th>2020.10</th>\n",
              "      <th>2020.11</th>\n",
              "      <th>2020.12</th>\n",
              "      <th>2021.01</th>\n",
              "    </tr>\n",
              "  </thead>\n",
              "  <tbody>\n",
              "    <tr>\n",
              "      <th>23</th>\n",
              "      <td>2</td>\n",
              "      <td>2337</td>\n",
              "      <td>26359</td>\n",
              "      <td>81000</td>\n",
              "      <td>171682</td>\n",
              "      <td>260924</td>\n",
              "      <td>262038</td>\n",
              "      <td>181286</td>\n",
              "      <td>130499</td>\n",
              "      <td>125526</td>\n",
              "      <td>220644</td>\n",
              "      <td>114822</td>\n",
              "    </tr>\n",
              "  </tbody>\n",
              "</table>\n",
              "</div>"
            ],
            "text/plain": [
              "    2020.02  2020.03  2020.04  2020.05  ...  2020.10  2020.11  2020.12  2021.01\n",
              "23        2     2337    26359    81000  ...   130499   125526   220644   114822\n",
              "\n",
              "[1 rows x 12 columns]"
            ]
          },
          "metadata": {
            "tags": []
          },
          "execution_count": 511
        }
      ]
    },
    {
      "cell_type": "code",
      "metadata": {
        "id": "OCWv-qgrQjHi",
        "colab": {
          "base_uri": "https://localhost:8080/",
          "height": 356
        },
        "outputId": "6b778963-2689-4e1d-e83f-ebc9fb6b947d"
      },
      "source": [
        "## Então executamos o histograma\r\n",
        "plt.hist(SP_Casos_Num)"
      ],
      "execution_count": 512,
      "outputs": [
        {
          "output_type": "execute_result",
          "data": {
            "text/plain": [
              "(array([2., 1., 0., 1., 3., 0., 2., 0., 1., 2.]),\n",
              " array([2.000000e+00, 2.620560e+04, 5.240920e+04, 7.861280e+04,\n",
              "        1.048164e+05, 1.310200e+05, 1.572236e+05, 1.834272e+05,\n",
              "        2.096308e+05, 2.358344e+05, 2.620380e+05]),\n",
              " <a list of 10 Patch objects>)"
            ]
          },
          "metadata": {
            "tags": []
          },
          "execution_count": 512
        },
        {
          "output_type": "display_data",
          "data": {
            "image/png": "[encoded data removed]",
            "text/plain": [
              "<Figure size 432x288 with 1 Axes>"
            ]
          },
          "metadata": {
            "tags": [],
            "needs_background": "light"
          }
        }
      ]
    },
    {
      "cell_type": "markdown",
      "metadata": {
        "id": "AIS7eQB6iYo-"
      },
      "source": [
        "Percebemos que esse não é um gráfico muito informativo, talvez seja necessário mostrar informações nos dois eixos. Então, testaremos um gráfico de dispersão.\r\n",
        "\r\n",
        "Ao contrário do histograma (que mostra apenas contagem e frequência), o dispersão mostra gráficos nos dois eixos."
      ]
    },
    {
      "cell_type": "code",
      "metadata": {
        "colab": {
          "base_uri": "https://localhost:8080/",
          "height": 283
        },
        "id": "6W-8uyAqj3mD",
        "outputId": "352936cb-a008-4ecb-b2f2-e7c780ce12b4"
      },
      "source": [
        "## Gráfico de dispersão\r\n",
        "plt.scatter(y=SP_Casos_Num, x=SP_Casos_Num.columns)"
      ],
      "execution_count": 513,
      "outputs": [
        {
          "output_type": "execute_result",
          "data": {
            "text/plain": [
              "<matplotlib.collections.PathCollection at 0x7fc7d1c202b0>"
            ]
          },
          "metadata": {
            "tags": []
          },
          "execution_count": 513
        },
        {
          "output_type": "display_data",
          "data": {
            "image/png": "[encoded data removed]",
            "text/plain": [
              "<Figure size 432x288 with 1 Axes>"
            ]
          },
          "metadata": {
            "tags": [],
            "needs_background": "light"
          }
        }
      ]
    },
    {
      "cell_type": "code",
      "metadata": {
        "colab": {
          "base_uri": "https://localhost:8080/",
          "height": 283
        },
        "id": "-M5TKHWsktSN",
        "outputId": "101727bf-62b8-49f2-ae37-ca0b17c1e43d"
      },
      "source": [
        "## Vamos tentar combinar vários estados, lembre-se do script para SP:\r\n",
        "# SP_Casos = NovosCasosRenomeada[NovosCasosRenomeada[\"Sigla\"] == \"SP\"]\r\n",
        "# SP_Casos_Num = SP_Casos.iloc[:, 1:13]\r\n",
        "\r\n",
        "## Vamos tentar algo mais rápido\r\n",
        "Sigla = \"MG\"\r\n",
        "MG_Casos_Num = NovosCasosRenomeada[NovosCasosRenomeada[\"Sigla\"] == Sigla].iloc[:, 1:13]\r\n",
        "\r\n",
        "## E então, exibimos os gráficos:\r\n",
        "plt.scatter(y=MG_Casos_Num, x=MG_Casos_Num.columns)\r\n",
        "plt.scatter(y=SP_Casos_Num, x=SP_Casos_Num.columns)"
      ],
      "execution_count": 514,
      "outputs": [
        {
          "output_type": "execute_result",
          "data": {
            "text/plain": [
              "<matplotlib.collections.PathCollection at 0x7fc7d1c51518>"
            ]
          },
          "metadata": {
            "tags": []
          },
          "execution_count": 514
        },
        {
          "output_type": "display_data",
          "data": {
            "image/png": "[encoded data removed]",
            "text/plain": [
              "<Figure size 432x288 with 1 Axes>"
            ]
          },
          "metadata": {
            "tags": [],
            "needs_background": "light"
          }
        }
      ]
    },
    {
      "cell_type": "markdown",
      "metadata": {
        "id": "lTa9G-ZjmwWc"
      },
      "source": [
        "Pensando bem, não é exatamente honesto comparar as populações de dois estados com populações diferentes.\r\n",
        "\r\n",
        "As populações são:\r\n",
        "- SP: 44 milhões\r\n",
        "- MG: 21,1 milhões\r\n",
        "\r\n",
        "Vamos dividir o número de casos por pessoas. Na Python, podemos fazer uma divisão de vetores inteiros."
      ]
    },
    {
      "cell_type": "code",
      "metadata": {
        "colab": {
          "base_uri": "https://localhost:8080/",
          "height": 81
        },
        "id": "_jg-GUbRnBMy",
        "outputId": "2937b49e-869f-4466-c959-515c8cc05d0f"
      },
      "source": [
        "# Lembre-se dos objetos de cada estado:\r\n",
        "## MG_Casos_Num\r\n",
        "## SP_Casos_Num\r\n",
        "\r\n",
        "## Vamos normalizar para casos a cada 10000 pessoas:\r\n",
        "SP_Casos_Normalizado = (SP_Casos_Num/44000000)*10000\r\n",
        "MG_Casos_Normalizado = (MG_Casos_Num/21100000)*10000\r\n",
        "\r\n",
        "## Como se parecem?\r\n",
        "SP_Casos_Normalizado\r\n"
      ],
      "execution_count": 515,
      "outputs": [
        {
          "output_type": "execute_result",
          "data": {
            "text/html": [
              "<div>\n",
              "<style scoped>\n",
              "    .dataframe tbody tr th:only-of-type {\n",
              "        vertical-align: middle;\n",
              "    }\n",
              "\n",
              "    .dataframe tbody tr th {\n",
              "        vertical-align: top;\n",
              "    }\n",
              "\n",
              "    .dataframe thead th {\n",
              "        text-align: right;\n",
              "    }\n",
              "</style>\n",
              "<table border=\"1\" class=\"dataframe\">\n",
              "  <thead>\n",
              "    <tr style=\"text-align: right;\">\n",
              "      <th></th>\n",
              "      <th>2020.02</th>\n",
              "      <th>2020.03</th>\n",
              "      <th>2020.04</th>\n",
              "      <th>2020.05</th>\n",
              "      <th>2020.06</th>\n",
              "      <th>2020.07</th>\n",
              "      <th>2020.08</th>\n",
              "      <th>2020.09</th>\n",
              "      <th>2020.10</th>\n",
              "      <th>2020.11</th>\n",
              "      <th>2020.12</th>\n",
              "      <th>2021.01</th>\n",
              "    </tr>\n",
              "  </thead>\n",
              "  <tbody>\n",
              "    <tr>\n",
              "      <th>23</th>\n",
              "      <td>0.000455</td>\n",
              "      <td>0.531136</td>\n",
              "      <td>5.990682</td>\n",
              "      <td>18.409091</td>\n",
              "      <td>39.018636</td>\n",
              "      <td>59.300909</td>\n",
              "      <td>59.554091</td>\n",
              "      <td>41.201364</td>\n",
              "      <td>29.658864</td>\n",
              "      <td>28.528636</td>\n",
              "      <td>50.146364</td>\n",
              "      <td>26.095909</td>\n",
              "    </tr>\n",
              "  </tbody>\n",
              "</table>\n",
              "</div>"
            ],
            "text/plain": [
              "     2020.02   2020.03   2020.04  ...    2020.11    2020.12    2021.01\n",
              "23  0.000455  0.531136  5.990682  ...  28.528636  50.146364  26.095909\n",
              "\n",
              "[1 rows x 12 columns]"
            ]
          },
          "metadata": {
            "tags": []
          },
          "execution_count": 515
        }
      ]
    },
    {
      "cell_type": "code",
      "metadata": {
        "colab": {
          "base_uri": "https://localhost:8080/",
          "height": 283
        },
        "id": "soE0StfapQ_S",
        "outputId": "23ab25ae-56b5-4c13-b767-420fa1c020ff"
      },
      "source": [
        "# Então, executamos novamente os gráficos:\r\n",
        "## E então, exibimos os gráficos:\r\n",
        "plt.scatter(y=MG_Casos_Normalizado, x=MG_Casos_Normalizado.columns)\r\n",
        "plt.scatter(y=SP_Casos_Normalizado, x=SP_Casos_Normalizado.columns)"
      ],
      "execution_count": 516,
      "outputs": [
        {
          "output_type": "execute_result",
          "data": {
            "text/plain": [
              "<matplotlib.collections.PathCollection at 0x7fc7d1c48c88>"
            ]
          },
          "metadata": {
            "tags": []
          },
          "execution_count": 516
        },
        {
          "output_type": "display_data",
          "data": {
            "image/png": "[encoded data removed]",
            "text/plain": [
              "<Figure size 432x288 with 1 Axes>"
            ]
          },
          "metadata": {
            "tags": [],
            "needs_background": "light"
          }
        }
      ]
    },
    {
      "cell_type": "code",
      "metadata": {
        "colab": {
          "base_uri": "https://localhost:8080/",
          "height": 265
        },
        "id": "OwPLJazZqukq",
        "outputId": "42def1c2-462e-4e59-dbd5-8cd7113eea09"
      },
      "source": [
        "## Salvando sempre fica melhor\r\n",
        "# Chamamos o ambiente de figura\r\n",
        "mp.pyplot.figure()\r\n",
        "\r\n",
        "# Plotamos o gráfico em si\r\n",
        "plt.scatter(y=MG_Casos_Normalizado, x=MG_Casos_Normalizado.columns)\r\n",
        "plt.scatter(y=SP_Casos_Normalizado, x=SP_Casos_Normalizado.columns)\r\n",
        "\r\n",
        "# Finalmente, solicitamos que seja salvo em SVG, de alta qualidade\r\n",
        "mp.pyplot.savefig(f\"{images_dir}/cases_SP_MG.svg\", format=\"svg\")"
      ],
      "execution_count": 517,
      "outputs": [
        {
          "output_type": "display_data",
          "data": {
            "image/png": "[encoded data removed]",
            "text/plain": [
              "<Figure size 432x288 with 1 Axes>"
            ]
          },
          "metadata": {
            "tags": [],
            "needs_background": "light"
          }
        }
      ]
    },
    {
      "cell_type": "markdown",
      "metadata": {
        "id": "VMe2u11ZHeXM"
      },
      "source": [
        "Assim, vamos normalizar todos os estados por sua população e obter um valor comparável para todos eles, e finalmente, podemos executar nossos testes de correlação.\r\n",
        "\r\n",
        "Nesse próximo procedimento, vamos construir o laço for passo a passo, e não inteiro pronto como anteriormente.\r\n",
        "\r\n",
        "# Construindo um laço \"for\""
      ]
    },
    {
      "cell_type": "code",
      "metadata": {
        "colab": {
          "base_uri": "https://localhost:8080/"
        },
        "id": "QaRzIG2lHdgN",
        "outputId": "7ae33839-f68f-43ea-e8dd-146267fc104f"
      },
      "source": [
        "## Lembre-se que temos a população no conjunto Brasil:\r\n",
        "df_brdat['Populacao2020']"
      ],
      "execution_count": 518,
      "outputs": [
        {
          "output_type": "execute_result",
          "data": {
            "text/plain": [
              "0       894470\n",
              "1      3351543\n",
              "2       861773\n",
              "3      4207714\n",
              "4     14930634\n",
              "5      9187103\n",
              "6      3055149\n",
              "7      4064052\n",
              "8      7113540\n",
              "9      7114598\n",
              "10     3526220\n",
              "11     2809394\n",
              "12    21292666\n",
              "13     8690745\n",
              "14     4039277\n",
              "15    11516840\n",
              "16     9616621\n",
              "17     3281480\n",
              "18    17366189\n",
              "19     3534165\n",
              "20    11422973\n",
              "21     1796460\n",
              "22      631181\n",
              "23     7252502\n",
              "24    46289333\n",
              "25     2318822\n",
              "26     1590248\n",
              "Name: Populacao2020, dtype: int64"
            ]
          },
          "metadata": {
            "tags": []
          },
          "execution_count": 518
        }
      ]
    },
    {
      "cell_type": "markdown",
      "metadata": {
        "id": "7-EALuv3Lxmg"
      },
      "source": [
        "Façamos assim um laço for:\r\n",
        "\r\n",
        "1. Para cada estado com casos;\r\n",
        "2. Divida o número de casos pela população;\r\n",
        "3. Normalize para Casos/100000 pessoas."
      ]
    },
    {
      "cell_type": "code",
      "metadata": {
        "colab": {
          "base_uri": "https://localhost:8080/"
        },
        "id": "h_I4Jc7yLwlX",
        "outputId": "bf49c79c-26fd-41fe-b129-da7428e66fcb"
      },
      "source": [
        "## Vejamos os estados\r\n",
        "for estado in NovosCasosRenomeada['Sigla']:\r\n",
        "  print(estado)"
      ],
      "execution_count": 519,
      "outputs": [
        {
          "output_type": "stream",
          "text": [
            "DF\n",
            "GO\n",
            "MS\n",
            "MT\n",
            "AL\n",
            "BA\n",
            "CE\n",
            "MA\n",
            "PB\n",
            "PE\n",
            "PI\n",
            "RN\n",
            "SE\n",
            "AC\n",
            "AM\n",
            "AP\n",
            "PA\n",
            "RO\n",
            "RR\n",
            "TO\n",
            "ES\n",
            "MG\n",
            "RJ\n",
            "SP\n",
            "PR\n",
            "RS\n",
            "SC\n"
          ],
          "name": "stdout"
        }
      ]
    },
    {
      "cell_type": "markdown",
      "metadata": {
        "id": "7NNb5r-evRcM"
      },
      "source": [
        "A seguir, vamos separar uma tabela para cada estado:"
      ]
    },
    {
      "cell_type": "code",
      "metadata": {
        "colab": {
          "base_uri": "https://localhost:8080/"
        },
        "id": "YJcFhdrpNDfc",
        "outputId": "65523dca-00a7-4dce-e81d-86428341b8b6"
      },
      "source": [
        "## Vamos separar uma tabela para cada estado (subset)\r\n",
        "## Vejamos os estados\r\n",
        "for estado in NovosCasosRenomeada['Sigla']:\r\n",
        "  estado_para_dividir = NovosCasosRenomeada[NovosCasosRenomeada['Sigla'] == estado]\r\n",
        "\r\n",
        "print(estado_para_dividir)"
      ],
      "execution_count": 520,
      "outputs": [
        {
          "output_type": "stream",
          "text": [
            "   Sigla  2020.02  2020.03  2020.04  ...  2020.10  2020.11  2020.12  2021.01\n",
            "26    SC        0      219     1866  ...    43462   105404   128239    36806\n",
            "\n",
            "[1 rows x 13 columns]\n"
          ],
          "name": "stdout"
        }
      ]
    },
    {
      "cell_type": "markdown",
      "metadata": {
        "id": "d7tb3_l8OWQB"
      },
      "source": [
        "A seguir, vamos colocar a operação da divisão por população, para que seja normalizado, como anteriormente, a nível de casos a cada 100 mil pessoas."
      ]
    },
    {
      "cell_type": "code",
      "metadata": {
        "colab": {
          "base_uri": "https://localhost:8080/"
        },
        "id": "wnxprMgPPRdD",
        "outputId": "9d4aebf9-1d45-4bf1-c81b-c7994bfd6a3a"
      },
      "source": [
        "## Agora, adquirimos o número para dividir\r\n",
        "for estado in NovosCasosRenomeada['Sigla']:\r\n",
        "  estado_para_dividir = NovosCasosRenomeada[NovosCasosRenomeada['Sigla'] == estado]\r\n",
        "  pop_do_estado = df_brdat['Populacao2020'][df_brdat['Sigla'] == estado]\r\n",
        "\r\n",
        "print(estado, pop_do_estado)"
      ],
      "execution_count": 521,
      "outputs": [
        {
          "output_type": "stream",
          "text": [
            "SC 23    7252502\n",
            "Name: Populacao2020, dtype: int64\n"
          ],
          "name": "stdout"
        }
      ]
    },
    {
      "cell_type": "markdown",
      "metadata": {
        "id": "iBeiMJ23X-s7"
      },
      "source": [
        "Agora temos no código:\r\n",
        "- O estado para dividir (estado_para_dividir)\r\n",
        "- A população que deve ser usada na conta\r\n",
        "- Não podemos esquecer do coeficiente de casos a cada 100 mil."
      ]
    },
    {
      "cell_type": "code",
      "metadata": {
        "colab": {
          "base_uri": "https://localhost:8080/",
          "height": 81
        },
        "id": "huM9sqnGYHrW",
        "outputId": "1a4d0b3d-77ef-45e1-99a9-f54487c229f6"
      },
      "source": [
        "# Um exemplo do que deve acontecer:\r\n",
        "## Lembre-se que temos que acessar todos os valores menos a sigla \"SC\":\r\n",
        "(estado_para_dividir.iloc[:, 1:13]/int(pop_do_estado))*10000"
      ],
      "execution_count": 522,
      "outputs": [
        {
          "output_type": "execute_result",
          "data": {
            "text/html": [
              "<div>\n",
              "<style scoped>\n",
              "    .dataframe tbody tr th:only-of-type {\n",
              "        vertical-align: middle;\n",
              "    }\n",
              "\n",
              "    .dataframe tbody tr th {\n",
              "        vertical-align: top;\n",
              "    }\n",
              "\n",
              "    .dataframe thead th {\n",
              "        text-align: right;\n",
              "    }\n",
              "</style>\n",
              "<table border=\"1\" class=\"dataframe\">\n",
              "  <thead>\n",
              "    <tr style=\"text-align: right;\">\n",
              "      <th></th>\n",
              "      <th>2020.02</th>\n",
              "      <th>2020.03</th>\n",
              "      <th>2020.04</th>\n",
              "      <th>2020.05</th>\n",
              "      <th>2020.06</th>\n",
              "      <th>2020.07</th>\n",
              "      <th>2020.08</th>\n",
              "      <th>2020.09</th>\n",
              "      <th>2020.10</th>\n",
              "      <th>2020.11</th>\n",
              "      <th>2020.12</th>\n",
              "      <th>2021.01</th>\n",
              "    </tr>\n",
              "  </thead>\n",
              "  <tbody>\n",
              "    <tr>\n",
              "      <th>26</th>\n",
              "      <td>0.0</td>\n",
              "      <td>0.301965</td>\n",
              "      <td>2.572905</td>\n",
              "      <td>9.585657</td>\n",
              "      <td>23.877277</td>\n",
              "      <td>79.584949</td>\n",
              "      <td>129.202308</td>\n",
              "      <td>51.98344</td>\n",
              "      <td>59.926905</td>\n",
              "      <td>145.334672</td>\n",
              "      <td>176.820358</td>\n",
              "      <td>50.749383</td>\n",
              "    </tr>\n",
              "  </tbody>\n",
              "</table>\n",
              "</div>"
            ],
            "text/plain": [
              "    2020.02   2020.03   2020.04  ...     2020.11     2020.12    2021.01\n",
              "26      0.0  0.301965  2.572905  ...  145.334672  176.820358  50.749383\n",
              "\n",
              "[1 rows x 12 columns]"
            ]
          },
          "metadata": {
            "tags": []
          },
          "execution_count": 522
        }
      ]
    },
    {
      "cell_type": "markdown",
      "metadata": {
        "id": "6b8C4qZRY8lL"
      },
      "source": [
        "Então, executamos a conta para todos os estados, salvando os resultados:"
      ]
    },
    {
      "cell_type": "code",
      "metadata": {
        "colab": {
          "base_uri": "https://localhost:8080/"
        },
        "id": "v-cVNGhIZBSj",
        "outputId": "0b0bc5d0-c164-4c2a-cefe-45c655f9b962"
      },
      "source": [
        "## Agora, adquirimos o número para dividir\r\n",
        "for estado in NovosCasosRenomeada['Sigla']:\r\n",
        "  estado_para_dividir = NovosCasosRenomeada[NovosCasosRenomeada['Sigla'] == estado]\r\n",
        "  pop_do_estado = df_brdat['Populacao2020'][df_brdat['Sigla'] == estado]\r\n",
        "  casos_10k = (estado_para_dividir.iloc[:, 1:13]/int(pop_do_estado))*10000\r\n",
        "\r\n",
        "print(casos_10k)"
      ],
      "execution_count": 523,
      "outputs": [
        {
          "output_type": "stream",
          "text": [
            "    2020.02   2020.03   2020.04  ...     2020.11     2020.12    2021.01\n",
            "26      0.0  0.301965  2.572905  ...  145.334672  176.820358  50.749383\n",
            "\n",
            "[1 rows x 12 columns]\n"
          ],
          "name": "stdout"
        }
      ]
    },
    {
      "cell_type": "markdown",
      "metadata": {
        "id": "HG92NN0wajaQ"
      },
      "source": [
        "Temos a conta feita, uma por estado. Agora, precisamos salvar nossos dados:"
      ]
    },
    {
      "cell_type": "code",
      "metadata": {
        "colab": {
          "base_uri": "https://localhost:8080/"
        },
        "id": "KZMXZFuQanTB",
        "outputId": "8c75c261-ad5b-437b-d037-9d8f70a81535"
      },
      "source": [
        "## Cria novos casos com pandas\r\n",
        "casos_10k_df = pd.DataFrame()\r\n",
        "vectors = []\r\n",
        "\r\n",
        "## Vamos fazer também, uma cópia dos casos\r\n",
        "NovosCasosNormalizado = NovosCasosRenomeada\r\n",
        "\r\n",
        "## Agora, adquirimos o número para dividir\r\n",
        "for estado in NovosCasosNormalizado['Sigla']:\r\n",
        "  estado_para_dividir = NovosCasosNormalizado[NovosCasosNormalizado['Sigla'] == estado]\r\n",
        "  pop_do_estado = df_brdat['Populacao2020'][df_brdat['Sigla'] == estado]\r\n",
        "  casos_10k = (estado_para_dividir.iloc[:, 1:13]/int(pop_do_estado))*10000\r\n",
        "\r\n",
        "  ## Finalmente, substitua os valores, \"costurando-os\" ao final um do outro\r\n",
        "  casos_10k_df = pd.concat([casos_10k, casos_10k_df])\r\n",
        "\r\n",
        "  \r\n",
        "## Adiciona novamente os estados\r\n",
        "casos_10k_df = pd.concat([casos_10k_df, NovosCasosNormalizado['Sigla']], axis=1)\r\n",
        "print(casos_10k_df)"
      ],
      "execution_count": 524,
      "outputs": [
        {
          "output_type": "stream",
          "text": [
            "     2020.02   2020.03    2020.04  ...     2020.12    2021.01  Sigla\n",
            "0   0.000000  1.086690   3.351719  ...   73.826187  31.929703     DF\n",
            "1   0.000000  0.091375   1.006531  ...   41.406951  19.893049     GO\n",
            "2   0.000000  0.170855   0.736814  ...  123.514181  44.073562     MS\n",
            "3   0.000000  0.070897   0.771364  ...   60.387611  38.644781     MT\n",
            "4   0.000000  0.053707   3.061277  ...   29.341709  14.626099     AL\n",
            "5   0.000000  0.142660   1.766837  ...   60.499105  17.115817     BA\n",
            "6   0.000000  0.424508   7.854489  ...   37.513458  14.501851     CE\n",
            "7   0.000000  0.043572   4.440167  ...   10.918396   2.299497     MA\n",
            "8   0.000000  0.042087   1.973125  ...   52.561387  19.099953     PB\n",
            "9   0.000000  0.090468   7.059652  ...   41.345084  14.428145     PE\n",
            "10  0.000000  0.054853   1.508466  ...   47.716274  18.878677     PI\n",
            "11  0.000000  0.232021   3.098327  ...   64.965841  21.128046     RN\n",
            "12  0.000000  0.081938   1.845765  ...   96.415335  53.634992     SE\n",
            "13  0.000000  0.469552   4.047089  ...   59.934934  24.204277     AC\n",
            "14  0.000000  0.415903  12.070687  ...   54.217088  44.040541     AM\n",
            "15  0.000000  0.116040  12.416263  ...  105.248134  44.652130     AP\n",
            "16  0.000000  0.036821   3.272447  ...   26.455730  13.200249     PA\n",
            "17  0.000000  0.044532   2.749852  ...   84.560747  50.143059     RO\n",
            "18  0.000000  0.253493   7.969188  ...   85.031077  22.133112     RR\n",
            "19  0.000000  0.069172   0.792329  ...   54.871945  25.297941     TO\n",
            "20  0.000000  0.206690   5.858685  ...  143.602985  51.318241     ES\n",
            "21  0.000000  0.129152   0.728889  ...   59.444881  32.050003     MG\n",
            "22  0.000000  0.407689   5.035647  ...   46.235821  20.032605     RJ\n",
            "23  0.000432  0.504868   5.694400  ...   47.666273  24.805283     SP\n",
            "24  0.000000  0.155425   1.066265  ...  118.506465  61.021079     PR\n",
            "25  0.000000  0.239868   1.043511  ...  111.718727  36.160464     RS\n",
            "26  0.000000  0.301965   2.572905  ...  176.820358  50.749383     SC\n",
            "\n",
            "[27 rows x 13 columns]\n"
          ],
          "name": "stdout"
        }
      ]
    },
    {
      "cell_type": "markdown",
      "metadata": {
        "id": "El9T5MF1uhMz"
      },
      "source": [
        "---\r\n",
        "---\r\n",
        "---\r\n",
        "\r\n",
        "# Análises de correlação.\r\n",
        "\r\n",
        "Uma técnica muito simples, que mede o grau de correlação entre duas variáveis, ou seja, se há dependência linear entre elas.\r\n",
        "\r\n",
        "Sempre é importante lembrar que correlação não significa causalidade, podendo ser simplesmente coincidência.\r\n",
        "\r\n",
        "Vamos testar, de formas muito similares, as correlações de Simpson e Pearson\r\n",
        "\r\n",
        "## Correlações na Python\r\n",
        "\r\n",
        "Para executar essa correlação, é necessário:\r\n",
        "\r\n",
        "- Ter dois vetores de mesmo tamanho\r\n",
        "\r\n",
        "Vamos conferir se isso é verdade para os dados do CAGED.\r\n",
        "\r\n"
      ]
    },
    {
      "cell_type": "code",
      "metadata": {
        "colab": {
          "base_uri": "https://localhost:8080/",
          "height": 206
        },
        "id": "Ydake3PpvRYz",
        "outputId": "6e3bd28f-964d-4829-91a1-c966f2286d83"
      },
      "source": [
        "# Checando os tamanhos\r\n",
        "## Dados do CAGED\r\n",
        "df_caged.head()"
      ],
      "execution_count": 525,
      "outputs": [
        {
          "output_type": "execute_result",
          "data": {
            "text/html": [
              "<div>\n",
              "<style scoped>\n",
              "    .dataframe tbody tr th:only-of-type {\n",
              "        vertical-align: middle;\n",
              "    }\n",
              "\n",
              "    .dataframe tbody tr th {\n",
              "        vertical-align: top;\n",
              "    }\n",
              "\n",
              "    .dataframe thead th {\n",
              "        text-align: right;\n",
              "    }\n",
              "</style>\n",
              "<table border=\"1\" class=\"dataframe\">\n",
              "  <thead>\n",
              "    <tr style=\"text-align: right;\">\n",
              "      <th></th>\n",
              "      <th>Sigla</th>\n",
              "      <th>Código</th>\n",
              "      <th>Estado</th>\n",
              "      <th>D2020.01</th>\n",
              "      <th>D2020.02</th>\n",
              "      <th>D2020.03</th>\n",
              "      <th>D2020.04</th>\n",
              "      <th>D2020.05</th>\n",
              "      <th>D2020.06</th>\n",
              "      <th>D2020.07</th>\n",
              "      <th>D2020.08</th>\n",
              "      <th>D2020.09</th>\n",
              "      <th>D2020.10</th>\n",
              "    </tr>\n",
              "  </thead>\n",
              "  <tbody>\n",
              "    <tr>\n",
              "      <th>0</th>\n",
              "      <td>AC</td>\n",
              "      <td>12</td>\n",
              "      <td>Acre</td>\n",
              "      <td>2179</td>\n",
              "      <td>1802</td>\n",
              "      <td>2238</td>\n",
              "      <td>1805</td>\n",
              "      <td>1405</td>\n",
              "      <td>1423</td>\n",
              "      <td>1521</td>\n",
              "      <td>1664</td>\n",
              "      <td>1632</td>\n",
              "      <td>1725</td>\n",
              "    </tr>\n",
              "    <tr>\n",
              "      <th>1</th>\n",
              "      <td>AL</td>\n",
              "      <td>27</td>\n",
              "      <td>Alagoas</td>\n",
              "      <td>12236</td>\n",
              "      <td>16654</td>\n",
              "      <td>12578</td>\n",
              "      <td>9855</td>\n",
              "      <td>7371</td>\n",
              "      <td>4697</td>\n",
              "      <td>5483</td>\n",
              "      <td>5710</td>\n",
              "      <td>5952</td>\n",
              "      <td>5939</td>\n",
              "    </tr>\n",
              "    <tr>\n",
              "      <th>2</th>\n",
              "      <td>AM</td>\n",
              "      <td>13</td>\n",
              "      <td>Amazonas</td>\n",
              "      <td>11943</td>\n",
              "      <td>10607</td>\n",
              "      <td>13602</td>\n",
              "      <td>14292</td>\n",
              "      <td>10346</td>\n",
              "      <td>8126</td>\n",
              "      <td>9223</td>\n",
              "      <td>8599</td>\n",
              "      <td>9751</td>\n",
              "      <td>10344</td>\n",
              "    </tr>\n",
              "    <tr>\n",
              "      <th>3</th>\n",
              "      <td>AP</td>\n",
              "      <td>16</td>\n",
              "      <td>Amapá</td>\n",
              "      <td>1831</td>\n",
              "      <td>1562</td>\n",
              "      <td>1613</td>\n",
              "      <td>1341</td>\n",
              "      <td>1007</td>\n",
              "      <td>998</td>\n",
              "      <td>1601</td>\n",
              "      <td>1363</td>\n",
              "      <td>1245</td>\n",
              "      <td>1235</td>\n",
              "    </tr>\n",
              "    <tr>\n",
              "      <th>4</th>\n",
              "      <td>BA</td>\n",
              "      <td>29</td>\n",
              "      <td>Bahia</td>\n",
              "      <td>45832</td>\n",
              "      <td>41478</td>\n",
              "      <td>57354</td>\n",
              "      <td>55652</td>\n",
              "      <td>41697</td>\n",
              "      <td>32099</td>\n",
              "      <td>31638</td>\n",
              "      <td>34344</td>\n",
              "      <td>33773</td>\n",
              "      <td>37962</td>\n",
              "    </tr>\n",
              "  </tbody>\n",
              "</table>\n",
              "</div>"
            ],
            "text/plain": [
              "  Sigla  Código    Estado  D2020.01  ...  D2020.07  D2020.08  D2020.09  D2020.10\n",
              "0    AC      12      Acre      2179  ...      1521      1664      1632      1725\n",
              "1    AL      27   Alagoas     12236  ...      5483      5710      5952      5939\n",
              "2    AM      13  Amazonas     11943  ...      9223      8599      9751     10344\n",
              "3    AP      16     Amapá      1831  ...      1601      1363      1245      1235\n",
              "4    BA      29     Bahia     45832  ...     31638     34344     33773     37962\n",
              "\n",
              "[5 rows x 13 columns]"
            ]
          },
          "metadata": {
            "tags": []
          },
          "execution_count": 525
        }
      ]
    },
    {
      "cell_type": "code",
      "metadata": {
        "colab": {
          "base_uri": "https://localhost:8080/",
          "height": 206
        },
        "id": "sQ5dePFWvezO",
        "outputId": "214a7635-82bf-4e7c-f922-5e6851dd8531"
      },
      "source": [
        "## Dados normalizados de casos\r\n",
        "casos_10k_df.head()"
      ],
      "execution_count": 526,
      "outputs": [
        {
          "output_type": "execute_result",
          "data": {
            "text/html": [
              "<div>\n",
              "<style scoped>\n",
              "    .dataframe tbody tr th:only-of-type {\n",
              "        vertical-align: middle;\n",
              "    }\n",
              "\n",
              "    .dataframe tbody tr th {\n",
              "        vertical-align: top;\n",
              "    }\n",
              "\n",
              "    .dataframe thead th {\n",
              "        text-align: right;\n",
              "    }\n",
              "</style>\n",
              "<table border=\"1\" class=\"dataframe\">\n",
              "  <thead>\n",
              "    <tr style=\"text-align: right;\">\n",
              "      <th></th>\n",
              "      <th>2020.02</th>\n",
              "      <th>2020.03</th>\n",
              "      <th>2020.04</th>\n",
              "      <th>2020.05</th>\n",
              "      <th>2020.06</th>\n",
              "      <th>2020.07</th>\n",
              "      <th>2020.08</th>\n",
              "      <th>2020.09</th>\n",
              "      <th>2020.10</th>\n",
              "      <th>2020.11</th>\n",
              "      <th>2020.12</th>\n",
              "      <th>2021.01</th>\n",
              "      <th>Sigla</th>\n",
              "    </tr>\n",
              "  </thead>\n",
              "  <tbody>\n",
              "    <tr>\n",
              "      <th>0</th>\n",
              "      <td>0.0</td>\n",
              "      <td>1.086690</td>\n",
              "      <td>3.351719</td>\n",
              "      <td>27.573123</td>\n",
              "      <td>129.086994</td>\n",
              "      <td>186.812493</td>\n",
              "      <td>182.478825</td>\n",
              "      <td>98.859336</td>\n",
              "      <td>68.736418</td>\n",
              "      <td>52.046561</td>\n",
              "      <td>73.826187</td>\n",
              "      <td>31.929703</td>\n",
              "      <td>DF</td>\n",
              "    </tr>\n",
              "    <tr>\n",
              "      <th>1</th>\n",
              "      <td>0.0</td>\n",
              "      <td>0.091375</td>\n",
              "      <td>1.006531</td>\n",
              "      <td>4.106254</td>\n",
              "      <td>29.069915</td>\n",
              "      <td>61.235334</td>\n",
              "      <td>90.763530</td>\n",
              "      <td>108.110730</td>\n",
              "      <td>64.716020</td>\n",
              "      <td>33.690680</td>\n",
              "      <td>41.406951</td>\n",
              "      <td>19.893049</td>\n",
              "      <td>GO</td>\n",
              "    </tr>\n",
              "    <tr>\n",
              "      <th>2</th>\n",
              "      <td>0.0</td>\n",
              "      <td>0.170855</td>\n",
              "      <td>0.736814</td>\n",
              "      <td>4.392406</td>\n",
              "      <td>23.051235</td>\n",
              "      <td>60.408045</td>\n",
              "      <td>85.431235</td>\n",
              "      <td>73.926975</td>\n",
              "      <td>44.984790</td>\n",
              "      <td>59.503936</td>\n",
              "      <td>123.514181</td>\n",
              "      <td>44.073562</td>\n",
              "      <td>MS</td>\n",
              "    </tr>\n",
              "    <tr>\n",
              "      <th>3</th>\n",
              "      <td>0.0</td>\n",
              "      <td>0.070897</td>\n",
              "      <td>0.771364</td>\n",
              "      <td>6.046134</td>\n",
              "      <td>37.453704</td>\n",
              "      <td>102.741746</td>\n",
              "      <td>111.964086</td>\n",
              "      <td>90.947247</td>\n",
              "      <td>55.260307</td>\n",
              "      <td>43.193561</td>\n",
              "      <td>60.387611</td>\n",
              "      <td>38.644781</td>\n",
              "      <td>MT</td>\n",
              "    </tr>\n",
              "    <tr>\n",
              "      <th>4</th>\n",
              "      <td>0.0</td>\n",
              "      <td>0.053707</td>\n",
              "      <td>3.061277</td>\n",
              "      <td>27.581326</td>\n",
              "      <td>76.603523</td>\n",
              "      <td>70.901671</td>\n",
              "      <td>56.926019</td>\n",
              "      <td>24.093380</td>\n",
              "      <td>11.666268</td>\n",
              "      <td>12.516623</td>\n",
              "      <td>29.341709</td>\n",
              "      <td>14.626099</td>\n",
              "      <td>AL</td>\n",
              "    </tr>\n",
              "  </tbody>\n",
              "</table>\n",
              "</div>"
            ],
            "text/plain": [
              "   2020.02   2020.03   2020.04  ...     2020.12    2021.01  Sigla\n",
              "0      0.0  1.086690  3.351719  ...   73.826187  31.929703     DF\n",
              "1      0.0  0.091375  1.006531  ...   41.406951  19.893049     GO\n",
              "2      0.0  0.170855  0.736814  ...  123.514181  44.073562     MS\n",
              "3      0.0  0.070897  0.771364  ...   60.387611  38.644781     MT\n",
              "4      0.0  0.053707  3.061277  ...   29.341709  14.626099     AL\n",
              "\n",
              "[5 rows x 13 columns]"
            ]
          },
          "metadata": {
            "tags": []
          },
          "execution_count": 526
        }
      ]
    },
    {
      "cell_type": "markdown",
      "metadata": {
        "id": "z9QElGmKvuGK"
      },
      "source": [
        "Podemos observar que há pedaços em comum, mas há pedaços que não se parecem:\r\n",
        "\r\n",
        "- Observe os meses disponíveis na planilha de casos;\r\n",
        "- Observe também os meses disponíveis na planilha de salários;\r\n",
        "- Também há informações desnecessárias, ex: Código do estado, nome por extenso do Estado.\r\n",
        "\r\n",
        "Assim, vamos testar uma correlação simples entre os valores de um caso, para então automatizar todo o restante"
      ]
    },
    {
      "cell_type": "code",
      "metadata": {
        "colab": {
          "base_uri": "https://localhost:8080/"
        },
        "id": "u5m6cv55JRzX",
        "outputId": "a1d0634e-7ee9-41b1-99eb-e70417abd254"
      },
      "source": [
        "## Um exemplo com dados artificiais\r\n",
        "a = [5, 4, 3, 2, 1, 1, 1, 0]\r\n",
        "b = [10, 10, 9, 8, 6, 6, 5, 3]\r\n",
        "sps.pearsonr(a, b)"
      ],
      "execution_count": 527,
      "outputs": [
        {
          "output_type": "execute_result",
          "data": {
            "text/plain": [
              "(0.9434231307546225, 0.00043375428724425606)"
            ]
          },
          "metadata": {
            "tags": []
          },
          "execution_count": 527
        }
      ]
    },
    {
      "cell_type": "code",
      "metadata": {
        "id": "DdRu32DVJTv2"
      },
      "source": [
        "## Vamos ver o gráfico?"
      ],
      "execution_count": 528,
      "outputs": []
    },
    {
      "cell_type": "code",
      "metadata": {
        "id": "PZ6UKLGcwGDg"
      },
      "source": [
        "# Vamos escolher um conjunto de valores\r\n",
        "## Primeiro, um teste para o DF\r\n",
        "# test_cases_A = casos_10k_df.loc[casos_10k_df['Sigla'] == \"DF\", '2020.03':'2020.10']\r\n",
        "# test_cases_A = test_cases_A.tolist()"
      ],
      "execution_count": 529,
      "outputs": []
    },
    {
      "cell_type": "code",
      "metadata": {
        "id": "oFbZmgIzCo9b"
      },
      "source": [
        "## A seguir, os valores do CAGED\r\n",
        "test_caged_A = df_caged.loc[df_caged['Sigla'] == \"DF\", \"D2020.03\":\"D2020.10\"]\r\n",
        "test_caged_A = test_caged_A.to_numpy()"
      ],
      "execution_count": 530,
      "outputs": []
    },
    {
      "cell_type": "markdown",
      "metadata": {
        "id": "1uKn9xuqC3OF"
      },
      "source": [
        "Com dois dados de uma dimensão e mesmo tamanho, podemos finalmente obter um valor de correlação."
      ]
    },
    {
      "cell_type": "code",
      "metadata": {
        "id": "IpZn1Be2C2dw"
      },
      "source": [
        "## Executa as correlações de fato.\r\n",
        "# sps.pearsonr(test_cases_A, test_caged_A)"
      ],
      "execution_count": 531,
      "outputs": []
    },
    {
      "cell_type": "markdown",
      "metadata": {
        "id": "1CPElG6ALWx_"
      },
      "source": [
        "Apesar dos valores serem perfeitamente acessáveis, eles não puderam ser alimentados na correlação de Pearson.\r\n",
        "\r\n",
        "O erro acusado é: \"precisa de comprimento pelo menos dois\". Visualmente, parece tudo certo. O que aconteceu?\r\n",
        "\r\n",
        "Pra descobrir isso, vamos seguir o erro."
      ]
    },
    {
      "cell_type": "code",
      "metadata": {
        "colab": {
          "base_uri": "https://localhost:8080/"
        },
        "id": "zgJ9Cpi4JJO0",
        "outputId": "dc8ae4cf-3420-4d43-ecf0-38c08dea227b"
      },
      "source": [
        "## O que essa função faz?\r\n",
        "test = np.asarray(test_cases_A)\r\n",
        "\r\n",
        "## Vamos ver o tamanho?\r\n",
        "len(test)"
      ],
      "execution_count": 532,
      "outputs": [
        {
          "output_type": "execute_result",
          "data": {
            "text/plain": [
              "1"
            ]
          },
          "metadata": {
            "tags": []
          },
          "execution_count": 532
        }
      ]
    },
    {
      "cell_type": "markdown",
      "metadata": {
        "id": "iQQWxpNbNcoI"
      },
      "source": [
        "Aha! O tamanho é somente 01!\r\n",
        "\r\n",
        "Deve haver algum tipo complexo manipulando o conjunto de dados de forma não inesperada.\r\n",
        "\r\n",
        "Existe um método para converter corretamente um `array` (arranjo) da NumPy em lista comum:"
      ]
    },
    {
      "cell_type": "code",
      "metadata": {
        "id": "WeZODfVRNnQK"
      },
      "source": [
        "# Converte corretamente\r\n",
        "test_cases_A = np.concatenate(np.asarray(test_cases_A))\r\n",
        "test_caged_A = np.concatenate(np.asarray(test_caged_A))"
      ],
      "execution_count": 533,
      "outputs": []
    },
    {
      "cell_type": "markdown",
      "metadata": {
        "id": "Of-981n4P2-a"
      },
      "source": [
        "Agora, vamos de fato testar as correlações:"
      ]
    },
    {
      "cell_type": "code",
      "metadata": {
        "colab": {
          "base_uri": "https://localhost:8080/"
        },
        "id": "jONjphLsP6dg",
        "outputId": "76bf4b66-cb1f-48a6-c9dd-399e7e6b6471"
      },
      "source": [
        "## Agora com os dados corretamente formatados:\r\n",
        "corr, sig = sps.pearsonr(test_cases_A, test_caged_A)\r\n",
        "scorr, ssig = sps.spearmanr(test_cases_A, test_caged_A)\r\n",
        "print('A correlação de Pearson é de %.3f,' % corr, \"com significância de %.3f.\" % sig)\r\n",
        "print('A correlação de Spearman é de %.3f.' % scorr, \"com significância de %.3f.\" % ssig)"
      ],
      "execution_count": 534,
      "outputs": [
        {
          "output_type": "stream",
          "text": [
            "A correlação de Pearson é de -0.668, com significância de 0.070.\n",
            "A correlação de Spearman é de -0.643. com significância de 0.086.\n"
          ],
          "name": "stdout"
        }
      ]
    },
    {
      "cell_type": "markdown",
      "metadata": {
        "id": "qTwb2bkeSVEa"
      },
      "source": [
        "Podemos observar isso em um gráfico de dispersão, que deverá exibir uma correlação próxima:"
      ]
    },
    {
      "cell_type": "code",
      "metadata": {
        "colab": {
          "base_uri": "https://localhost:8080/",
          "height": 283
        },
        "id": "_DVoZ-RvSfmT",
        "outputId": "875c59a4-21ef-4b53-ee46-8b13ef75fe1f"
      },
      "source": [
        "## Revivemos a biblioteca matplotlib.pyplot para fazer gráficos:\r\n",
        "plt.scatter(test_cases_A, test_caged_A)"
      ],
      "execution_count": 535,
      "outputs": [
        {
          "output_type": "execute_result",
          "data": {
            "text/plain": [
              "<matplotlib.collections.PathCollection at 0x7fc7d19e3f28>"
            ]
          },
          "metadata": {
            "tags": []
          },
          "execution_count": 535
        },
        {
          "output_type": "display_data",
          "data": {
            "image/png": "[encoded data removed]",
            "text/plain": [
              "<Figure size 432x288 with 1 Axes>"
            ]
          },
          "metadata": {
            "tags": [],
            "needs_background": "light"
          }
        }
      ]
    },
    {
      "cell_type": "markdown",
      "metadata": {
        "id": "UW_d1XCgTCQB"
      },
      "source": [
        "# Exercícios (vamos fazer juntos)\r\n",
        "\r\n",
        "- Execute algumas outras correlações, para os seguintes casos:\r\n",
        "  1. Estado de SP;\r\n",
        "  2. Estado do RJ;\r\n",
        "  3. Estado do AM."
      ]
    },
    {
      "cell_type": "markdown",
      "metadata": {
        "id": "Woxn77nfTxRX"
      },
      "source": [
        "# Correlações em relação ao preço da cesta básica.\r\n",
        "\r\n",
        "Novamente, vamos aplicar as mesmas métricas, mas agora para o custo da cesta básica em Brasília:"
      ]
    },
    {
      "cell_type": "code",
      "metadata": {
        "colab": {
          "base_uri": "https://localhost:8080/",
          "height": 206
        },
        "id": "0-dMk15ZU7aR",
        "outputId": "2b8b43fc-35b6-49bc-cad5-cab4c5776fb7"
      },
      "source": [
        "## Um rápido lembrete dos dados\r\n",
        "df_price.head()"
      ],
      "execution_count": 536,
      "outputs": [
        {
          "output_type": "execute_result",
          "data": {
            "text/html": [
              "<div>\n",
              "<style scoped>\n",
              "    .dataframe tbody tr th:only-of-type {\n",
              "        vertical-align: middle;\n",
              "    }\n",
              "\n",
              "    .dataframe tbody tr th {\n",
              "        vertical-align: top;\n",
              "    }\n",
              "\n",
              "    .dataframe thead th {\n",
              "        text-align: right;\n",
              "    }\n",
              "</style>\n",
              "<table border=\"1\" class=\"dataframe\">\n",
              "  <thead>\n",
              "    <tr style=\"text-align: right;\">\n",
              "      <th></th>\n",
              "      <th>Sigla</th>\n",
              "      <th>Município</th>\n",
              "      <th>P2020.01</th>\n",
              "      <th>P2020.02</th>\n",
              "      <th>P2020.03</th>\n",
              "      <th>P2020.04</th>\n",
              "      <th>P2020.05</th>\n",
              "      <th>P2020.06</th>\n",
              "      <th>P2020.07</th>\n",
              "      <th>P2020.08</th>\n",
              "      <th>P2020.09</th>\n",
              "      <th>P2020.10</th>\n",
              "    </tr>\n",
              "  </thead>\n",
              "  <tbody>\n",
              "    <tr>\n",
              "      <th>0</th>\n",
              "      <td>AC</td>\n",
              "      <td>Rio Branco</td>\n",
              "      <td>NaN</td>\n",
              "      <td>NaN</td>\n",
              "      <td>NaN</td>\n",
              "      <td>NaN</td>\n",
              "      <td>NaN</td>\n",
              "      <td>NaN</td>\n",
              "      <td>NaN</td>\n",
              "      <td>NaN</td>\n",
              "      <td>NaN</td>\n",
              "      <td>NaN</td>\n",
              "    </tr>\n",
              "    <tr>\n",
              "      <th>1</th>\n",
              "      <td>AL</td>\n",
              "      <td>Maceió</td>\n",
              "      <td>NaN</td>\n",
              "      <td>NaN</td>\n",
              "      <td>NaN</td>\n",
              "      <td>NaN</td>\n",
              "      <td>NaN</td>\n",
              "      <td>NaN</td>\n",
              "      <td>NaN</td>\n",
              "      <td>NaN</td>\n",
              "      <td>NaN</td>\n",
              "      <td>NaN</td>\n",
              "    </tr>\n",
              "    <tr>\n",
              "      <th>2</th>\n",
              "      <td>AM</td>\n",
              "      <td>Manaus</td>\n",
              "      <td>NaN</td>\n",
              "      <td>NaN</td>\n",
              "      <td>NaN</td>\n",
              "      <td>NaN</td>\n",
              "      <td>NaN</td>\n",
              "      <td>NaN</td>\n",
              "      <td>NaN</td>\n",
              "      <td>NaN</td>\n",
              "      <td>NaN</td>\n",
              "      <td>NaN</td>\n",
              "    </tr>\n",
              "    <tr>\n",
              "      <th>3</th>\n",
              "      <td>AP</td>\n",
              "      <td>Macapá</td>\n",
              "      <td>NaN</td>\n",
              "      <td>NaN</td>\n",
              "      <td>NaN</td>\n",
              "      <td>NaN</td>\n",
              "      <td>NaN</td>\n",
              "      <td>NaN</td>\n",
              "      <td>NaN</td>\n",
              "      <td>NaN</td>\n",
              "      <td>NaN</td>\n",
              "      <td>NaN</td>\n",
              "    </tr>\n",
              "    <tr>\n",
              "      <th>4</th>\n",
              "      <td>BA</td>\n",
              "      <td>Salvador</td>\n",
              "      <td>376.49</td>\n",
              "      <td>395.49</td>\n",
              "      <td>408.06</td>\n",
              "      <td>425.12</td>\n",
              "      <td>410.33</td>\n",
              "      <td>419.18</td>\n",
              "      <td>415.22</td>\n",
              "      <td>418.72</td>\n",
              "      <td>459.33</td>\n",
              "      <td>454.5</td>\n",
              "    </tr>\n",
              "  </tbody>\n",
              "</table>\n",
              "</div>"
            ],
            "text/plain": [
              "  Sigla   Município  P2020.01  P2020.02  ...  P2020.07  P2020.08  P2020.09  P2020.10\n",
              "0    AC  Rio Branco       NaN       NaN  ...       NaN       NaN       NaN       NaN\n",
              "1    AL      Maceió       NaN       NaN  ...       NaN       NaN       NaN       NaN\n",
              "2    AM      Manaus       NaN       NaN  ...       NaN       NaN       NaN       NaN\n",
              "3    AP      Macapá       NaN       NaN  ...       NaN       NaN       NaN       NaN\n",
              "4    BA    Salvador    376.49    395.49  ...    415.22    418.72    459.33     454.5\n",
              "\n",
              "[5 rows x 12 columns]"
            ]
          },
          "metadata": {
            "tags": []
          },
          "execution_count": 536
        }
      ]
    },
    {
      "cell_type": "markdown",
      "metadata": {
        "id": "qMATYo2uVBFQ"
      },
      "source": [
        "Vemos que alguns valores estão perdidos. Será que o DF está nos dados?"
      ]
    },
    {
      "cell_type": "code",
      "metadata": {
        "id": "x41JKYxEVAfr"
      },
      "source": [
        "# Como é a verificação?\r\n",
        "## (D)"
      ],
      "execution_count": 537,
      "outputs": []
    },
    {
      "cell_type": "markdown",
      "metadata": {
        "id": "YrMA5vKXV3Y7"
      },
      "source": [
        "Assim, preparamos os dados para fazer novamente a correlação."
      ]
    },
    {
      "cell_type": "code",
      "metadata": {
        "colab": {
          "base_uri": "https://localhost:8080/"
        },
        "id": "-bSloJM4v71p",
        "outputId": "5c4f8c04-d63e-45c9-e959-621eaa13798a"
      },
      "source": [
        "# Obtém os dados de preços\r\n",
        "## Primeiro separamos os preços corretos\r\n",
        "test_price = df_price.loc[df_price['Sigla'] == \"DF\", \"P2020.03\":\"P2020.10\"]\r\n",
        "## Convertemos em numérico\r\n",
        "test_price = test_price.to_numpy()\r\n",
        "## E depois, em lista simples\r\n",
        "test_price = np.concatenate(np.asarray(test_price))\r\n",
        "## Por fim, vemos a conversão\r\n",
        "print(test_price)"
      ],
      "execution_count": 558,
      "outputs": [
        {
          "output_type": "stream",
          "text": [
            "[484.15 471.17 441.09 450.45 449.96 443.28 445.76 490.48]\n"
          ],
          "name": "stdout"
        }
      ]
    },
    {
      "cell_type": "markdown",
      "metadata": {
        "id": "F5j5ZOrewdtP"
      },
      "source": [
        "Agora, podemos traçar as correlações entre preços e casos:"
      ]
    },
    {
      "cell_type": "code",
      "metadata": {
        "colab": {
          "base_uri": "https://localhost:8080/"
        },
        "id": "l4Qt6gwSwhEj",
        "outputId": "3575e1c7-6166-4c53-bec0-6e0fb61dbe66"
      },
      "source": [
        "## Assim como anteriormente:\r\n",
        "pcorr, psig = sps.pearsonr(test_cases_A, test_price)\r\n",
        "pscorr, pssig = sps.spearmanr(test_cases_A, test_price)\r\n",
        "print('A correlação de Pearson é de %.3f,' % pcorr, \"com significância de %.3f.\" % psig)\r\n",
        "print('A correlação de Spearman é de %.3f.' % pscorr, \"com significância de %.3f.\" % pssig)"
      ],
      "execution_count": 559,
      "outputs": [
        {
          "output_type": "stream",
          "text": [
            "A correlação de Pearson é de -0.548, com significância de 0.159.\n",
            "A correlação de Spearman é de -0.405. com significância de 0.320.\n"
          ],
          "name": "stdout"
        }
      ]
    },
    {
      "cell_type": "markdown",
      "metadata": {
        "id": "vwdcbRvZw1CK"
      },
      "source": [
        "# Desafios\r\n",
        "\r\n",
        "- O mesmo acontece para a Bahia?\r\n",
        "- O mesmo acontece para o Rio de Janeiro?"
      ]
    },
    {
      "cell_type": "markdown",
      "metadata": {
        "id": "pBsvULStw-8J"
      },
      "source": [
        "---\r\n",
        "---\r\n",
        "---\r\n",
        "\r\n",
        "# Testes de média e hipóteses\r\n",
        "\r\n",
        "Primeiro, vamos fazer alguns testes simples (testes T) para descobrir se há diferenças entre as médias de casos de cada estado, ou para cada mês.\r\n",
        "\r\n",
        "Depois, vamos comparar grupos de médias, e verificar se algo pode ter causado uma maior ou menor taxa de casos.\r\n",
        "\r\n",
        "## Médias por estado\r\n",
        "\r\n",
        "Vamos coletar as médias de cada estado para todos os períodos, e testar se são diferentes.\r\n",
        "\r\n",
        "Vamos testar toda a região sudeste.\r\n"
      ]
    },
    {
      "cell_type": "code",
      "metadata": {
        "colab": {
          "base_uri": "https://localhost:8080/",
          "height": 206
        },
        "id": "Hrv5OxAvcU_-",
        "outputId": "91bf612f-6817-4d50-a8ce-ff9ab2afb2cf"
      },
      "source": [
        "# Novamente, revisamos os dados normalizados\r\n",
        "casos_10k_df.head()"
      ],
      "execution_count": 538,
      "outputs": [
        {
          "output_type": "execute_result",
          "data": {
            "text/html": [
              "<div>\n",
              "<style scoped>\n",
              "    .dataframe tbody tr th:only-of-type {\n",
              "        vertical-align: middle;\n",
              "    }\n",
              "\n",
              "    .dataframe tbody tr th {\n",
              "        vertical-align: top;\n",
              "    }\n",
              "\n",
              "    .dataframe thead th {\n",
              "        text-align: right;\n",
              "    }\n",
              "</style>\n",
              "<table border=\"1\" class=\"dataframe\">\n",
              "  <thead>\n",
              "    <tr style=\"text-align: right;\">\n",
              "      <th></th>\n",
              "      <th>2020.02</th>\n",
              "      <th>2020.03</th>\n",
              "      <th>2020.04</th>\n",
              "      <th>2020.05</th>\n",
              "      <th>2020.06</th>\n",
              "      <th>2020.07</th>\n",
              "      <th>2020.08</th>\n",
              "      <th>2020.09</th>\n",
              "      <th>2020.10</th>\n",
              "      <th>2020.11</th>\n",
              "      <th>2020.12</th>\n",
              "      <th>2021.01</th>\n",
              "      <th>Sigla</th>\n",
              "    </tr>\n",
              "  </thead>\n",
              "  <tbody>\n",
              "    <tr>\n",
              "      <th>0</th>\n",
              "      <td>0.0</td>\n",
              "      <td>1.086690</td>\n",
              "      <td>3.351719</td>\n",
              "      <td>27.573123</td>\n",
              "      <td>129.086994</td>\n",
              "      <td>186.812493</td>\n",
              "      <td>182.478825</td>\n",
              "      <td>98.859336</td>\n",
              "      <td>68.736418</td>\n",
              "      <td>52.046561</td>\n",
              "      <td>73.826187</td>\n",
              "      <td>31.929703</td>\n",
              "      <td>DF</td>\n",
              "    </tr>\n",
              "    <tr>\n",
              "      <th>1</th>\n",
              "      <td>0.0</td>\n",
              "      <td>0.091375</td>\n",
              "      <td>1.006531</td>\n",
              "      <td>4.106254</td>\n",
              "      <td>29.069915</td>\n",
              "      <td>61.235334</td>\n",
              "      <td>90.763530</td>\n",
              "      <td>108.110730</td>\n",
              "      <td>64.716020</td>\n",
              "      <td>33.690680</td>\n",
              "      <td>41.406951</td>\n",
              "      <td>19.893049</td>\n",
              "      <td>GO</td>\n",
              "    </tr>\n",
              "    <tr>\n",
              "      <th>2</th>\n",
              "      <td>0.0</td>\n",
              "      <td>0.170855</td>\n",
              "      <td>0.736814</td>\n",
              "      <td>4.392406</td>\n",
              "      <td>23.051235</td>\n",
              "      <td>60.408045</td>\n",
              "      <td>85.431235</td>\n",
              "      <td>73.926975</td>\n",
              "      <td>44.984790</td>\n",
              "      <td>59.503936</td>\n",
              "      <td>123.514181</td>\n",
              "      <td>44.073562</td>\n",
              "      <td>MS</td>\n",
              "    </tr>\n",
              "    <tr>\n",
              "      <th>3</th>\n",
              "      <td>0.0</td>\n",
              "      <td>0.070897</td>\n",
              "      <td>0.771364</td>\n",
              "      <td>6.046134</td>\n",
              "      <td>37.453704</td>\n",
              "      <td>102.741746</td>\n",
              "      <td>111.964086</td>\n",
              "      <td>90.947247</td>\n",
              "      <td>55.260307</td>\n",
              "      <td>43.193561</td>\n",
              "      <td>60.387611</td>\n",
              "      <td>38.644781</td>\n",
              "      <td>MT</td>\n",
              "    </tr>\n",
              "    <tr>\n",
              "      <th>4</th>\n",
              "      <td>0.0</td>\n",
              "      <td>0.053707</td>\n",
              "      <td>3.061277</td>\n",
              "      <td>27.581326</td>\n",
              "      <td>76.603523</td>\n",
              "      <td>70.901671</td>\n",
              "      <td>56.926019</td>\n",
              "      <td>24.093380</td>\n",
              "      <td>11.666268</td>\n",
              "      <td>12.516623</td>\n",
              "      <td>29.341709</td>\n",
              "      <td>14.626099</td>\n",
              "      <td>AL</td>\n",
              "    </tr>\n",
              "  </tbody>\n",
              "</table>\n",
              "</div>"
            ],
            "text/plain": [
              "   2020.02   2020.03   2020.04  ...     2020.12    2021.01  Sigla\n",
              "0      0.0  1.086690  3.351719  ...   73.826187  31.929703     DF\n",
              "1      0.0  0.091375  1.006531  ...   41.406951  19.893049     GO\n",
              "2      0.0  0.170855  0.736814  ...  123.514181  44.073562     MS\n",
              "3      0.0  0.070897  0.771364  ...   60.387611  38.644781     MT\n",
              "4      0.0  0.053707  3.061277  ...   29.341709  14.626099     AL\n",
              "\n",
              "[5 rows x 13 columns]"
            ]
          },
          "metadata": {
            "tags": []
          },
          "execution_count": 538
        }
      ]
    },
    {
      "cell_type": "code",
      "metadata": {
        "id": "26eVY7wYdy9d"
      },
      "source": [
        "# Extraimos algumas médias\r\n",
        "casos_SP = casos_10k_df.loc[casos_10k_df['Sigla'] == \"SP\", '2020.03':'2020.10']\r\n",
        "casos_MG = casos_10k_df.loc[casos_10k_df['Sigla'] == \"MG\", '2020.03':'2020.10']\r\n",
        "casos_RJ = casos_10k_df.loc[casos_10k_df['Sigla'] == \"RJ\", '2020.03':'2020.10']\r\n",
        "casos_ES = casos_10k_df.loc[casos_10k_df['Sigla'] == \"ES\", '2020.03':'2020.10']"
      ],
      "execution_count": 539,
      "outputs": []
    },
    {
      "cell_type": "code",
      "metadata": {
        "colab": {
          "base_uri": "https://localhost:8080/"
        },
        "id": "YSodYI-GeGv7",
        "outputId": "fb91ac3f-8aa2-4006-9459-a185bf0a4da6"
      },
      "source": [
        "# Finalmente, fazemos um teste T:\r\n",
        "sps.ttest_ind(casos_SP, casos_MG)"
      ],
      "execution_count": 540,
      "outputs": [
        {
          "output_type": "stream",
          "text": [
            "/usr/local/lib/python3.6/dist-packages/numpy/core/fromnumeric.py:3622: RuntimeWarning: Degrees of freedom <= 0 for slice\n",
            "  **kwargs)\n",
            "/usr/local/lib/python3.6/dist-packages/numpy/core/_methods.py:224: RuntimeWarning: invalid value encountered in true_divide\n",
            "  ret, rcount, out=ret, casting='unsafe', subok=False)\n"
          ],
          "name": "stderr"
        },
        {
          "output_type": "execute_result",
          "data": {
            "text/plain": [
              "Ttest_indResult(statistic=array([nan, nan, nan, nan, nan, nan, nan, nan]), pvalue=array([nan, nan, nan, nan, nan, nan, nan, nan]))"
            ]
          },
          "metadata": {
            "tags": []
          },
          "execution_count": 540
        }
      ]
    },
    {
      "cell_type": "code",
      "metadata": {
        "id": "jQ-Tj1VKeL80"
      },
      "source": [
        "# É necessário, novamente, converter para numérico.\r\n",
        "## Vamos fazer uma função que faça isso raidamente\r\n",
        "def ToArray(DataframeRow):\r\n",
        "  Array = np.concatenate(np.asarray(DataframeRow))\r\n",
        "  return(Array)"
      ],
      "execution_count": 541,
      "outputs": []
    },
    {
      "cell_type": "code",
      "metadata": {
        "colab": {
          "base_uri": "https://localhost:8080/"
        },
        "id": "M2Nnj1HaeiXx",
        "outputId": "49f3c929-0a4f-4149-aebf-039b8901bcdd"
      },
      "source": [
        "# Então, aplicamos a função para transformar os dados:\r\n",
        "casos_array_SP = ToArray(casos_SP)\r\n",
        "casos_array_RJ = ToArray(casos_RJ)\r\n",
        "print(len(casos_array_SP), casos_array_SP)"
      ],
      "execution_count": 542,
      "outputs": [
        {
          "output_type": "stream",
          "text": [
            "8 [ 0.50486794  5.69440048 17.49863192 37.08889044 56.36806216 56.60872236\n",
            " 39.1636665  28.19202428]\n"
          ],
          "name": "stdout"
        }
      ]
    },
    {
      "cell_type": "code",
      "metadata": {
        "colab": {
          "base_uri": "https://localhost:8080/"
        },
        "id": "-hkOrnXkepn2",
        "outputId": "aadb655a-75c8-4680-c9c8-6a606861f772"
      },
      "source": [
        "# Finalmente, aplicamos o teste T\r\n",
        "sps.ttest_ind(casos_array_SP, casos_array_RJ)"
      ],
      "execution_count": 543,
      "outputs": [
        {
          "output_type": "execute_result",
          "data": {
            "text/plain": [
              "Ttest_indResult(statistic=0.8943298812644624, pvalue=0.3862624961920432)"
            ]
          },
          "metadata": {
            "tags": []
          },
          "execution_count": 543
        }
      ]
    },
    {
      "cell_type": "markdown",
      "metadata": {
        "id": "JoIocQjte42y"
      },
      "source": [
        "É evidente que não houve significância. Vamos testar os outros estados\r\n",
        "do sudeste."
      ]
    },
    {
      "cell_type": "code",
      "metadata": {
        "colab": {
          "base_uri": "https://localhost:8080/"
        },
        "id": "BnDKk4oZfeHt",
        "outputId": "9d316cd3-ecc8-40cd-e31d-a40311e4f33a"
      },
      "source": [
        "ttest_SPxMG, pvalSPxMG = sps.ttest_ind(ToArray(casos_SP), ToArray(casos_MG))\r\n",
        "ttest_SPxES, pvalSPxES = sps.ttest_ind(ToArray(casos_SP), ToArray(casos_ES))\r\n",
        "\r\n",
        "print(\"Significância para SPxMG: \", pvalSPxMG)\r\n",
        "print(\"Significância para SPxMG: \", pvalSPxES)"
      ],
      "execution_count": 544,
      "outputs": [
        {
          "output_type": "stream",
          "text": [
            "Significância para SPxMG:  0.3714067974023819\n",
            "Significância para SPxMG:  0.22729488334588502\n"
          ],
          "name": "stdout"
        }
      ]
    },
    {
      "cell_type": "markdown",
      "metadata": {
        "id": "HrV6ATHKf6_n"
      },
      "source": [
        "Certo. Agora vamos testar diversas regiões, com outra biblioteca: O Scipy, que permite colocar vários tratamentos de uma só vez em uma análise de variância:\r\n"
      ]
    },
    {
      "cell_type": "code",
      "metadata": {
        "colab": {
          "base_uri": "https://localhost:8080/"
        },
        "id": "0a27MRRUhm4A",
        "outputId": "815dda00-868a-4bb1-8b65-f1d52d5d3c4a"
      },
      "source": [
        "## Lembre-se da biblioteca SciPy (importada como sps):\r\n",
        "sps.f_oneway(\r\n",
        "    ToArray(casos_SP), ToArray(casos_RJ), ToArray(casos_MG), ToArray(casos_ES)\r\n",
        ")"
      ],
      "execution_count": 545,
      "outputs": [
        {
          "output_type": "execute_result",
          "data": {
            "text/plain": [
              "F_onewayResult(statistic=2.370488473954361, pvalue=0.09179943042272258)"
            ]
          },
          "metadata": {
            "tags": []
          },
          "execution_count": 545
        }
      ]
    },
    {
      "cell_type": "markdown",
      "metadata": {
        "id": "MBa_BNBKiM0_"
      },
      "source": [
        "Neste exemplo, não há diferença entre nenhum dos grupos.\r\n",
        "Vamos colocar, agora, a região centro-oeste.\r\n",
        "\r\n",
        "Antes, vamos facilitar nossa vida com as transformações, criando uma função que extraia o valor exatamente da nossa tabela:"
      ]
    },
    {
      "cell_type": "code",
      "metadata": {
        "colab": {
          "base_uri": "https://localhost:8080/"
        },
        "id": "zr-Hhc7piiDC",
        "outputId": "c60999c0-f440-4604-ee3a-c19ff54aae48"
      },
      "source": [
        "# Para extrair um estado, lembre do que fizemos:\r\n",
        "## Primeiro, extrai da tabela:\r\n",
        "### casos_SP = casos_10k_df.loc[casos_10k_df['Sigla'] == \"SP\", '2020.03':'2020.10']\r\n",
        "## Depois, transforma em array:\r\n",
        "### ToArray(casos_SP)\r\n",
        "\r\n",
        "# [.. Função que faça os dois ao mesmo tempo .. ] #\r\n",
        "def StateArray(state):\r\n",
        "  cases = casos_10k_df.loc[casos_10k_df['Sigla'] == state, '2020.03':'2020.10']\r\n",
        "  arrayCases = ToArray(cases).tolist()\r\n",
        "  return(arrayCases)\r\n",
        "\r\n",
        "## Então, teste a função:\r\n",
        "StateArray(\"AM\")"
      ],
      "execution_count": 546,
      "outputs": [
        {
          "output_type": "execute_result",
          "data": {
            "text/plain": [
              "[0.41590279187226126,\n",
              " 12.070687313824086,\n",
              " 85.85184259196323,\n",
              " 69.97861546673562,\n",
              " 71.5756821875251,\n",
              " 46.00122536845422,\n",
              " 45.226457881880755,\n",
              " 53.133364102217975]"
            ]
          },
          "metadata": {
            "tags": []
          },
          "execution_count": 546
        }
      ]
    },
    {
      "cell_type": "code",
      "metadata": {
        "colab": {
          "base_uri": "https://localhost:8080/"
        },
        "id": "kZQCpTVuiRGw",
        "outputId": "2417d0ee-268a-4306-a42b-fca7a11dff3c"
      },
      "source": [
        "## Lembre-se da biblioteca SciPy (importada como sps):\r\n",
        "sps.f_oneway(\r\n",
        "    StateArray(\"SP\"), StateArray(\"RJ\"), StateArray(\"MG\"), StateArray(\"ES\"),\r\n",
        "    StateArray(\"MS\"), StateArray(\"MT\"), StateArray(\"GO\"), StateArray(\"DF\")\r\n",
        ")"
      ],
      "execution_count": 547,
      "outputs": [
        {
          "output_type": "execute_result",
          "data": {
            "text/plain": [
              "F_onewayResult(statistic=2.2488163200868136, pvalue=0.043411809309380274)"
            ]
          },
          "metadata": {
            "tags": []
          },
          "execution_count": 547
        }
      ]
    },
    {
      "cell_type": "markdown",
      "metadata": {
        "id": "9Vu6BnmWjiRw"
      },
      "source": [
        "Aha! Agora já temos a significância! Porém, onde ela está?\r\n",
        "\r\n",
        "Iremos descobrir isso com um teste \"post-hoc\", ou \"pós-análise\", com o pacote `statsmodel`.\r\n",
        "\r\n",
        "Para tanto, vamos alimentar os mesmos dados:\r\n"
      ]
    },
    {
      "cell_type": "code",
      "metadata": {
        "colab": {
          "base_uri": "https://localhost:8080/"
        },
        "id": "oFFi9AKtlbym",
        "outputId": "4a99718f-e0a2-4412-9855-f466f7af1dd4"
      },
      "source": [
        "## Separa os dados\r\n",
        "dados_teste_tukey = np.array([StateArray(\"SP\") + StateArray(\"RJ\") + StateArray(\"MT\") + StateArray(\"GO\")])\r\n",
        "\r\n",
        "## Descobre o tamanho\r\n",
        "len(dados_teste_tukey[0])\r\n",
        "\r\n",
        "## Cria os grupos\r\n",
        "grupos_tukey = np.repeat([\"SE\", \"CO\"], 16)\r\n",
        "print(stats.pairwise_tukeyhsd(dados_teste_tukey[0], groups=grupos_tukey, alpha=0.05))\r\n"
      ],
      "execution_count": 548,
      "outputs": [
        {
          "output_type": "stream",
          "text": [
            "Multiple Comparison of Means - Tukey HSD, FWER=0.05 \n",
            "====================================================\n",
            "group1 group2 meandiff p-adj   lower   upper  reject\n",
            "----------------------------------------------------\n",
            "    CO     SE -21.5463 0.0744 -45.3501 2.2574  False\n",
            "----------------------------------------------------\n"
          ],
          "name": "stdout"
        },
        {
          "output_type": "stream",
          "text": [
            "/usr/local/lib/python3.6/dist-packages/numpy/core/fromnumeric.py:87: VisibleDeprecationWarning: Creating an ndarray from ragged nested sequences (which is a list-or-tuple of lists-or-tuples-or ndarrays with different lengths or shapes) is deprecated. If you meant to do this, you must specify 'dtype=object' when creating the ndarray\n",
            "  return ufunc.reduce(obj, axis, dtype, out, **passkwargs)\n"
          ],
          "name": "stderr"
        }
      ]
    },
    {
      "cell_type": "markdown",
      "metadata": {
        "id": "s0MQ1bjq0JiC"
      },
      "source": [
        "---\r\n",
        "---\r\n",
        "---\r\n",
        "\r\n",
        "# Conclusões\r\n",
        "\r\n",
        "- Sobre correlação: algumas correlações fracas foram detectadas entre a taxa de desempregados e casos de COVID no Distrito Federal\r\n",
        "- No Sudeste, as médias foram as mesmas para casos de COVID a cada 10.000 pessoas.\r\n",
        "- Comparando Sudeste e Centro-Oeste, há diferenças significativas nas médias mensais de casos.\r\n",
        "\r\n",
        "---\r\n",
        "---\r\n",
        "---"
      ]
    },
    {
      "cell_type": "markdown",
      "metadata": {
        "id": "HYV-ohj_sdLf"
      },
      "source": [
        "# Desafios\r\n",
        "\r\n",
        "Conseguiremos incluir todos os estados em testes post-hoc? Possivelmente, repetindo o processo para cada região."
      ]
    },
    {
      "cell_type": "code",
      "metadata": {
        "id": "_JVPTrsPt2IH"
      },
      "source": [
        "## Cria um dicionário vazio:\r\n",
        "estados_regiao = {}\r\n",
        "\r\n",
        "## Cria um dicionário de cada região\r\n",
        "for regiao in df_brdat['Regiao']:\r\n",
        "  # print(regiao)\r\n",
        "  estados_regiao[regiao] = df_brdat['Sigla'][df_brdat['Regiao'] == regiao]\r\n",
        "\r\n",
        "## Testa, verificando se saiu tudo certo:\r\n",
        "print(estados_regiao)"
      ],
      "execution_count": null,
      "outputs": []
    },
    {
      "cell_type": "markdown",
      "metadata": {
        "id": "P49DPnp5pKXr"
      },
      "source": [
        "# Desafios\r\n",
        "\r\n",
        "Vamos testar alguns outros grupos da planilha \"brasil.csv\":\r\n",
        "1. Se é litorâneo ou não;\r\n",
        "2. Se há fronteiras ou não;\r\n",
        "3. Categorias de IDH."
      ]
    },
    {
      "cell_type": "markdown",
      "metadata": {
        "id": "g17KMqRgDvoA"
      },
      "source": [
        "# Recomendações finais\r\n",
        "\r\n",
        "Eu sou o tipo de pessoa que odeia ficar superficialmente em assuntos, especialmente assuntos importantes. Assim, selecionei a dedo algumas coisas que podem ajudar em algumas áreas.\r\n",
        "\r\n",
        "## Se ensine ciências da computação\r\n",
        "\r\n",
        "- [TYCS](https://teachyourselfcs.com/)\r\n",
        "\r\n",
        "## Trechos de estatística\r\n",
        "\r\n",
        "- [Machine Learning Mastery with Python](https://machinelearningmastery.com/how-to-use-correlation-to-understand-the-relationship-between-variables/)\r\n",
        "- [Anova \"Two-Way\"](https://www.statology.org/two-way-anova-python/)\r\n",
        "\r\n",
        "# Convite final: o projeto Rosalind\r\n",
        "\r\n",
        "http://rosalind.info/about/\r\n",
        "\r\n",
        "![Rosalind01](https://i.imgur.com/q54CCwa.png)\r\n"
      ]
    }
  ]
}